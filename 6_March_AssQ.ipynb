{
  "nbformat": 4,
  "nbformat_minor": 0,
  "metadata": {
    "colab": {
      "provenance": []
    },
    "kernelspec": {
      "name": "python3",
      "display_name": "Python 3"
    },
    "language_info": {
      "name": "python"
    }
  },
  "cells": [
    {
      "cell_type": "markdown",
      "source": [
        "Ques 1"
      ],
      "metadata": {
        "id": "GVETEzAR6kLd"
      }
    },
    {
      "cell_type": "markdown",
      "source": [
        "Statistics is the study of the collection, analysis, interpretation, presentation, and organization of data. In other words, it is a mathematical discipline to collect, summarize data."
      ],
      "metadata": {
        "id": "65SLCcq26lvk"
      }
    },
    {
      "cell_type": "markdown",
      "source": [
        "Ques 2"
      ],
      "metadata": {
        "id": "wqVhyph_6mfL"
      }
    },
    {
      "cell_type": "markdown",
      "source": [
        "Descriptive statistics is a way to organise, represent and describe a collection of data using tables, graphs, and summary measures. For example, the collection of people in a city using the internet or using Television.\n",
        "\n",
        "Descriptive statistics are also categorised into four different categories:\n",
        "\n",
        "Measure of frequency\n",
        "Measure of dispersion\n",
        "Measure of central tendency\n",
        "Measure of position\n",
        "The frequency measurement displays the number of times a particular data occurs. Range, Variance, Standard Deviation are measures of dispersion. It identifies the spread of data. Central tendencies are the mean, median and mode of the data. And the measure of position describes the percentile and quartile ranks."
      ],
      "metadata": {
        "id": "fv6keyY_6n_2"
      }
    },
    {
      "cell_type": "markdown",
      "source": [
        "Inferential Statistics\n",
        "This type of statistics is used to interpret the meaning of Descriptive statistics. That means once the data has been collected, analysed and summarised then we use these stats to describe the meaning of the collected data. Or we can say, it is used to draw conclusions from the data that depends on random variations such as observational errors, sampling variation, etc.\n",
        "\n",
        "Inferential Statistics is a method that allows us to use information collected from a sample to make decisions, predictions or inferences from a population. It grants us permission to give statements that goes beyond the available data or information. For example, deriving estimates from hypothetical research."
      ],
      "metadata": {
        "id": "xtOB5hvR-uOD"
      }
    },
    {
      "cell_type": "markdown",
      "source": [
        "Ques 3"
      ],
      "metadata": {
        "id": "Q3cqmGT3_LOp"
      }
    },
    {
      "cell_type": "markdown",
      "source": [
        "Nominal Data\n",
        "\n",
        "Nominal Data is used to label variables without any order or quantitative value. The color of hair can be considered nominal data, as one color can’t be compared with another color.\n",
        "\n",
        "The name “nominal” comes from the Latin name “nomen,” which means “name.” With the help of nominal data, we can’t do any numerical tasks or can’t give any order to sort the data. These data don’t have any meaningful order; their values are distributed into distinct categories.\n",
        "\n",
        "Examples of Nominal Data :\n",
        "\n",
        "Colour of hair (Blonde, red, Brown, Black, etc.)\n",
        "Marital status (Single, Widowed, Married)\n",
        "Nationality (Indian, German, American)\n",
        "Gender (Male, Female, Others)\n",
        "Eye Color (Black, Brown, etc.)"
      ],
      "metadata": {
        "id": "MLwMOn8R_NWD"
      }
    },
    {
      "cell_type": "markdown",
      "source": [
        "Ordinal Data\n",
        "\n",
        "Ordinal data have natural ordering where a number is present in some kind of order by their position on the scale. These data are used for observation like customer satisfaction, happiness, etc., but we can’t do any arithmetical tasks on them. \n",
        "\n",
        "Ordinal data is qualitative data for which their values have some kind of relative position. These kinds of data can be considered “in-between” qualitative and quantitative data. The ordinal data only shows the sequences and cannot use for statistical analysis. Compared to nominal data, ordinal data have some kind of order that is not present in nominal data.  \n",
        "\n",
        "Examples of Ordinal Data :\n",
        "When companies ask for feedback, experience, or satisfaction on a scale of 1 to 10\n",
        "Letter grades in the exam (A, B, C, D, etc.)\n",
        "Ranking of people in a competition (First, Second, Third, etc.)\n",
        "Economic Status (High, Medium, and Low)\n",
        "Education Level (Higher, Secondary, Primary)"
      ],
      "metadata": {
        "id": "xGqzHcdk_tDo"
      }
    },
    {
      "cell_type": "markdown",
      "source": [
        "Discrete Data\n",
        "\n",
        "The term discrete means distinct or separate. The discrete data contain the values that fall under integers or whole numbers. The total number of students in a class is an example of discrete data. These data can’t be broken into decimal or fraction values.\n",
        "\n",
        "The discrete data are countable and have finite values; their subdivision is not possible. These data are represented mainly by a bar graph, number line, or frequency table.\n",
        "\n",
        "Examples of Discrete Data : \n",
        "Total numbers of students present in a class\n",
        "Cost of a cell phone\n",
        "Numbers of employees in a company\n",
        "The total number of players who participated in a competition\n",
        "Days in a week\n"
      ],
      "metadata": {
        "id": "ZG40sxXY_2O5"
      }
    },
    {
      "cell_type": "markdown",
      "source": [
        "Continuous Data\n",
        "\n",
        "Continuous data are in the form of fractional numbers. It can be the version of an android phone, the height of a person, the length of an object, etc. Continuous data represents information that can be divided into smaller levels. The continuous variable can take any value within a range. \n",
        "\n",
        "The key difference between discrete and continuous data is that discrete data contains the integer or whole number. Still, continuous data stores the fractional numbers to record different types of data such as temperature, height, width, time, speed, etc.\n",
        "\n",
        "Examples of Continuous Data : \n",
        "Height of a person\n",
        "Speed of a vehicle\n",
        "“Time-taken” to finish the work \n",
        "Wi-Fi Frequency\n",
        "Market share price"
      ],
      "metadata": {
        "id": "zfi037GL_2yT"
      }
    },
    {
      "cell_type": "markdown",
      "source": [
        "Ques 4"
      ],
      "metadata": {
        "id": "rzeyp2smTZpO"
      }
    },
    {
      "cell_type": "markdown",
      "source": [
        "i) Qualitative\n",
        "ii) Qualitative\n",
        "iii) Quantitative\n",
        "iv) Quantitative"
      ],
      "metadata": {
        "id": "6ZGSYslETa7p"
      }
    },
    {
      "cell_type": "markdown",
      "source": [
        "Ques 5"
      ],
      "metadata": {
        "id": "ln5PeKVMT899"
      }
    },
    {
      "cell_type": "markdown",
      "source": [
        "The first level of measurement is nominal level of measurement.  In this level of measurement, the numbers in the variable are used only to classify the data.  In this level of measurement, words, letters, and alpha-numeric symbols can be used.  Suppose there are data about people belonging to three different gender categories. In this case, the person belonging to the female gender could be classified as F, the person belonging to the male gender could be classified as M, and transgendered classified as T.  This type of assigning classification is nominal level of measurement.\n",
        "\n",
        "The second level of measurement is the ordinal level of measurement.  This level of measurement depicts some ordered relationship among the variable’s observations.  Suppose a student scores the highest grade of 100 in the class.  In this case, he would be assigned the first rank.  Then, another classmate scores the second highest grade of an 92; she would be assigned the second rank.  A third student scores a 81 and he would be assigned the third rank, and so on.   The ordinal level of measurement indicates an ordering of the measurements.\n",
        "\n",
        "The third level of measurement is the interval level of measurement.  The interval level of measurement not only classifies and orders the measurements, but it also specifies that the distances between each interval on the scale are equivalent along the scale from low interval to high interval.  For example, an interval level of measurement could be the measurement of anxiety in a student between the score of 10 and 11, this interval is the same as that of a student who scores between 40 and 41.   A popular example of this level of measurement is temperature in centigrade, where, for example, the distance between 940C and 960C is the same as the distance between 1000C and 1020C.\n",
        "\n",
        "The fourth level of measurement is the ratio level of measurement.  In this level of measurement, the observations, in addition to having equal intervals, can have a value of zero as well.  The zero in the scale makes this type of measurement unlike the other types of measurement, although the properties are similar to that of the interval level of measurement.  In the ratio level of measurement, the divisions between the points on the scale have an equivalent distance between them."
      ],
      "metadata": {
        "id": "aM55YfXeT-M5"
      }
    },
    {
      "cell_type": "markdown",
      "source": [
        "Ques 6"
      ],
      "metadata": {
        "id": "GFfG7IFYVGie"
      }
    },
    {
      "cell_type": "markdown",
      "source": [
        "First, knowing the level of measurement helps you decide how to interpret the data from that variable. When you know that a measure is nominal (like M for male and F for female), then you know that the numerical values are just short codes for the longer names. \n",
        "Second, knowing the level of measurement helps you decide what statistical analysis is appropriate on the values that were assigned. If a measure is nominal, then you know that you would never average the data values or do a t-test on the data."
      ],
      "metadata": {
        "id": "DLi9cS27VIZp"
      }
    },
    {
      "cell_type": "markdown",
      "source": [
        "Ques 7"
      ],
      "metadata": {
        "id": "OuDOPZrRWU14"
      }
    },
    {
      "cell_type": "markdown",
      "source": [
        "Nominal data is classified without a natural order or rank, whereas ordinal data has a predetermined or natural order. On the other hand, numerical or quantitative data will always be a number that can be measured.\n",
        "The presence or absence of pain would be considered nominal data, while the severity of pain represented by categories such as none, mild, moderate, or severe would be ordinal data."
      ],
      "metadata": {
        "id": "jOm-MIVhWZiA"
      }
    },
    {
      "cell_type": "markdown",
      "source": [
        "Ques 8"
      ],
      "metadata": {
        "id": "uZsm9T7-Wx2a"
      }
    },
    {
      "cell_type": "markdown",
      "source": [
        "A histogram is a graphical representation of data points organized into user-specified ranges. Similar in appearance to a bar graph, the histogram condenses a data series into an easily interpreted visual by taking many data points and grouping them into logical ranges or bins."
      ],
      "metadata": {
        "id": "O5chuTONWzJ2"
      }
    },
    {
      "cell_type": "markdown",
      "source": [
        "Ques 9"
      ],
      "metadata": {
        "id": "SNqPEG5lXKxl"
      }
    },
    {
      "cell_type": "markdown",
      "source": [
        "Descriptive statistics are used to describe the characteristics or features of a dataset. The term ‘descriptive statistics’ can be used to describe both individual quantitative observations (also known as ‘summary statistics’) as well as the overall process of obtaining insights from these data. We can use descriptive statistics to describe both an entire population or an individual sample. Because they are merely explanatory, descriptive statistics are not heavily concerned with the differences between the two types of data.\n",
        "\n",
        "So what measures do descriptive statistics look at? While there are many, important ones include:\n",
        "\n",
        "Distribution\n",
        "Central tendency\n",
        "Variability"
      ],
      "metadata": {
        "id": "Wx7bgjgKXL7H"
      }
    },
    {
      "cell_type": "markdown",
      "source": [
        "Meanwhile, inferential statistics focus on making generalizations about a larger population based on a representative sample of that population. Because inferential statistics focuses on making predictions (rather than stating facts) its results are usually in the form of a probability.\n",
        "\n",
        "Unsurprisingly, the accuracy of inferential statistics relies heavily on the sample data being both accurate and representative of the larger population. To do this involves obtaining a random sample."
      ],
      "metadata": {
        "id": "S_lWiy-9Xid-"
      }
    },
    {
      "cell_type": "markdown",
      "source": [
        "Ques 10"
      ],
      "metadata": {
        "id": "quE2kCrAYDqW"
      }
    },
    {
      "cell_type": "markdown",
      "source": [
        "Central tendency is the name for measurements that look at the typical central values within a dataset. This does not just refer to the central value within an entire dataset, which is called the median. Rather, it is a general term used to describe a variety of central measurements. For instance, it might include central measurements from different quartiles of a larger dataset. Common measures of central tendency include:\n",
        "\n",
        "The mean: The average value of all the data points.\n",
        "The median: The central or middle value in the dataset.\n",
        "The mode: The value that appears most often in the dataset."
      ],
      "metadata": {
        "id": "J9Y746IhYEz9"
      }
    },
    {
      "cell_type": "markdown",
      "source": [
        "The variability, or dispersion, of a dataset, describes how values are distributed or spread out. Identifying variability relies on understanding the central tendency measurements of a dataset. However, like central tendency, variability is not just one measure. It is a term used to describe a range of measurements. Common measures of variability include:\n",
        "\n",
        "Standard deviation: This shows us the amount of variation or dispersion. Low standard deviation implies that most values are close to the mean. High standard deviation suggests that the values are more broadly spread out.\n",
        "\n",
        "Minimum and maximum values: These are the highest and lowest values in a dataset or quartile. Using the example of our hair color dataset again, the minimum and maximum values are 13 and 130 respectively.\n",
        "\n",
        "Range: This measures the size of the distribution of values. This can be easily determined by subtracting the smallest value from the largest. So, in our hair color dataset, the range is 117 (130 minus 13).\n",
        "\n",
        "Kurtosis: This measures whether or not the tails of a given distribution contain extreme values (also known as outliers). If a tail lacks outliers, we can say that it has low kurtosis. If a dataset has a lot of outliers, we can say it has high kurtosis.\n",
        "\n",
        "Skewness: This is a measure of a dataset’s symmetry. If you were to plot a bell-curve and the right-hand tail was longer and fatter, we would call this positive skewness. If the left-hand tail is longer and fatter, we call this negative skewness.\n"
      ],
      "metadata": {
        "id": "qPXZa-MZYFdu"
      }
    }
  ]
}