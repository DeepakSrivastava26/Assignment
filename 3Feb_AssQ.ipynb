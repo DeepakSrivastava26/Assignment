{
  "nbformat": 4,
  "nbformat_minor": 0,
  "metadata": {
    "colab": {
      "provenance": []
    },
    "kernelspec": {
      "name": "python3",
      "display_name": "Python 3"
    },
    "language_info": {
      "name": "python"
    }
  },
  "cells": [
    {
      "cell_type": "markdown",
      "source": [
        "Question 1\n"
      ],
      "metadata": {
        "id": "O_7iqoAUEnXy"
      }
    },
    {
      "cell_type": "markdown",
      "source": [
        "def keyword"
      ],
      "metadata": {
        "id": "fAXA3IZvN-nz"
      }
    },
    {
      "cell_type": "code",
      "source": [
        "def oddnumbers(lst):\n",
        "  for i in lst:\n",
        "    if i%2==0:\n",
        "      next\n",
        "    else:\n",
        "      res.append(i)\n",
        "lst = list((range(1,26)))\n",
        "res=[]\n",
        "oddnumbers(lst)\n",
        "print(res)\n",
        "\n"
      ],
      "metadata": {
        "colab": {
          "base_uri": "https://localhost:8080/"
        },
        "id": "18f-sA7-E0IH",
        "outputId": "08337d11-9557-4002-a617-2a229c222704"
      },
      "execution_count": null,
      "outputs": [
        {
          "output_type": "stream",
          "name": "stdout",
          "text": [
            "[1, 3, 5, 7, 9, 11, 13, 15, 17, 19, 21, 23, 25]\n"
          ]
        }
      ]
    },
    {
      "cell_type": "markdown",
      "source": [
        "Question2"
      ],
      "metadata": {
        "id": "v9Rx1v-_LtI_"
      }
    },
    {
      "cell_type": "markdown",
      "source": [
        "*args allows us to pass a variable number of non-keyword arguments to a Python function. In the function, we should use an asterisk (*) before the parameter name to pass a variable number of arguments.\n",
        "**kwargs allows us to pass a variable number of keyword arguments to a Python function. In the function, we use the double-asterisk (**) before the parameter name to denote this type of argument.\n"
      ],
      "metadata": {
        "id": "nktkfHLkK-56"
      }
    },
    {
      "cell_type": "code",
      "source": [
        "def add(*numbers):\n",
        "    total = 0\n",
        "    for num in numbers:\n",
        "        total += num\n",
        "    return total\n",
        "\n",
        "\n",
        "print(add(2, 3))\n",
        "print(add(2, 3, 5))\n",
        "print(add(2, 3, 5, 7))\n",
        "print(add(2, 3, 5, 7, 9))"
      ],
      "metadata": {
        "id": "QseSX0lHMQvl"
      },
      "execution_count": null,
      "outputs": []
    },
    {
      "cell_type": "code",
      "source": [
        "def total_fruits(**fruits):\n",
        "    total = 0\n",
        "    for amount in fruits.values():\n",
        "        total += amount\n",
        "    return total\n",
        "\n",
        "\n",
        "print(total_fruits(banana=5, mango=7, apple=8))\n",
        "print(total_fruits(banana=5, mango=7, apple=8, oranges=10))\n",
        "print(total_fruits(banana=5, mango=7))"
      ],
      "metadata": {
        "id": "uqZrJPxKMRGx"
      },
      "execution_count": null,
      "outputs": []
    },
    {
      "cell_type": "markdown",
      "source": [
        "Question 3"
      ],
      "metadata": {
        "id": "hntAzNA0Nvt0"
      }
    },
    {
      "cell_type": "markdown",
      "source": [
        "Iterator in Python is an object that is used to iterate over iterable objects like lists, tuples, dicts, and sets. The iterator object is initialized using the iter() method. It uses the next() method for iteration.\n",
        "\n",
        "__iter__(): The iter() method is called for the initialization of an iterator. This returns an iterator object\n",
        "\n",
        "__next__(): The next method returns the next value for the iterable. When we use a for loop to traverse any iterable object, internally it uses the iter() method to get an iterator object, which further uses the next() method to iterate over. This method raises a StopIteration to signal the end of the iteration."
      ],
      "metadata": {
        "id": "p1r-IT6uH_hR"
      }
    },
    {
      "cell_type": "code",
      "source": [
        "list= [2, 4, 6, 8, 10, 12, 14, 16, 18, 20]\n",
        "iterator = iter(list)\n",
        "for i in list:\n",
        "  if i==list[5]:\n",
        "    break\n",
        "  print(next(iterator))\n",
        "  i+=1\n",
        "\n"
      ],
      "metadata": {
        "colab": {
          "base_uri": "https://localhost:8080/"
        },
        "id": "glabRIuuJGqY",
        "outputId": "8532df7d-7276-4301-bc63-e47563c9d589"
      },
      "execution_count": null,
      "outputs": [
        {
          "output_type": "stream",
          "name": "stdout",
          "text": [
            "2\n",
            "4\n",
            "6\n",
            "8\n",
            "10\n"
          ]
        }
      ]
    },
    {
      "cell_type": "markdown",
      "source": [
        "Question 4"
      ],
      "metadata": {
        "id": "jZCev6BgIGgQ"
      }
    },
    {
      "cell_type": "markdown",
      "source": [
        "In Python, a generator is a function that returns an iterator that produces a sequence of values when iterated over.\n",
        "\n",
        "Generators are useful when we want to produce a large sequence of values, but we don't want to store all of them in memory at once."
      ],
      "metadata": {
        "id": "3CTZjTsuM8Vm"
      }
    },
    {
      "cell_type": "markdown",
      "source": [
        "The yield keyword in Python is similar to a return statement used for returning values in Python which returns a generator object to the one who calls the function which contains yield, instead of simply returning a value. The main difference between them is, the return statement terminates the execution of the function. Whereas, the yield statement only pauses the execution of the function. Another difference is return statements are never executed. whereas, yield statements are executed when the function resumes its execution."
      ],
      "metadata": {
        "id": "lXSfZPT6M-kk"
      }
    },
    {
      "cell_type": "code",
      "source": [
        "def fun_generator():\n",
        "\tyield \"Hello world!!\"\n",
        "\tyield \"PWSKILLS\"\n",
        "\n",
        "\n",
        "obj = fun_generator()\n",
        "\n",
        "print(type(obj))\n",
        "\n",
        "print(next(obj))\n",
        "print(next(obj))\n"
      ],
      "metadata": {
        "id": "3ldGlRAo5J_0"
      },
      "execution_count": null,
      "outputs": []
    },
    {
      "cell_type": "markdown",
      "source": [
        "Question 5"
      ],
      "metadata": {
        "id": "P_mL-gTy5eLX"
      }
    },
    {
      "cell_type": "code",
      "source": [
        "def isPrime(num):\n",
        "  for i in range(2,num):\n",
        "    if(num%i==0):\n",
        "      return False\n",
        "  return True\n",
        "def primeGenerator(n):\n",
        "  num=2\n",
        "  while n:\n",
        "    if isPrime(num):\n",
        "      yield num\n",
        "      n-=1\n",
        "    num+=1\n",
        "  return\n",
        "x = primeGenerator(100)\n",
        "for c in x:\n",
        "  print(c)\n",
        "\t\n",
        "\n",
        "\n"
      ],
      "metadata": {
        "colab": {
          "base_uri": "https://localhost:8080/"
        },
        "id": "bUDSNpKAaGxd",
        "outputId": "a7372d62-b07c-4fb3-e1ec-8f81fd0b3b71"
      },
      "execution_count": 6,
      "outputs": [
        {
          "output_type": "stream",
          "name": "stdout",
          "text": [
            "2\n",
            "3\n",
            "5\n",
            "7\n",
            "11\n",
            "13\n",
            "17\n",
            "19\n",
            "23\n",
            "29\n",
            "31\n",
            "37\n",
            "41\n",
            "43\n",
            "47\n",
            "53\n",
            "59\n",
            "61\n",
            "67\n",
            "71\n",
            "73\n",
            "79\n",
            "83\n",
            "89\n",
            "97\n",
            "101\n",
            "103\n",
            "107\n",
            "109\n",
            "113\n",
            "127\n",
            "131\n",
            "137\n",
            "139\n",
            "149\n",
            "151\n",
            "157\n",
            "163\n",
            "167\n",
            "173\n",
            "179\n",
            "181\n",
            "191\n",
            "193\n",
            "197\n",
            "199\n",
            "211\n",
            "223\n",
            "227\n",
            "229\n",
            "233\n",
            "239\n",
            "241\n",
            "251\n",
            "257\n",
            "263\n",
            "269\n",
            "271\n",
            "277\n",
            "281\n",
            "283\n",
            "293\n",
            "307\n",
            "311\n",
            "313\n",
            "317\n",
            "331\n",
            "337\n",
            "347\n",
            "349\n",
            "353\n",
            "359\n",
            "367\n",
            "373\n",
            "379\n",
            "383\n",
            "389\n",
            "397\n",
            "401\n",
            "409\n",
            "419\n",
            "421\n",
            "431\n",
            "433\n",
            "439\n",
            "443\n",
            "449\n",
            "457\n",
            "461\n",
            "463\n",
            "467\n",
            "479\n",
            "487\n",
            "491\n",
            "499\n",
            "503\n",
            "509\n",
            "521\n",
            "523\n",
            "541\n"
          ]
        }
      ]
    },
    {
      "cell_type": "markdown",
      "source": [
        "Question 6"
      ],
      "metadata": {
        "id": "cwfC58-AarQR"
      }
    },
    {
      "cell_type": "code",
      "source": [
        "n= int(input())\n",
        "a = 0\n",
        "b = 1\n",
        "sum=0\n",
        "count=1\n",
        "while count<=n:\n",
        "  print(sum)\n",
        "  a=b\n",
        "  b=sum\n",
        "  sum= a+b\n",
        "  count+=1"
      ],
      "metadata": {
        "colab": {
          "base_uri": "https://localhost:8080/"
        },
        "id": "WvgWB8iyaxZm",
        "outputId": "f3cdfa0a-14fb-4da8-d40c-74ee5789c2cf"
      },
      "execution_count": 5,
      "outputs": [
        {
          "output_type": "stream",
          "name": "stdout",
          "text": [
            "10\n",
            "0\n",
            "1\n",
            "1\n",
            "2\n",
            "3\n",
            "5\n",
            "8\n",
            "13\n",
            "21\n",
            "34\n"
          ]
        }
      ]
    },
    {
      "cell_type": "markdown",
      "source": [
        "Question 7"
      ],
      "metadata": {
        "id": "Mxvw-fxagF9V"
      }
    },
    {
      "cell_type": "code",
      "source": [
        "lst= []\n",
        "for c in \"pwskills\":\n",
        "  lst.append(c)\n",
        "print(lst)"
      ],
      "metadata": {
        "colab": {
          "base_uri": "https://localhost:8080/"
        },
        "id": "jfIUVvNuoTPg",
        "outputId": "08d4e344-9375-4721-8856-850722b07b03"
      },
      "execution_count": 8,
      "outputs": [
        {
          "output_type": "stream",
          "name": "stdout",
          "text": [
            "['p', 'w', 's', 'k', 'i', 'l', 'l', 's']\n"
          ]
        }
      ]
    },
    {
      "cell_type": "markdown",
      "source": [
        "Question 8"
      ],
      "metadata": {
        "id": "eTG76wpHo3xw"
      }
    },
    {
      "cell_type": "code",
      "source": [
        "num= int(input())\n",
        "revnum=0\n",
        "temp=num\n",
        "while num>0:\n",
        "  rem=num%10\n",
        "  revnum= revnum*10+rem\n",
        "  num=num//10\n",
        "if temp==revnum:\n",
        "  print(\"Number is Palindrome\")\n",
        "else:\n",
        "  print(\"Number is not Palindrome\")"
      ],
      "metadata": {
        "colab": {
          "base_uri": "https://localhost:8080/"
        },
        "id": "10zcx7aOpr3H",
        "outputId": "9279219c-6b9a-4a05-b766-061b229deed4"
      },
      "execution_count": 19,
      "outputs": [
        {
          "output_type": "stream",
          "name": "stdout",
          "text": [
            "878\n",
            "Number is Palindrome\n"
          ]
        }
      ]
    },
    {
      "cell_type": "markdown",
      "source": [
        "Question 9"
      ],
      "metadata": {
        "id": "gZZYjLhqtchk"
      }
    },
    {
      "cell_type": "code",
      "source": [
        "lst= list(range(1,101))\n",
        "lst_odd = []\n",
        "for i in lst:\n",
        "  if i%2==0:\n",
        "    next\n",
        "  else:\n",
        "    lst_odd.append(i)\n",
        "print(lst_odd)\n"
      ],
      "metadata": {
        "colab": {
          "base_uri": "https://localhost:8080/"
        },
        "id": "yrEHKK-twNWS",
        "outputId": "6427fb7d-7e49-4994-9e34-d20ca78a50e8"
      },
      "execution_count": 20,
      "outputs": [
        {
          "output_type": "stream",
          "name": "stdout",
          "text": [
            "[1, 3, 5, 7, 9, 11, 13, 15, 17, 19, 21, 23, 25, 27, 29, 31, 33, 35, 37, 39, 41, 43, 45, 47, 49, 51, 53, 55, 57, 59, 61, 63, 65, 67, 69, 71, 73, 75, 77, 79, 81, 83, 85, 87, 89, 91, 93, 95, 97, 99]\n"
          ]
        }
      ]
    }
  ]
}