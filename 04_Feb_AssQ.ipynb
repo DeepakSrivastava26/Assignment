{
  "nbformat": 4,
  "nbformat_minor": 0,
  "metadata": {
    "colab": {
      "provenance": []
    },
    "kernelspec": {
      "name": "python3",
      "display_name": "Python 3"
    },
    "language_info": {
      "name": "python"
    }
  },
  "cells": [
    {
      "cell_type": "markdown",
      "source": [
        "Question 1"
      ],
      "metadata": {
        "id": "V0woUcb2PwLu"
      }
    },
    {
      "cell_type": "code",
      "execution_count": 11,
      "metadata": {
        "id": "5DdmrmcnPvfJ",
        "colab": {
          "base_uri": "https://localhost:8080/"
        },
        "outputId": "9c939505-ed6e-45ae-d53e-fba10309951b"
      },
      "outputs": [
        {
          "output_type": "stream",
          "name": "stdout",
          "text": [
            "[('Virat Kohli', 24936), ('Jack Kallis', 25534), ('Ricky Ponting', 27483), ('Sachin Tendulkar', 34357)]\n"
          ]
        }
      ],
      "source": [
        "players=[('Sachin Tendulkar', 34357), ('Ricky Ponting', 27483), ('Jack Kallis', 25534), ('Virat Kohli', 24936)]\n",
        "print(sorted(players,key= lambda x: x[1]))"
      ]
    },
    {
      "cell_type": "markdown",
      "source": [
        "Question 2"
      ],
      "metadata": {
        "id": "RJGopDFuwTuN"
      }
    },
    {
      "cell_type": "code",
      "source": [
        "num = [1, 2, 3, 4, 5, 6, 7, 8, 9, 10]\n",
        "square_num= list(map(lambda x:x**2,num))\n",
        "print(square_num)\n"
      ],
      "metadata": {
        "colab": {
          "base_uri": "https://localhost:8080/"
        },
        "id": "1uxhDFNAwXX_",
        "outputId": "aa65c6cd-4307-444f-996a-2887c1bdb014"
      },
      "execution_count": 1,
      "outputs": [
        {
          "output_type": "stream",
          "name": "stdout",
          "text": [
            "[1, 4, 9, 16, 25, 36, 49, 64, 81, 100]\n"
          ]
        }
      ]
    },
    {
      "cell_type": "markdown",
      "source": [
        "Question 3"
      ],
      "metadata": {
        "id": "Ydc-4kC5xH0O"
      }
    },
    {
      "cell_type": "code",
      "source": [
        "lst_integers = [1, 2, 3, 4, 5, 6, 7, 8, 9, 10]\n",
        "tupl_integers = tuple(lst_integers)\n",
        "print(tuple(map(str,tupl_integers)))"
      ],
      "metadata": {
        "colab": {
          "base_uri": "https://localhost:8080/"
        },
        "id": "0GUzwwPi9BWj",
        "outputId": "556a5758-b9a8-47a9-ffda-b6757316238c"
      },
      "execution_count": 15,
      "outputs": [
        {
          "output_type": "stream",
          "name": "stdout",
          "text": [
            "('1', '2', '3', '4', '5', '6', '7', '8', '9', '10')\n"
          ]
        }
      ]
    },
    {
      "cell_type": "markdown",
      "source": [
        "Question 4"
      ],
      "metadata": {
        "id": "6U4_-ieVB6Qw"
      }
    },
    {
      "cell_type": "code",
      "source": [
        "lst= list(range(1,26))\n",
        "print(reduce(lambda x,y: x*y,lst))"
      ],
      "metadata": {
        "colab": {
          "base_uri": "https://localhost:8080/"
        },
        "id": "3JTaZ3NFB8Qb",
        "outputId": "914b2162-1afb-408b-bb8d-7a65d4959d8b"
      },
      "execution_count": 25,
      "outputs": [
        {
          "output_type": "stream",
          "name": "stdout",
          "text": [
            "15511210043330985984000000\n"
          ]
        }
      ]
    },
    {
      "cell_type": "code",
      "source": [
        "lst= list(range(1,26))\n",
        "print(lst)"
      ],
      "metadata": {
        "colab": {
          "base_uri": "https://localhost:8080/"
        },
        "id": "ZBGe2p13DHN0",
        "outputId": "99b71ced-7412-4fde-dd25-79ca1b689ad2"
      },
      "execution_count": 21,
      "outputs": [
        {
          "output_type": "stream",
          "name": "stdout",
          "text": [
            "[1, 2, 3, 4, 5, 6, 7, 8, 9, 10, 11, 12, 13, 14, 15, 16, 17, 18, 19, 20, 21, 22, 23, 24, 25]\n"
          ]
        }
      ]
    },
    {
      "cell_type": "markdown",
      "source": [
        "Question 5"
      ],
      "metadata": {
        "id": "FlwCcoQ9Bbgf"
      }
    },
    {
      "cell_type": "code",
      "source": [
        "lst=[2, 3, 6, 9, 27, 60, 90, 120, 55, 46]\n",
        "print(list(filter(lambda x: x%2==0 and x%3==0,lst)))"
      ],
      "metadata": {
        "colab": {
          "base_uri": "https://localhost:8080/"
        },
        "id": "RJSDbyo8BdM2",
        "outputId": "8faebb9c-7c2c-4a1d-8d4a-8fac430a60ab"
      },
      "execution_count": 16,
      "outputs": [
        {
          "output_type": "stream",
          "name": "stdout",
          "text": [
            "[6, 60, 90, 120]\n"
          ]
        }
      ]
    },
    {
      "cell_type": "markdown",
      "source": [
        "Question 6"
      ],
      "metadata": {
        "id": "SycAbWg4IbCk"
      }
    },
    {
      "cell_type": "code",
      "source": [
        "lst = ['python', 'php', 'aba', 'radar', 'level']\n",
        "print(list(filter(lambda x: (x == \"\".join(reversed(x))), lst)))"
      ],
      "metadata": {
        "colab": {
          "base_uri": "https://localhost:8080/"
        },
        "id": "1FGHQGcbIgQL",
        "outputId": "68d1bc35-a599-45f0-fd03-bc79c2ddaef4"
      },
      "execution_count": 27,
      "outputs": [
        {
          "output_type": "stream",
          "name": "stdout",
          "text": [
            "['php', 'aba', 'radar', 'level']\n"
          ]
        }
      ]
    }
  ]
}