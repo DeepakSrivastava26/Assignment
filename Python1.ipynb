{
  "nbformat": 4,
  "nbformat_minor": 0,
  "metadata": {
    "colab": {
      "provenance": []
    },
    "kernelspec": {
      "name": "python3",
      "display_name": "Python 3"
    },
    "language_info": {
      "name": "python"
    }
  },
  "cells": [
    {
      "cell_type": "markdown",
      "source": [
        "#Question1\n",
        "The for loop is used when we already know the number of iterations, which means when we know how many times a statement has to be executed. That is why we have to specify the ending point in the for loop initialization.\n",
        "\n",
        "When we need to end the loop on a condition other than the number of times, we use a while loop. In this case, it is not necessary to know the condition beforehand. That is why we can give a boolean expression in the initialization of the loop.\n"
      ],
      "metadata": {
        "id": "AxgTkjVG8z-C"
      }
    },
    {
      "cell_type": "code",
      "source": [
        "for i in range(10):  \n",
        "    if i % 2 == 0:  \n",
        "        print(i)"
      ],
      "metadata": {
        "colab": {
          "base_uri": "https://localhost:8080/"
        },
        "id": "wEgtPcDn8zGe",
        "outputId": "606440f2-3370-4414-b5d2-42d221db2d8d"
      },
      "execution_count": 1,
      "outputs": [
        {
          "output_type": "stream",
          "name": "stdout",
          "text": [
            "0\n",
            "2\n",
            "4\n",
            "6\n",
            "8\n"
          ]
        }
      ]
    },
    {
      "cell_type": "code",
      "source": [
        "n=2\n",
        "while(n>0):\n",
        "  print(\"PWskills\")\n",
        "  n-=1"
      ],
      "metadata": {
        "colab": {
          "base_uri": "https://localhost:8080/"
        },
        "id": "fNwNOx4s9VP6",
        "outputId": "075aa377-b77e-4d77-ca7e-c8f370a09334"
      },
      "execution_count": 3,
      "outputs": [
        {
          "output_type": "stream",
          "name": "stdout",
          "text": [
            "PWskills\n",
            "PWskills\n"
          ]
        }
      ]
    },
    {
      "cell_type": "markdown",
      "source": [
        "Question2"
      ],
      "metadata": {
        "id": "0PqnHgNR9pwa"
      }
    },
    {
      "cell_type": "code",
      "source": [
        "sum=0\n",
        "product=1\n",
        "for i in range(1,11):\n",
        "    sum += i\n",
        "    product*=i\n",
        "print(sum)\n",
        "print(product)"
      ],
      "metadata": {
        "colab": {
          "base_uri": "https://localhost:8080/"
        },
        "id": "_OuhaQfH9sOO",
        "outputId": "d4ebd9a4-cfc1-464d-a07c-255454f9f58b"
      },
      "execution_count": 4,
      "outputs": [
        {
          "output_type": "stream",
          "name": "stdout",
          "text": [
            "55\n",
            "3628800\n"
          ]
        }
      ]
    },
    {
      "cell_type": "code",
      "source": [
        "num =10\n",
        "\n",
        "sum=0\n",
        "prod=1\n",
        "while(num>0):\n",
        "    sum+=num\n",
        "    prod*=num\n",
        "    num = num-1\n",
        "print(sum)\n",
        "print(prod)\n",
        "        "
      ],
      "metadata": {
        "colab": {
          "base_uri": "https://localhost:8080/"
        },
        "id": "DGbPtmDm9x9t",
        "outputId": "30f71720-3152-4eb9-b07e-fd0b919f9969"
      },
      "execution_count": 6,
      "outputs": [
        {
          "output_type": "stream",
          "name": "stdout",
          "text": [
            "55\n",
            "3628800\n"
          ]
        }
      ]
    },
    {
      "cell_type": "markdown",
      "source": [
        "Question3"
      ],
      "metadata": {
        "id": "5GlkoBvZIGQm"
      }
    },
    {
      "cell_type": "code",
      "source": [
        "\n",
        "units= int(input())\n",
        "bill=0\n",
        "if units<=100:\n",
        "  bill= 4.5*units\n",
        "elif units<=200 and units>100:\n",
        "  bill= 6*(units-100) + 4.5*100\n",
        "elif units<=300 and units>200:\n",
        "  bill= 10*(units-200) + 6*100 +  4.5*100\n",
        "else:\n",
        "  bill= 20*(units-300) + 10*100 + 6*100 +  4.5*100\n",
        "print(bill)\n"
      ],
      "metadata": {
        "colab": {
          "base_uri": "https://localhost:8080/"
        },
        "id": "jVG1q9q--VMG",
        "outputId": "8fe0054e-d76b-4a5f-e763-2b7a326de96b"
      },
      "execution_count": 23,
      "outputs": [
        {
          "output_type": "stream",
          "name": "stdout",
          "text": [
            "310\n",
            "2250.0\n"
          ]
        }
      ]
    },
    {
      "cell_type": "markdown",
      "source": [
        "Question 4"
      ],
      "metadata": {
        "id": "sEwBrEWtJnn-"
      }
    },
    {
      "cell_type": "code",
      "source": [
        "lst= list(range(1,101))\n",
        "res=[]\n",
        "for i in lst:\n",
        "  if (i**3)%4 ==0 or (i**3)%5==0:\n",
        "    res.append(i)\n",
        "print(res)"
      ],
      "metadata": {
        "colab": {
          "base_uri": "https://localhost:8080/"
        },
        "id": "af7JmxIAJpom",
        "outputId": "15247a1b-8e6a-4d76-b03c-0b6d8c21c6d1"
      },
      "execution_count": 14,
      "outputs": [
        {
          "output_type": "stream",
          "name": "stdout",
          "text": [
            "[2, 4, 5, 6, 8, 10, 12, 14, 15, 16, 18, 20, 22, 24, 25, 26, 28, 30, 32, 34, 35, 36, 38, 40, 42, 44, 45, 46, 48, 50, 52, 54, 55, 56, 58, 60, 62, 64, 65, 66, 68, 70, 72, 74, 75, 76, 78, 80, 82, 84, 85, 86, 88, 90, 92, 94, 95, 96, 98, 100]\n"
          ]
        }
      ]
    },
    {
      "cell_type": "code",
      "source": [
        "lst= list(range(1,101))\n",
        "res=[]\n",
        "while i < len(lst):\n",
        "  if (i**3)%4 ==0 or (i**3)%5==0:\n",
        "    res.append(lst[i])\n",
        "    i+=1\n",
        "print(res)"
      ],
      "metadata": {
        "colab": {
          "base_uri": "https://localhost:8080/"
        },
        "id": "akfgEVV6oqR1",
        "outputId": "b2434a51-c5e6-4cc8-a2c8-396208deb215"
      },
      "execution_count": 22,
      "outputs": [
        {
          "output_type": "stream",
          "name": "stdout",
          "text": [
            "[]\n"
          ]
        }
      ]
    },
    {
      "cell_type": "markdown",
      "source": [
        "Question 5"
      ],
      "metadata": {
        "id": "Do1uqDxqt3rP"
      }
    },
    {
      "cell_type": "code",
      "source": [
        "def vowel_count(str):\n",
        "\tvowels = \"aeiouAEIOU\"\n",
        "\tcount = len([char for char in str if char in vowels])\n",
        "\tprint(\"No. of vowels :\", count)\n",
        "\n",
        "str = \"I want to become a data scientist\"\n",
        "\n",
        "vowel_count(str)\n"
      ],
      "metadata": {
        "colab": {
          "base_uri": "https://localhost:8080/"
        },
        "id": "XSnGQOqFt6WE",
        "outputId": "9a0181b7-05dd-444d-ca90-aa8cb6199f23"
      },
      "execution_count": 19,
      "outputs": [
        {
          "output_type": "stream",
          "name": "stdout",
          "text": [
            "No. of vowels : 12\n"
          ]
        }
      ]
    }
  ]
}