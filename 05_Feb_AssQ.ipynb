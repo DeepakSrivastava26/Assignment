{
  "nbformat": 4,
  "nbformat_minor": 0,
  "metadata": {
    "colab": {
      "provenance": []
    },
    "kernelspec": {
      "name": "python3",
      "display_name": "Python 3"
    },
    "language_info": {
      "name": "python"
    }
  },
  "cells": [
    {
      "cell_type": "markdown",
      "source": [
        "Question 1"
      ],
      "metadata": {
        "id": "KsGVhzjkfU-9"
      }
    },
    {
      "cell_type": "markdown",
      "source": [
        "A class is a user-defined blueprint or prototype from which objects are created. Classes provide a means of bundling data and functionality together. Creating a new class creates a new type of object, allowing new instances of that type to be made. Each class instance can have attributes attached to it for maintaining its state. Class instances can also have methods (defined by their class) for modifying their state."
      ],
      "metadata": {
        "id": "QATArnhofXHt"
      }
    },
    {
      "cell_type": "markdown",
      "source": [
        "An Object is an instance of a Class. A class is like a blueprint while an instance is a copy of the class with actual values. It’s not an idea anymore, it’s an actual dog, like a dog of breed pug who’s seven years old. You can have many dogs to create many different instances, but without the class as a guide, you would be lost, not knowing what information is required.\n",
        "\n",
        "An object consists of : \n",
        "\n",
        "State: It is represented by the attributes of an object. It also reflects the properties of an object.\n",
        "\n",
        "Behaviour: It is represented by the methods of an object. It also reflects the response of an object to other objects.\n",
        "\n",
        "Identity: It gives a unique name to an object and enables one object to interact with other objects."
      ],
      "metadata": {
        "id": "CrAAD3k8fb2L"
      }
    },
    {
      "cell_type": "code",
      "source": [
        "# Python3 program to\n",
        "# demonstrate instantiating\n",
        "# a class\n",
        "\n",
        "\n",
        "class Dog:\n",
        "\n",
        "\t# A simple class\n",
        "\t# attribute\n",
        "\tattr1 = \"mammal\"\n",
        "\tattr2 = \"dog\"\n",
        "\n",
        "\t# A sample method\n",
        "\tdef fun(self):\n",
        "\t\tprint(\"I'm a\", self.attr1)\n",
        "\t\tprint(\"I'm a\", self.attr2)\n",
        "\n",
        "\n",
        "# Driver code\n",
        "# Object instantiation\n",
        "Rodger = Dog()\n",
        "\n",
        "# Accessing class attributes\n",
        "# and method through objects\n",
        "print(Rodger.attr1)\n",
        "Rodger.fun()\n"
      ],
      "metadata": {
        "id": "6XR1OIIbfr1s"
      },
      "execution_count": null,
      "outputs": []
    },
    {
      "cell_type": "markdown",
      "source": [
        "Question 2"
      ],
      "metadata": {
        "id": "9WL3ZWO6TpPV"
      }
    },
    {
      "cell_type": "markdown",
      "source": [
        "There are four(4) basic principles for writing clean and concise code. These principles are called the four pillars of object-oriented programming (OOP). These four pillars are Inheritance, Polymorphism, Encapsulation and Abstraction."
      ],
      "metadata": {
        "id": "W-R17sX6Tuxi"
      }
    },
    {
      "cell_type": "markdown",
      "source": [
        "Question 3"
      ],
      "metadata": {
        "id": "V7yvor_Ldflr"
      }
    },
    {
      "cell_type": "markdown",
      "source": [
        "__init__ is a special python method that runs whenever a new object is created. These types of functions are used to initialize the attributes of that class, E.g., if the class is Person, then the attributes will be name, age, etc."
      ],
      "metadata": {
        "id": "FDq5rIxDdgaa"
      }
    },
    {
      "cell_type": "code",
      "source": [
        "class Person:\n",
        "  def __init__(self, name, age):\n",
        "    self.name = name\n",
        "    self.age = age\n",
        "\n",
        "p1 = Person(\"John\", 36)\n",
        "\n",
        "print(p1.name)\n",
        "print(p1.age)"
      ],
      "metadata": {
        "id": "_q07g2GyefZB"
      },
      "execution_count": null,
      "outputs": []
    },
    {
      "cell_type": "markdown",
      "source": [
        "Question 4"
      ],
      "metadata": {
        "id": "CvZS50F-bOnc"
      }
    },
    {
      "cell_type": "markdown",
      "source": [
        "The self parameter is a reference to the current instance of the class, and is used to access variables that belongs to the class.\n",
        "\n",
        "It does not have to be named self , you can call it whatever you like, but it has to be the first parameter of any function in the class."
      ],
      "metadata": {
        "id": "Gl4KG10EbRHW"
      }
    },
    {
      "cell_type": "code",
      "source": [
        "\n",
        "class check:\n",
        "\tdef __init__(self):\n",
        "\t\tprint(\"Address of self = \",id(self))\n",
        "\n",
        "obj = check()\n",
        "print(\"Address of class object = \",id(obj))\n"
      ],
      "metadata": {
        "id": "P0qAowMker8g"
      },
      "execution_count": null,
      "outputs": []
    },
    {
      "cell_type": "markdown",
      "source": [
        "Question 5"
      ],
      "metadata": {
        "id": "wYrqbIA6QC9r"
      }
    },
    {
      "cell_type": "markdown",
      "source": [
        "Inheritance is defined as the mechanism of inheriting the properties of the base class to the child class.\n",
        "\n"
      ],
      "metadata": {
        "id": "tcONYs1IQDNu"
      }
    },
    {
      "cell_type": "markdown",
      "source": [
        "Single Inheritance: \n",
        "Single inheritance enables a derived class to inherit properties from a single parent class, thus enabling code reusability and the addition of new features to existing code."
      ],
      "metadata": {
        "id": "EbIM--7vQDdD"
      }
    },
    {
      "cell_type": "code",
      "source": [
        "# Python program to demonstrate\n",
        "# single inheritance\n",
        "\n",
        "# Base class\n",
        "class Parent:\n",
        "\tdef func1(self):\n",
        "\t\tprint(\"This function is in parent class.\")\n",
        "\n",
        "# Derived class\n",
        "\n",
        "\n",
        "class Child(Parent):\n",
        "\tdef func2(self):\n",
        "\t\tprint(\"This function is in child class.\")\n",
        "\n",
        "\n",
        "# Driver's code\n",
        "object = Child()\n",
        "object.func1()\n",
        "object.func2()"
      ],
      "metadata": {
        "id": "hrwVjXHGSSRD"
      },
      "execution_count": null,
      "outputs": []
    },
    {
      "cell_type": "markdown",
      "source": [
        "Multiple Inheritance: \n",
        "When a class can be derived from more than one base class this type of inheritance is called multiple inheritances. In multiple inheritances, all the features of the base classes are inherited into the derived class."
      ],
      "metadata": {
        "id": "3-ElGfc4ST6q"
      }
    },
    {
      "cell_type": "code",
      "source": [
        "# Python program to demonstrate\n",
        "# multiple inheritance\n",
        "\n",
        "# Base class1\n",
        "class Mother:\n",
        "\tmothername = \"\"\n",
        "\n",
        "\tdef mother(self):\n",
        "\t\tprint(self.mothername)\n",
        "\n",
        "# Base class2\n",
        "\n",
        "\n",
        "class Father:\n",
        "\tfathername = \"\"\n",
        "\n",
        "\tdef father(self):\n",
        "\t\tprint(self.fathername)\n",
        "\n",
        "# Derived class\n",
        "\n",
        "\n",
        "class Son(Mother, Father):\n",
        "\tdef parents(self):\n",
        "\t\tprint(\"Father :\", self.fathername)\n",
        "\t\tprint(\"Mother :\", self.mothername)\n",
        "\n",
        "\n",
        "# Driver's code\n",
        "s1 = Son()\n",
        "s1.fathername = \"RAM\"\n",
        "s1.mothername = \"SITA\"\n",
        "s1.parents()\n"
      ],
      "metadata": {
        "id": "Ehn9sy_dSZNm"
      },
      "execution_count": null,
      "outputs": []
    },
    {
      "cell_type": "markdown",
      "source": [
        "Multilevel Inheritance :\n",
        "In multilevel inheritance, features of the base class and the derived class are further inherited into the new derived class. This is similar to a relationship representing a child and a grandfather."
      ],
      "metadata": {
        "id": "3YSGeJ_fSzaX"
      }
    },
    {
      "cell_type": "code",
      "source": [
        "# Python program to demonstrate\n",
        "# multilevel inheritance\n",
        "\n",
        "# Base class\n",
        "\n",
        "\n",
        "class Grandfather:\n",
        "\n",
        "\tdef __init__(self, grandfathername):\n",
        "\t\tself.grandfathername = grandfathername\n",
        "\n",
        "# Intermediate class\n",
        "\n",
        "\n",
        "class Father(Grandfather):\n",
        "\tdef __init__(self, fathername, grandfathername):\n",
        "\t\tself.fathername = fathername\n",
        "\n",
        "\t\t# invoking constructor of Grandfather class\n",
        "\t\tGrandfather.__init__(self, grandfathername)\n",
        "\n",
        "# Derived class\n",
        "\n",
        "\n",
        "class Son(Father):\n",
        "\tdef __init__(self, sonname, fathername, grandfathername):\n",
        "\t\tself.sonname = sonname\n",
        "\n",
        "\t\t# invoking constructor of Father class\n",
        "\t\tFather.__init__(self, fathername, grandfathername)\n",
        "\n",
        "\tdef print_name(self):\n",
        "\t\tprint('Grandfather name :', self.grandfathername)\n",
        "\t\tprint(\"Father name :\", self.fathername)\n",
        "\t\tprint(\"Son name :\", self.sonname)\n",
        "\n",
        "\n",
        "# Driver code\n",
        "s1 = Son('Prince', 'Rampal', 'Lal mani')\n",
        "print(s1.grandfathername)\n",
        "s1.print_name()\n"
      ],
      "metadata": {
        "id": "MONKLnG3S4Vf"
      },
      "execution_count": null,
      "outputs": []
    },
    {
      "cell_type": "markdown",
      "source": [
        "Hierarchical Inheritance: \n",
        "When more than one derived class are created from a single base this type of inheritance is called hierarchical inheritance. In this program, we have a parent (base) class and two child (derived) classes."
      ],
      "metadata": {
        "id": "XFmQ5EjES9kN"
      }
    },
    {
      "cell_type": "code",
      "source": [
        "# Python program to demonstrate\n",
        "# Hierarchical inheritance\n",
        "\n",
        "\n",
        "# Base class\n",
        "class Parent:\n",
        "\tdef func1(self):\n",
        "\t\tprint(\"This function is in parent class.\")\n",
        "\n",
        "# Derived class1\n",
        "\n",
        "\n",
        "class Child1(Parent):\n",
        "\tdef func2(self):\n",
        "\t\tprint(\"This function is in child 1.\")\n",
        "\n",
        "# Derivied class2\n",
        "\n",
        "\n",
        "class Child2(Parent):\n",
        "\tdef func3(self):\n",
        "\t\tprint(\"This function is in child 2.\")\n",
        "\n",
        "\n",
        "# Driver's code\n",
        "object1 = Child1()\n",
        "object2 = Child2()\n",
        "object1.func1()\n",
        "object1.func2()\n",
        "object2.func1()\n",
        "object2.func3()\n"
      ],
      "metadata": {
        "id": "3Nnov3BQTHrl"
      },
      "execution_count": null,
      "outputs": []
    },
    {
      "cell_type": "markdown",
      "source": [
        "Hybrid Inheritance: \n",
        "Inheritance consisting of multiple types of inheritance is called hybrid inheritance."
      ],
      "metadata": {
        "id": "17gJjGcATKY0"
      }
    },
    {
      "cell_type": "code",
      "source": [
        "# Python program to demonstrate\n",
        "# hybrid inheritance\n",
        "\n",
        "\n",
        "class School:\n",
        "\tdef func1(self):\n",
        "\t\tprint(\"This function is in school.\")\n",
        "\n",
        "\n",
        "class Student1(School):\n",
        "\tdef func2(self):\n",
        "\t\tprint(\"This function is in student 1. \")\n",
        "\n",
        "\n",
        "class Student2(School):\n",
        "\tdef func3(self):\n",
        "\t\tprint(\"This function is in student 2.\")\n",
        "\n",
        "\n",
        "class Student3(Student1, School):\n",
        "\tdef func4(self):\n",
        "\t\tprint(\"This function is in student 3.\")\n",
        "\n",
        "\n",
        "# Driver's code\n",
        "object = Student3()\n",
        "object.func1()\n",
        "object.func2()\n"
      ],
      "metadata": {
        "id": "hNl4w07PTVej"
      },
      "execution_count": null,
      "outputs": []
    }
  ]
}