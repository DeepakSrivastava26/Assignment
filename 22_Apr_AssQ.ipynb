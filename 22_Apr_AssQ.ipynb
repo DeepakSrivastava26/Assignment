{
  "nbformat": 4,
  "nbformat_minor": 0,
  "metadata": {
    "colab": {
      "provenance": []
    },
    "kernelspec": {
      "name": "python3",
      "display_name": "Python 3"
    },
    "language_info": {
      "name": "python"
    }
  },
  "cells": [
    {
      "cell_type": "markdown",
      "source": [
        "**Ques 1**"
      ],
      "metadata": {
        "id": "bNdZrqi4jY2h"
      }
    },
    {
      "cell_type": "code",
      "source": [
        "from sklearn.datasets import load_iris\n",
        "from sklearn.neighbors import KNeighborsClassifier\n",
        "from sklearn.model_selection import train_test_split\n",
        "from sklearn.metrics import accuracy_score\n",
        "\n",
        "#load dataset\n",
        "iris=load_iris()\n",
        "\n",
        "#train test split\n",
        "X_train,X_test,y_train,y_test = train_test_split(iris.data,iris.target,test_size=0.2,random_state=42)\n",
        "\n",
        "#creating classifier\n",
        "knn=KNeighborsClassifier(n_neighbors=3)\n",
        "\n",
        "#train\n",
        "knn.fit(X_train,y_train)\n",
        "\n",
        "#pred\n",
        "\n",
        "y_pred=knn.predict(X_test)\n",
        "\n",
        "#accuracy\n",
        "accuracy = accuracy_score(y_test,y_pred)\n",
        "print(\"Accuracy_score :  \", accuracy)\n"
      ],
      "metadata": {
        "colab": {
          "base_uri": "https://localhost:8080/"
        },
        "id": "VCgK_r75j7gZ",
        "outputId": "d3bfd69b-3ad1-4bdd-da01-46035d308027"
      },
      "execution_count": 3,
      "outputs": [
        {
          "output_type": "stream",
          "name": "stdout",
          "text": [
            "Accuracy_score :   1.0\n"
          ]
        }
      ]
    },
    {
      "cell_type": "markdown",
      "source": [
        "**Ques 2**"
      ],
      "metadata": {
        "id": "UgZBJEUZmNrs"
      }
    },
    {
      "cell_type": "code",
      "source": [
        "\n",
        "from sklearn.datasets import fetch_california_housing\n",
        "from sklearn.model_selection import train_test_split\n",
        "from sklearn.neighbors import KNeighborsRegressor\n",
        "from sklearn.metrics import mean_squared_error\n",
        "\n",
        "#Load dataset\n",
        "housing= fetch_california_housing()\n",
        "\n",
        "#train test split\n",
        "X_train,X_test,y_train,y_test = train_test_split(housing.data,housing.target, test_size= 0.2,random_state=42)\n",
        "\n",
        "#creating regressor\n",
        "knn= KNeighborsRegressor()\n",
        "\n",
        "#train\n",
        "knn.fit(X_train,y_train)\n",
        "\n",
        "#pred\n",
        "y_pred= knn.predict(X_test)\n",
        "\n",
        "#mse\n",
        "mse= mean_squared_error(y_pred,y_test)\n",
        "print(\"mean_squared_error : \" , mse)\n"
      ],
      "metadata": {
        "colab": {
          "base_uri": "https://localhost:8080/"
        },
        "id": "SBzCO23-mR14",
        "outputId": "5c288149-b30e-4f2e-876b-57f1bc527abc"
      },
      "execution_count": 8,
      "outputs": [
        {
          "output_type": "stream",
          "name": "stdout",
          "text": [
            "mean_squared_error :  1.1186823858768293\n"
          ]
        }
      ]
    },
    {
      "cell_type": "markdown",
      "source": [
        "**Ques 3**"
      ],
      "metadata": {
        "id": "4_jSnI3Vp8Zk"
      }
    },
    {
      "cell_type": "code",
      "source": [
        "from sklearn.datasets import load_iris\n",
        "from sklearn.model_selection import cross_val_score\n",
        "from sklearn.neighbors import KNeighborsClassifier\n",
        "\n",
        "#Load dataset\n",
        "iris=load_iris()\n",
        "\n",
        "#create feature and target arrays\n",
        "X=iris.data\n",
        "y= iris.target\n",
        "\n",
        "#define list of range of k\n",
        "k_range= list(range(1,31))\n",
        "\n",
        "#list to store cvscores\n",
        "cv_scores = []\n",
        "\n",
        "# 10  fold cv with each val of k\n",
        "\n",
        "for k in k_range:\n",
        "  knn = KNeighborsClassifier(n_neighbors=k)\n",
        "  scores = cross_val_score(knn,X,y,cv=10,scoring='accuracy')\n",
        "  cv_scores.append(scores.mean())\n",
        "\n",
        "#determine optimal value of k\n",
        "optimal_k = k_range[cv_scores.index(max(cv_scores))]\n",
        "\n",
        "#print optimal k\n",
        "print(\"The optimal value of k is : \", optimal_k)\n"
      ],
      "metadata": {
        "colab": {
          "base_uri": "https://localhost:8080/"
        },
        "id": "vM4x34cKrY1W",
        "outputId": "fe90dca8-19f3-4228-9944-ab02ba18b308"
      },
      "execution_count": 12,
      "outputs": [
        {
          "output_type": "stream",
          "name": "stdout",
          "text": [
            "The optimal value of k is :  13\n"
          ]
        }
      ]
    },
    {
      "cell_type": "markdown",
      "source": [
        "**Ques 4**"
      ],
      "metadata": {
        "id": "Gx2r7EQyzjnk"
      }
    },
    {
      "cell_type": "code",
      "source": [
        "from sklearn.datasets import fetch_california_housing\n",
        "from sklearn.model_selection import train_test_split\n",
        "from sklearn.preprocessing import StandardScaler\n",
        "from sklearn.neighbors import KNeighborsRegressor\n",
        "from sklearn.metrics import mean_squared_error\n",
        "\n",
        "#load\n",
        "housing= fetch_california_housing()\n",
        "\n",
        "#split\n",
        "X_train,X_test,y_train,y_test = train_test_split(housing.data,housing.target,test_size=0.2,random_state=42)\n",
        "\n",
        "#feature scaling\n",
        "scaler= StandardScaler()\n",
        "X_train_scaled= scaler.fit_transform(X_train)\n",
        "X_test_scaled= scaler.transform(X_test)\n",
        "\n",
        "#define regressor\n",
        "knn= KNeighborsRegressor(n_neighbors=10)\n",
        "\n",
        "#train\n",
        "knn.fit(X_train_scaled,y_train)\n",
        "\n",
        "#pred\n",
        "y_pred=knn.predict(X_test_scaled)\n",
        "\n",
        "#performance check\n",
        "mse = mean_squared_error(y_test,y_pred)\n",
        "\n",
        "print(\"The mean squared error:  \", mse)\n"
      ],
      "metadata": {
        "colab": {
          "base_uri": "https://localhost:8080/"
        },
        "id": "lbQjehEV14Fo",
        "outputId": "00ec16bb-f19d-41d4-a843-2425c644ed85"
      },
      "execution_count": 23,
      "outputs": [
        {
          "output_type": "stream",
          "name": "stdout",
          "text": [
            "The mean squared error:   0.4215403013384915\n"
          ]
        }
      ]
    },
    {
      "cell_type": "markdown",
      "source": [
        "**Ques 5**"
      ],
      "metadata": {
        "id": "l21NbfaV5R0B"
      }
    },
    {
      "cell_type": "code",
      "source": [
        "from sklearn.datasets import load_iris\n",
        "from sklearn.model_selection import train_test_split\n",
        "from sklearn.neighbors import KNeighborsClassifier\n",
        "from sklearn.metrics import accuracy_score\n",
        "\n",
        "#load\n",
        "iris= load_iris()\n",
        "\n",
        "#split\n",
        "X_train,X_test,y_train,y_test = train_test_split(iris.data,iris.target,test_size= 0.2,random_state= 42)\n",
        "\n",
        "#define classifier\n",
        "knn= KNeighborsClassifier(n_neighbors= 3 ,weights='distance')\n",
        "\n",
        "#Train\n",
        "knn.fit(X_train,y_train)\n",
        "\n",
        "#pred\n",
        "y_pred= knn.predict(X_test)\n",
        "\n",
        "#perf check\n",
        "accuracy= accuracy_score(y_test,y_pred)\n",
        "print(\"The accuracy of the model is : \", accuracy)"
      ],
      "metadata": {
        "colab": {
          "base_uri": "https://localhost:8080/"
        },
        "id": "8MqWd9_v5rpn",
        "outputId": "6d2ba22b-029e-4d0e-9d41-5f7b35b05f9a"
      },
      "execution_count": 27,
      "outputs": [
        {
          "output_type": "stream",
          "name": "stdout",
          "text": [
            "The accuracy of the model is :  1.0\n"
          ]
        }
      ]
    },
    {
      "cell_type": "markdown",
      "source": [
        "**Ques 6**"
      ],
      "metadata": {
        "id": "VLY0Pxti_ZWv"
      }
    },
    {
      "cell_type": "code",
      "source": [
        "from sklearn.neighbors import KNeighborsClassifier\n",
        "from sklearn.preprocessing import StandardScaler\n",
        "\n",
        "def knn_classifier(X_train, y_train, X_test, n_neighbors):\n",
        "    # Standardize the features using StandardScaler\n",
        "    scaler = StandardScaler()\n",
        "    X_train_std = scaler.fit_transform(X_train)\n",
        "    X_test_std = scaler.transform(X_test)\n",
        "    \n",
        "    # Train the KNN classifier\n",
        "    knn = KNeighborsClassifier(n_neighbors=n_neighbors)\n",
        "    knn.fit(X_train_std, y_train)\n",
        "    \n",
        "    # Predict the classes for the test set\n",
        "    y_pred = knn.predict(X_test_std)\n",
        "    \n",
        "    return y_pred\n"
      ],
      "metadata": {
        "id": "TE6avIW6_e4p"
      },
      "execution_count": 4,
      "outputs": []
    },
    {
      "cell_type": "markdown",
      "source": [
        "**Ques 7**"
      ],
      "metadata": {
        "id": "zxie3wPtAwGi"
      }
    },
    {
      "cell_type": "code",
      "source": [
        "import math\n",
        "def eucledian_distance(point1,point2):\n",
        "  diff_squared= [(point1[i]-point2[i])**2 for i in range(len(point1))]\n",
        "  y= math.sqrt(sum(diff_squared))\n",
        "  return y\n",
        "point1 = [1,2]\n",
        "point2=[2,4]\n",
        "distance=eucledian_distance(point1,point2)\n",
        "print(distance)"
      ],
      "metadata": {
        "colab": {
          "base_uri": "https://localhost:8080/"
        },
        "id": "pxLSvsAzAyP5",
        "outputId": "7078a9cc-da33-4a0e-f19d-cd7c01ed80cb"
      },
      "execution_count": 34,
      "outputs": [
        {
          "output_type": "stream",
          "name": "stdout",
          "text": [
            "2.23606797749979\n"
          ]
        }
      ]
    },
    {
      "cell_type": "markdown",
      "source": [
        "**Ques 8**"
      ],
      "metadata": {
        "id": "4XGPyOwICmb1"
      }
    },
    {
      "cell_type": "code",
      "source": [
        "def manhattan_distance(point1,point2):\n",
        "  return abs(point1[0]-point2[0]) + abs(point1[1]-point2[1])\n",
        "point1=(1,2)\n",
        "point2=(4,6)\n",
        "distance= manhattan_distance(point1,point2)\n",
        "print(\"The manhattan Distance is:  \", distance)"
      ],
      "metadata": {
        "colab": {
          "base_uri": "https://localhost:8080/"
        },
        "id": "A2Cp3NaFCoX7",
        "outputId": "f71fb429-82d1-4001-b139-26ae7abe441d"
      },
      "execution_count": 2,
      "outputs": [
        {
          "output_type": "stream",
          "name": "stdout",
          "text": [
            "The manhattan Distance is:   7\n"
          ]
        }
      ]
    }
  ]
}