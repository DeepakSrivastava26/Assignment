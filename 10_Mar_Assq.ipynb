{
  "nbformat": 4,
  "nbformat_minor": 0,
  "metadata": {
    "colab": {
      "provenance": []
    },
    "kernelspec": {
      "name": "python3",
      "display_name": "Python 3"
    },
    "language_info": {
      "name": "python"
    }
  },
  "cells": [
    {
      "cell_type": "markdown",
      "source": [
        "**Ques1**"
      ],
      "metadata": {
        "id": "jJyUfjilkfBN"
      }
    },
    {
      "cell_type": "markdown",
      "source": [
        "Estimation, in statistics, any of numerous procedures used to calculate the value of some property of a population from observations of a sample drawn from the population.\n",
        "\n",
        "Using descriptive and inferential statistics, you can make two types of estimates about the population: point estimates and interval estimates.\n",
        "\n",
        "A point estimate is a single value estimate of a parameter. For instance, a sample mean is a point estimate of a population mean.\n",
        "\n",
        "An interval estimate gives you a range of values where the parameter is expected to lie. A confidence interval is the most common type of interval estimate.\n"
      ],
      "metadata": {
        "id": "cD2EzDvkki31"
      }
    },
    {
      "cell_type": "markdown",
      "source": [
        "**Ques 2**"
      ],
      "metadata": {
        "id": "W2RA1UWqnA1C"
      }
    },
    {
      "cell_type": "code",
      "source": [
        "import math\n",
        "\n",
        "def estimate_pop_mean(sample_mean, sample_std_dev, sample_size):\n",
        "    \"\"\"\n",
        "    Returns the estimated population mean given a sample mean,\n",
        "    sample standard deviation, and sample size.\n",
        "    \"\"\"\n",
        "    standard_error = sample_std_dev / math.sqrt(sample_size)\n",
        "    margin_of_error = 1.96 * standard_error  # using 95% confidence level\n",
        "    lower_bound = sample_mean - margin_of_error\n",
        "    upper_bound = sample_mean + margin_of_error\n",
        "    estimated_pop_mean = (lower_bound + upper_bound) / 2\n",
        "    return estimated_pop_mean\n",
        "\n",
        "   \n"
      ],
      "metadata": {
        "id": "4UoKjN9hWhOE"
      },
      "execution_count": null,
      "outputs": []
    },
    {
      "cell_type": "markdown",
      "source": [
        "The function first calculates the standard error, which is the standard deviation of the sample mean. This is done by dividing the sample standard deviation by the square root of the sample size.\n",
        "\n",
        "Next, the function calculates the margin of error using the standard error and a confidence level of 95%, which corresponds to a Z-score of 1.96. The margin of error represents the range of values within which the true population mean is expected to lie with a certain level of confidence.\n",
        "\n",
        "Finally, the function calculates the lower and upper bounds of the confidence interval by subtracting and adding the margin of error to the sample mean, respectively. The estimated population mean is then obtained as the average of the lower and upper bounds.\n",
        "\n",
        "Note that this function assumes that the sample follows a normal distribution, and that the sample standard deviation is an unbiased estimator of the population standard deviation."
      ],
      "metadata": {
        "id": "XZt_sylvtTZL"
      }
    },
    {
      "cell_type": "markdown",
      "source": [
        "**Ques 3**"
      ],
      "metadata": {
        "id": "RllZya8mKJUU"
      }
    },
    {
      "cell_type": "markdown",
      "source": [
        "Hypothesis testing is an act in statistics whereby an analyst tests an assumption regarding a population parameter.\n",
        "\n",
        "The purpose of statistical inference is to draw conclusions about a population on the basis of data obtained from a sample of that population. Hypothesis testing is the process used to evaluate the strength of evidence from the sample and provides a framework for making determinations related to the population, ie, it provides a method for understanding how reliably one can extrapolate observed findings in a sample under study to the larger population from which the sample was drawn. The investigator formulates a specific hypothesis, evaluates data from the sample, and uses these data to decide whether they support the specific hypothesis.\n",
        "\n",
        "Importance of Hypothesis Testing\n",
        "\n",
        "According to the San Jose State University Statistics Department, hypothesis testing is one of the most important concepts in statistics because it is how you decide if something really happened, or if certain treatments have positive effects, or if groups differ from each other or if one variable predicts another. In short, you want to proof if your data is statistically significant and unlikely to have occurred by chance alone. In essence then, a hypothesis test is a test of significance.\n"
      ],
      "metadata": {
        "id": "9HJVf2GxroLm"
      }
    },
    {
      "cell_type": "markdown",
      "source": [
        "**Ques 4**"
      ],
      "metadata": {
        "id": "eGzo3Kdft3iX"
      }
    },
    {
      "cell_type": "markdown",
      "source": [
        "Null Hypothesis (H0): The average weight of male college students is equal to or less than the average weight of female college students.\n",
        "\n",
        "Alternative Hypothesis (HA): The average weight of male college students is greater than the average weight of female college students.\n",
        "\n",
        "To test this hypothesis, a sample of male and female college students should be selected, and their weights should be measured. A statistical test, such as a t-test or z-test, can then be used to determine whether the difference in sample means is statistically significant.\n",
        "\n",
        "If the p-value is less than the significance level (usually 0.05), then we reject the null hypothesis and accept the alternative hypothesis, concluding that the average weight of male college students is greater than the average weight of female college students. If the p-value is greater than the significance level, then we fail to reject the null hypothesis, and there is not enough evidence to conclude that the average weight of male college students is greater than the average weight of female college students."
      ],
      "metadata": {
        "id": "zlcJ1Nh6t56M"
      }
    },
    {
      "cell_type": "markdown",
      "source": [
        "**Ques 5**"
      ],
      "metadata": {
        "id": "lsUhF6vCuF2A"
      }
    },
    {
      "cell_type": "code",
      "source": [
        "import numpy as np\n",
        "from scipy.stats import t\n",
        "\n",
        "# Define the two samples\n",
        "sample1 = np.array([5, 7, 9, 11, 13])\n",
        "sample2 = np.array([4, 6, 8, 10, 12])\n",
        "\n",
        "# Calculate the sample means and standard deviations\n",
        "mean1 = np.mean(sample1)\n",
        "mean2 = np.mean(sample2)\n",
        "std1 = np.std(sample1, ddof=1)\n",
        "std2 = np.std(sample2, ddof=1)\n",
        "\n",
        "# Define the level of significance and degrees of freedom\n",
        "alpha = 0.05\n",
        "df = len(sample1) + len(sample2) - 2\n",
        "\n",
        "# Calculate the pooled standard deviation and the test statistic\n",
        "s_pooled = np.sqrt(((len(sample1) - 1)*std1**2 + (len(sample2) - 1)*std2**2)/df)\n",
        "t_statistic = (mean1 - mean2) / (s_pooled * np.sqrt(1/len(sample1) + 1/len(sample2)))\n",
        "\n",
        "# Calculate the p-value\n",
        "p_value = 2 * t.cdf(-abs(t_statistic), df)\n",
        "\n",
        "# Compare the p-value to the level of significance\n",
        "if p_value < alpha:\n",
        "    print(\"Reject the null hypothesis\")\n",
        "else:\n",
        "    print(\"Fail to reject the null hypothesis\")\n"
      ],
      "metadata": {
        "id": "bRI0iuAN1h01"
      },
      "execution_count": null,
      "outputs": []
    },
    {
      "cell_type": "markdown",
      "source": [
        "In this example, the script assumes that the null hypothesis is that the difference between the population means is zero, and the alternative hypothesis is that the difference is not zero. The script calculates the test statistic, the p-value, and compares the p-value to the level of significance to determine whether to reject the null hypothesis or not. Note that this assumes that the population variances are equal. If the population variances are not equal, you will need to use a different test, such as Welch's t-test."
      ],
      "metadata": {
        "id": "ZVi0gydruIb0"
      }
    },
    {
      "cell_type": "markdown",
      "source": [
        "Certainly! The script I provided conducts a hypothesis test on the difference between two population means, given a sample from each population.\n",
        "\n",
        "In hypothesis testing, we have a null hypothesis and an alternative hypothesis. The null hypothesis (H0) is the assumption we start with, and we want to test whether there is enough evidence to reject it. The alternative hypothesis (H1) is the opposite of the null hypothesis, and we want to find evidence in favor of it.\n",
        "\n",
        "In this case, the null hypothesis is that the difference between the population means is zero, or H0: μ1 - μ2 = 0. The alternative hypothesis is that the difference between the population means is not zero, or H1: μ1 - μ2 ≠ 0.\n",
        "\n",
        "To test the hypothesis, we use a t-test. The t-test is used to compare the means of two populations when the population variances are unknown but assumed to be equal. The test statistic for the t-test is given by:\n",
        "\n",
        "t = (x̄1 - x̄2) / [s_pooled * sqrt(1/n1 + 1/n2)]\n",
        "\n",
        "where x̄1 and x̄2 are the sample means, s_pooled is the pooled standard deviation, n1 and n2 are the sample sizes.\n",
        "\n",
        "The pooled standard deviation (s_pooled) is calculated as follows:\n",
        "\n",
        "s_pooled = sqrt(((n1 - 1) * s1^2 + (n2 - 1) * s2^2) / (n1 + n2 - 2))\n",
        "\n",
        "where s1 and s2 are the sample standard deviations.\n",
        "\n",
        "Once we have calculated the test statistic, we can use it to calculate the p-value. The p-value is the probability of observing a test statistic as extreme as the one we observed, assuming the null hypothesis is true. In this case, we have a two-tailed test, so we need to calculate the probability of observing a t-statistic as extreme as the one we observed in either tail of the t-distribution. We double this probability to get the p-value.\n",
        "\n",
        "Finally, we compare the p-value to the level of significance (alpha) to determine whether to reject the null hypothesis or not. If the p-value is less than alpha, we reject the null hypothesis and conclude that there is enough evidence to support the alternative hypothesis. Otherwise, we fail to reject the null hypothesis and conclude that we do not have enough evidence to support the alternative hypothesis."
      ],
      "metadata": {
        "id": "2PM_TqHS2Ct6"
      }
    },
    {
      "cell_type": "markdown",
      "source": [
        "**Ques 6**"
      ],
      "metadata": {
        "id": "xDi-vNZO1pnJ"
      }
    },
    {
      "cell_type": "markdown",
      "source": [
        "A null hypothesis is a statement that assumes that there is no relationship or no difference between two or more variables. It is typically denoted as H0. The null hypothesis is usually the hypothesis that researchers seek to disprove, reject, or nullify, as it represents the default position or status quo.\n",
        "\n",
        "An alternative hypothesis, on the other hand, is a statement that suggests that there is a relationship or a difference between two or more variables. It is typically denoted as H1, and it is the opposite of the null hypothesis. Researchers seek to find evidence to support the alternative hypothesis when conducting hypothesis testing.\n",
        "\n",
        "Here are some examples of null and alternative hypotheses:\n",
        "\n",
        "Example 1: Suppose we want to test whether a new drug reduces blood pressure compared to a placebo. Here, the null hypothesis is that the drug does not reduce blood pressure compared to the placebo, and the alternative hypothesis is that the drug reduces blood pressure compared to the placebo. The null hypothesis can be written as H0: µ1 = µ2, and the alternative hypothesis as H1: µ1 < µ2, H1: µ1 > µ2, or H1: µ1 ≠ µ2, depending on the research question and the direction of the effect.\n",
        "\n",
        "Example 2: Suppose we want to test whether there is a difference in mean IQ scores between males and females. Here, the null hypothesis is that there is no difference in mean IQ scores between males and females, and the alternative hypothesis is that there is a difference in mean IQ scores between males and females. The null hypothesis can be written as H0: µ1 = µ2, and the alternative hypothesis as H1: µ1 ≠ µ2.\n",
        "\n",
        "Example 3: Suppose we want to test whether a new teaching method improves student performance compared to the old method. Here, the null hypothesis is that the new teaching method does not improve student performance compared to the old method, and the alternative hypothesis is that the new teaching method improves student performance compared to the old method. The null hypothesis can be written as H0: µ1 = µ2, and the alternative hypothesis as H1: µ1 > µ2.\n",
        "\n",
        "In each of these examples, the null hypothesis assumes that there is no difference or no effect, while the alternative hypothesis assumes that there is a difference or an effect."
      ],
      "metadata": {
        "id": "yra0uuY72JFI"
      }
    },
    {
      "cell_type": "markdown",
      "source": [
        "**Ques 7**"
      ],
      "metadata": {
        "id": "wiSzvVZG2-Lk"
      }
    },
    {
      "cell_type": "markdown",
      "source": [
        "The general steps involved in hypothesis testing are as follows:\n",
        "\n",
        "1)State the research question: Identify the research question that you want to answer, and frame the hypothesis in a clear and concise manner.\n",
        "\n",
        "2)Formulate the null and alternative hypotheses: The null hypothesis represents the default position, which is usually the assumption of no difference or no effect, while the alternative hypothesis represents the hypothesis of interest, which is usually the assumption of a difference or an effect.\n",
        "\n",
        "3)Choose the appropriate test statistic and level of significance: Select the appropriate statistical test and determine the level of significance (alpha), which represents the maximum probability of rejecting the null hypothesis when it is true.\n",
        "\n",
        "4)Collect the data: Collect a sample of data that is representative of the population of interest.\n",
        "\n",
        "5)Calculate the test statistic: Use the sample data to calculate the test statistic, which measures the degree of difference between the observed data and the null hypothesis.\n",
        "\n",
        "6)Determine the p-value: Determine the p-value, which is the probability of obtaining a test statistic as extreme as the observed one, assuming that the null hypothesis is true.\n",
        "\n",
        "7)Make a decision: Compare the p-value to the level of significance, and make a decision whether to reject or fail to reject the null hypothesis. If the p-value is less than alpha, reject the null hypothesis and accept the alternative hypothesis. Otherwise, fail to reject the null hypothesis and conclude that there is not enough evidence to support the alternative hypothesis.\n",
        "\n",
        "8)Interpret the results: Interpret the results in the context of the research question, and report the findings in a clear and concise manner.\n",
        "\n",
        "9)Draw conclusions and make recommendations: Based on the results, draw conclusions and make recommendations for further research or practical applications.\n",
        "\n",
        "It is important to note that the specific steps involved in hypothesis testing may vary depending on the research question, the type of data, and the statistical test used. However, the general steps outlined above provide a framework for conducting hypothesis testing in a structured and systematic manner."
      ],
      "metadata": {
        "id": "Kz3QdeY23AbE"
      }
    },
    {
      "cell_type": "markdown",
      "source": [
        "**Ques 8**"
      ],
      "metadata": {
        "id": "oqpyeXXi3lZd"
      }
    },
    {
      "cell_type": "markdown",
      "source": [
        "The p-value, short for probability value, is a statistical measure that is used to determine the likelihood of observing a test statistic as extreme as the one calculated from the sample data, assuming that the null hypothesis is true. In hypothesis testing, the p-value is used to make a decision about whether to reject or fail to reject the null hypothesis based on the observed data.\n",
        "\n",
        "If the p-value is less than or equal to the level of significance (alpha), typically set to 0.05, it indicates that the observed data is statistically significant, and we reject the null hypothesis. This means that there is strong evidence to support the alternative hypothesis, and we can conclude that the observed difference between the sample means or proportions is unlikely to have occurred by chance.\n",
        "\n",
        "If the p-value is greater than the level of significance, it indicates that the observed data is not statistically significant, and we fail to reject the null hypothesis. This means that there is not enough evidence to support the alternative hypothesis, and we can conclude that the observed difference between the sample means or proportions is likely to have occurred by chance.\n",
        "\n",
        "The significance of the p-value lies in its ability to quantify the strength of evidence against the null hypothesis. The smaller the p-value, the stronger the evidence against the null hypothesis, and the greater the confidence we have in the alternative hypothesis. Conversely, the larger the p-value, the weaker the evidence against the null hypothesis, and the less confident we are in the alternative hypothesis.\n",
        "\n",
        "In summary, the p-value is a measure of statistical significance that is used to evaluate the evidence against the null hypothesis in hypothesis testing. It provides a quantitative measure of the likelihood of observing a test statistic as extreme as the one calculated from the sample data, assuming that the null hypothesis is true."
      ],
      "metadata": {
        "id": "hl5I145t3n96"
      }
    },
    {
      "cell_type": "markdown",
      "source": [
        "**Ques 9**"
      ],
      "metadata": {
        "id": "BukeuJPP4O85"
      }
    },
    {
      "cell_type": "code",
      "source": [
        "import numpy as np\n",
        "import matplotlib.pyplot as plt\n",
        "from scipy.stats import t\n",
        "\n",
        "# Set the degrees of freedom parameter\n",
        "df = 10\n",
        "\n",
        "# Generate x values for the plot\n",
        "x = np.linspace(-4, 4, 1000)\n",
        "\n",
        "# Calculate the y values for the t-distribution\n",
        "y = t.pdf(x, df)\n",
        "\n",
        "# Plot the t-distribution\n",
        "plt.plot(x, y, label='t-distribution')\n",
        "\n",
        "# Add axis labels and title\n",
        "plt.xlabel('x')\n",
        "plt.ylabel('Probability Density')\n",
        "plt.title('Student\\'s t-distribution with df=10')\n",
        "\n",
        "# Add legend\n",
        "plt.legend()\n",
        "\n",
        "# Show the plot\n",
        "plt.show()\n",
        "\n"
      ],
      "metadata": {
        "colab": {
          "base_uri": "https://localhost:8080/",
          "height": 472
        },
        "id": "FZv8ispD4RjG",
        "outputId": "778fd4e5-54fd-42ff-b40a-b5de1da1df39"
      },
      "execution_count": 1,
      "outputs": [
        {
          "output_type": "display_data",
          "data": {
            "text/plain": [
              "<Figure size 640x480 with 1 Axes>"
            ],
            "image/png": "[encoded data removed]"
          },
          "metadata": {}
        }
      ]
    },
    {
      "cell_type": "markdown",
      "source": [
        "**Ques 10**"
      ],
      "metadata": {
        "id": "DWT5LGX64aSy"
      }
    },
    {
      "cell_type": "code",
      "source": [
        "import scipy.stats as stats\n",
        "\n",
        "# Set the random seed for reproducibility\n",
        "np.random.seed(42)\n",
        "\n",
        "# Generate two random samples of equal size\n",
        "sample1 = np.random.normal(loc=10, scale=2, size=30)\n",
        "sample2 = np.random.normal(loc=12, scale=2, size=30)\n",
        "\n",
        "# Calculate the two-sample t-test\n",
        "t_statistic, p_value = stats.ttest_ind(sample1, sample2)\n",
        "\n",
        "# Define the level of significance\n",
        "alpha = 0.05\n",
        "\n",
        "# Check if the p-value is less than alpha\n",
        "if p_value < alpha:\n",
        "    print(\"Reject the null hypothesis. There is evidence of a difference in means.\")\n",
        "else:\n",
        "    print(\"Fail to reject the null hypothesis. There is not enough evidence of a difference in means.\")\n",
        "\n",
        "# Print the t-statistic and p-value\n",
        "print(\"t-statistic:\", t_statistic)\n",
        "print(\"p-value:\", p_value)\n"
      ],
      "metadata": {
        "id": "USXZBm2Q4osm"
      },
      "execution_count": null,
      "outputs": []
    },
    {
      "cell_type": "markdown",
      "source": [
        "In this example, we use the scipy.stats module to calculate the two-sample t-test for independent samples. We first generate two random samples of equal size using the NumPy random.normal function. We then pass these two samples to the ttest_ind function, which calculates the t-statistic and the p-value for the two-sample t-test. We define the level of significance as alpha = 0.05, and we use an if-else statement to check whether the p-value is less than alpha. Finally, we print the t-statistic and the p-value.\n",
        "\n",
        "Note that this code assumes that the two samples are normally distributed and have equal variances. If the variances are not equal, you can pass the equal_var=False parameter to the ttest_ind function to perform a Welch's t-test instead."
      ],
      "metadata": {
        "id": "CulKzNHj4oTD"
      }
    },
    {
      "cell_type": "markdown",
      "source": [
        "**Ques 11**"
      ],
      "metadata": {
        "id": "HM--7t-z46lC"
      }
    },
    {
      "cell_type": "markdown",
      "source": [
        "Student's t-distribution is a probability distribution used to model random variables when the sample size is small and/or the population variance is unknown. It is named after William Gosset, who used the pseudonym \"Student\" when publishing his work on this distribution.\n",
        "\n",
        "The t-distribution is similar in shape to the normal distribution, but with fatter tails. As the sample size increases, the t-distribution approaches the normal distribution.\n",
        "\n",
        "The t-distribution is used when the population variance is unknown, which is often the case in practice. It is also used when the sample size is small (less than 30) because in such cases the sample mean tends to be more variable and less reliable. In hypothesis testing, the t-distribution is used to calculate confidence intervals and to perform t-tests for comparing means of two populations.\n",
        "\n",
        "In summary, the t-distribution is used when:\n",
        "\n",
        "The population variance is unknown\n",
        "\n",
        "The sample size is small (less than 30)\n",
        "\n",
        "The population is assumed to be normal or approximately normal\n",
        "\n",
        "Confidence intervals and hypothesis tests for population means are required.\n",
        "\n",
        "Note that when the sample size is large (greater than 30), the normal distribution can be used instead of the t-distribution, since the sample mean tends to follow a normal distribution by the central limit theorem, regardless of the population distribution."
      ],
      "metadata": {
        "id": "NDGNKQ6q487X"
      }
    },
    {
      "cell_type": "markdown",
      "source": [
        "**Ques 12**"
      ],
      "metadata": {
        "id": "-r7le1j56pBx"
      }
    },
    {
      "cell_type": "markdown",
      "source": [
        "The t-statistic is a measure used in hypothesis testing to determine if the means of two sets of data are significantly different from each other. It is calculated as the ratio of the difference between the means of the two sets of data to the standard error of the difference.\n",
        "\n",
        "The formula for the t-statistic is:\n",
        "\n",
        "t = (x̄₁ - x̄₂) / [ sᵢ * √(1/n₁ + 1/n₂) ]\n",
        "\n",
        "Where:\n",
        "\n",
        "x̄₁ and x̄₂ are the means of the two sets of data\n",
        "sᵢ is the pooled standard deviation, which is calculated as:\n",
        "sᵢ = √[((n₁-1)*s₁² + (n₂-1)*s₂²) / (n₁+n₂-2)]\n",
        "\n",
        "n₁ and n₂ are the sample sizes of the two sets of data\n",
        "s₁ and s₂ are the standard deviations of the two sets of data\n",
        "The t-statistic follows a t-distribution with degrees of freedom equal to n₁ + n₂ - 2. We use the t-distribution table or statistical software to determine the p-value of the t-statistic, which tells us the probability of obtaining a t-statistic as extreme or more extreme than the observed value if the null hypothesis is true. If the p-value is less than the chosen significance level, we reject the null hypothesis and conclude that the means of the two sets of data are significantly different from each other."
      ],
      "metadata": {
        "id": "b-aAz6gy6qw5"
      }
    },
    {
      "cell_type": "markdown",
      "source": [
        "**Ques 13**"
      ],
      "metadata": {
        "id": "jmTSH_8678Ms"
      }
    },
    {
      "cell_type": "markdown",
      "source": [
        "To estimate the population mean revenue with a 95% confidence interval, we can use the following formula:\n",
        "\n",
        "CI = x̄ ± tα/2 * (s/√n)\n",
        "\n",
        "where:\n",
        "\n",
        "x̄ is the sample mean revenue ($500)\n",
        "\n",
        "s is the sample standard deviation ($50)\n",
        "\n",
        "n is the sample size (50)\n",
        "\n",
        "tα/2 is the critical value of the t-distribution with (n-1) degrees of freedom and a 95% confidence level. We can find this value using a t-distribution table or a calculator, which gives us tα/2 = 2.0096 (rounded to four decimal places).\n",
        "Substituting the values, we get:\n",
        "\n",
        "CI = $500 ± 2.0096 * ($50/√50)\n",
        "\n",
        "Simplifying the expression, we get:\n",
        "\n",
        "CI = $500 ± $14.27\n",
        "\n",
        "Therefore, the 95% confidence interval for the population mean revenue is:\n",
        "\n",
        "$485.73 ≤ μ ≤ $514.27\n",
        "\n",
        "We can say with 95% confidence that the true population mean revenue is between $485.73 and $514.27."
      ],
      "metadata": {
        "id": "XuyaH3W97_ie"
      }
    },
    {
      "cell_type": "markdown",
      "source": [
        "**Ques 14**"
      ],
      "metadata": {
        "id": "B22E38rt8BOe"
      }
    },
    {
      "cell_type": "markdown",
      "source": [
        "To test the hypothesis that the new drug decreases blood pressure by 10 mmHg, we can use a one-sample t-test with the following null and alternative hypotheses:\n",
        "\n",
        "H0: μ = 10 (the new drug does not decrease blood pressure by 10 mmHg)\n",
        "Ha: μ < 10 (the new drug decreases blood pressure by less than 10 mmHg)\n",
        "\n",
        "We will use a significance level of 0.05, which means we want the probability of rejecting the null hypothesis when it is true (a type I error) to be less than or equal to 0.05.\n",
        "\n",
        "To perform the t-test, we need to calculate the t-statistic and its corresponding p-value. The t-statistic is calculated as:\n",
        "\n",
        "t = (x̄ - μ) / (s / √n)\n",
        "\n",
        "where:\n",
        "\n",
        "x̄ is the sample mean decrease in blood pressure (8 mmHg)\n",
        "μ is the hypothesized population mean decrease in blood pressure under the null hypothesis (10 mmHg)\n",
        "s is the sample standard deviation (3 mmHg)\n",
        "n is the sample size (100)\n",
        "Substituting the values, we get:\n",
        "\n",
        "t = (8 - 10) / (3 / √100) = -6.67\n",
        "\n",
        "The degrees of freedom for this test is n-1 = 99.\n",
        "\n",
        "We can use a t-distribution table or a calculator to find the p-value corresponding to a t-statistic of -6.67 with 99 degrees of freedom. The p-value is essentially the probability of observing a t-statistic as extreme or more extreme than -6.67, assuming the null hypothesis is true.\n",
        "\n",
        "Using a t-distribution table or calculator, we find that the p-value is very small, much less than the significance level of 0.05. Therefore, we reject the null hypothesis and conclude that the new drug decreases blood pressure by less than 10 mmHg. In other words, the clinical trial provides evidence that the new drug is effective in lowering blood pressure."
      ],
      "metadata": {
        "id": "mD-YEP2A8E8Q"
      }
    },
    {
      "cell_type": "markdown",
      "source": [
        "**Ques 15**"
      ],
      "metadata": {
        "id": "uLsk_CtF8ejd"
      }
    },
    {
      "cell_type": "markdown",
      "source": [
        "To test the hypothesis that the true mean weight of the products is less than 5 pounds, we can use a one-sample t-test with the following null and alternative hypotheses:\n",
        "\n",
        "H0: μ = 5 (the true mean weight is 5 pounds)\n",
        "Ha: μ < 5 (the true mean weight is less than 5 pounds)\n",
        "\n",
        "We will use a significance level of 0.01, which means we want the probability of rejecting the null hypothesis when it is true (a type I error) to be less than or equal to 0.01.\n",
        "\n",
        "To perform the t-test, we need to calculate the t-statistic and its corresponding p-value. The t-statistic is calculated as:\n",
        "\n",
        "t = (x̄ - μ) / (s / √n)\n",
        "\n",
        "where:\n",
        "\n",
        "x̄ is the sample mean weight (4.8 pounds)\n",
        "μ is the hypothesized population mean weight under the null hypothesis (5 pounds)\n",
        "s is the sample standard deviation (0.5 pounds)\n",
        "n is the sample size (25)\n",
        "Substituting the values, we get:\n",
        "\n",
        "t = (4.8 - 5) / (0.5 / √25) = -2\n",
        "\n",
        "The degrees of freedom for this test is n-1 = 24.\n",
        "\n",
        "We can use a t-distribution table or a calculator to find the p-value corresponding to a t-statistic of -2 with 24 degrees of freedom. The p-value is essentially the probability of observing a t-statistic as extreme or more extreme than -2, assuming the null hypothesis is true.\n",
        "\n",
        "Using a t-distribution table or calculator, we find that the p-value is 0.0287, which is less than the significance level of 0.01. Therefore, we reject the null hypothesis and conclude that the true mean weight of the products is less than 5 pounds. In other words, there is evidence that the products are lighter than the company's target weight of 5 pounds."
      ],
      "metadata": {
        "id": "KFQz2HtG8g-g"
      }
    },
    {
      "cell_type": "markdown",
      "source": [
        "**Ques16**"
      ],
      "metadata": {
        "id": "ky_HtowQ9BbK"
      }
    },
    {
      "cell_type": "markdown",
      "source": [
        "To test the hypothesis that the population means for the two groups are equal, we can use a two-sample t-test with the following null and alternative hypotheses:\n",
        "\n",
        "H0: μ1 = μ2 (the population means are equal)\n",
        "Ha: μ1 ≠ μ2 (the population means are not equal)\n",
        "\n",
        "We will use a significance level of 0.01, which means we want the probability of rejecting the null hypothesis when it is true (a type I error) to be less than or equal to 0.01.\n",
        "\n",
        "To perform the t-test, we need to calculate the t-statistic and its corresponding p-value. The t-statistic is calculated as:\n",
        "\n",
        "t = (x̄1 - x̄2) / (sqrt((s1^2/n1) + (s2^2/n2)))\n",
        "\n",
        "where:\n",
        "\n",
        "x̄1 is the sample mean score for the first group (80)\n",
        "x̄2 is the sample mean score for the second group (75)\n",
        "s1 is the sample standard deviation for the first group (10)\n",
        "s2 is the sample standard deviation for the second group (8)\n",
        "n1 is the sample size for the first group (30)\n",
        "n2 is the sample size for the second group (40)\n",
        "Substituting the values, we get:\n",
        "\n",
        "t = (80 - 75) / (sqrt((10^2/30) + (8^2/40))) = 2.27\n",
        "\n",
        "The degrees of freedom for this test is (n1-1) + (n2-1) = 68.\n",
        "\n",
        "We can use a t-distribution table or a calculator to find the p-value corresponding to a t-statistic of 2.27 with 68 degrees of freedom. The p-value is essentially the probability of observing a t-statistic as extreme or more extreme than 2.27, assuming the null hypothesis is true.\n",
        "\n",
        "Using a t-distribution table or calculator, we find that the p-value is 0.0262, which is less than the significance level of 0.01. Therefore, we reject the null hypothesis and conclude that the population means for the two groups are not equal. In other words, there is evidence that the study materials had different effects on the two groups' test scores."
      ],
      "metadata": {
        "id": "yzNJggFT9DuZ"
      }
    },
    {
      "cell_type": "markdown",
      "source": [
        "**Ques 17**"
      ],
      "metadata": {
        "id": "XQWjMwL198Vo"
      }
    },
    {
      "cell_type": "markdown",
      "source": [
        "To estimate the population mean number of ads watched by viewers during a TV program with a 99% confidence interval, we can use the following formula:\n",
        "\n",
        "CI = x̄ ± z*(s/√n)\n",
        "\n",
        "where:\n",
        "\n",
        "x̄ is the sample mean (4)\n",
        "\n",
        "s is the sample standard deviation (1.5)\n",
        "\n",
        "n is the sample size (50)\n",
        "\n",
        "z* is the critical value from the standard normal distribution corresponding to a 99% confidence level. \n",
        "\n",
        "This value can be found using a z-table or a calculator. For a 99% confidence level, the z* value is 2.576.\n",
        "\n",
        "Substituting the values, we get:\n",
        "\n",
        "CI = 4 ± 2.576*(1.5/√50)\n",
        "\n",
        "Simplifying the expression, we get:\n",
        "\n",
        "CI = 4 ± 0.552\n",
        "\n",
        "The 99% confidence interval for the population mean is [3.448, 4.552].\n",
        "\n",
        "Therefore, we are 99% confident that the true average number of ads watched by viewers during a TV program falls within the range of 3.448 to 4.552 ads."
      ],
      "metadata": {
        "id": "iDoOjYui9-rA"
      }
    }
  ]
}