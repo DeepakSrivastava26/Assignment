{
  "nbformat": 4,
  "nbformat_minor": 0,
  "metadata": {
    "colab": {
      "provenance": []
    },
    "kernelspec": {
      "name": "python3",
      "display_name": "Python 3"
    },
    "language_info": {
      "name": "python"
    }
  },
  "cells": [
    {
      "cell_type": "markdown",
      "source": [
        "Question 1"
      ],
      "metadata": {
        "id": "3ySnMFZlk-YB"
      }
    },
    {
      "cell_type": "markdown",
      "source": [
        "Guido van Rossum"
      ],
      "metadata": {
        "id": "OjfuGl1NlABt"
      }
    },
    {
      "cell_type": "markdown",
      "source": [
        "Question 2"
      ],
      "metadata": {
        "id": "-1GPn0TjlAdL"
      }
    },
    {
      "cell_type": "markdown",
      "source": [
        "Python is dynamically typed and garbage-collected. It supports multiple programming paradigms, including structured (particularly procedural), object-oriented and functional programming."
      ],
      "metadata": {
        "id": "imBvffpclxf8"
      }
    },
    {
      "cell_type": "markdown",
      "source": [
        "Question 3"
      ],
      "metadata": {
        "id": "xVQuiudCmTqP"
      }
    },
    {
      "cell_type": "markdown",
      "source": [
        "Yes, Python is a case-sensitive language, i.e., it treats uppercase and lowercase characters differently. This applies to identifiers too."
      ],
      "metadata": {
        "id": "oLAy6nkYmV7u"
      }
    },
    {
      "cell_type": "markdown",
      "source": [
        "Question 4"
      ],
      "metadata": {
        "id": "e8Etp37Dm0Cx"
      }
    },
    {
      "cell_type": "markdown",
      "source": [
        ".py is correct extension of Python file."
      ],
      "metadata": {
        "id": "v9NlQTiTm13I"
      }
    },
    {
      "cell_type": "markdown",
      "source": [
        "Question 5"
      ],
      "metadata": {
        "id": "lisn8vManahR"
      }
    },
    {
      "cell_type": "markdown",
      "source": [
        "\"Python is an interpreted language\", is the most common saying, which is also written in various books, but the hidden fact is Python is both compiled as well as an interpreted language. This means when we run a python code, it is first compiled and then interpreted line by line. The compilation part is mostly hidden from the user. While running the code, Python generates a byte code internally, this byte code is then converted using a python virtual machine (p.v.m) to generate the output."
      ],
      "metadata": {
        "id": "QtS-zu8_nb37"
      }
    },
    {
      "cell_type": "markdown",
      "source": [
        "Question 6"
      ],
      "metadata": {
        "id": "03CmfpwIpT4c"
      }
    },
    {
      "cell_type": "markdown",
      "source": [
        "The following are blocks: a module, a function body, and a class definition."
      ],
      "metadata": {
        "id": "Lmo7dZINpWX5"
      }
    },
    {
      "cell_type": "markdown",
      "source": [
        "Question 7"
      ],
      "metadata": {
        "id": "ztCa5-24qBe1"
      }
    },
    {
      "cell_type": "markdown",
      "source": [
        "In Python, the # character is used to start a comment. The comment continues after the # until the end of the line."
      ],
      "metadata": {
        "id": "YhmjNoB3qDCN"
      }
    },
    {
      "cell_type": "markdown",
      "source": [
        "Question 8"
      ],
      "metadata": {
        "id": "m-3s2DNKqNhu"
      }
    },
    {
      "cell_type": "markdown",
      "source": [
        " The function sys.version can help us to find the version of python that we are currently working on. It also contains information on the build number and compiler used. For example, 3.5.2, 2.7.3 etc. this function also returns the current date, time, bits etc along with the version."
      ],
      "metadata": {
        "id": "us51-vuq0skt"
      }
    },
    {
      "cell_type": "markdown",
      "source": [
        "Question 9"
      ],
      "metadata": {
        "id": "bbM7wPtAqP44"
      }
    },
    {
      "cell_type": "markdown",
      "source": [
        "Python supports the creation of anonymous functions (i.e. functions that are not bound to a name) at runtime, using a construct called lambda."
      ],
      "metadata": {
        "id": "KHWQrj2HrzAQ"
      }
    },
    {
      "cell_type": "markdown",
      "source": [
        "Question 10"
      ],
      "metadata": {
        "id": "NEM4Sts_rzXP"
      }
    },
    {
      "cell_type": "markdown",
      "source": [
        "PIP is a recursive acronym for “Preferred Installer Program” or PIP Installs Packages. "
      ],
      "metadata": {
        "id": "vrmUOfLJr_Fa"
      }
    },
    {
      "cell_type": "markdown",
      "source": [
        "Ques 11"
      ],
      "metadata": {
        "id": "mch7qxPbsYmE"
      }
    },
    {
      "cell_type": "markdown",
      "source": [
        "Python abs()\n",
        "returns absolute value of a number\n",
        "\n",
        "Python all()\n",
        "returns true when all elements in iterable is true\n",
        "\n",
        "Python any()\n",
        "Checks if any Element of an Iterable is True\n",
        "\n",
        "Python ascii()\n",
        "Returns String Containing Printable Representation\n",
        "\n",
        "Python bin()\n",
        "converts integer to binary string"
      ],
      "metadata": {
        "id": "jCW-zhqmsaOl"
      }
    },
    {
      "cell_type": "markdown",
      "source": [
        "Ques 12"
      ],
      "metadata": {
        "id": "L0tcITOyvQR5"
      }
    },
    {
      "cell_type": "markdown",
      "source": [
        "An identifier can have a maximum length of 79 characters in Python. "
      ],
      "metadata": {
        "id": "VaAd8d0tvSZy"
      }
    },
    {
      "cell_type": "markdown",
      "source": [
        "Ques 13"
      ],
      "metadata": {
        "id": "vWaPvyKavZ-u"
      }
    },
    {
      "cell_type": "markdown",
      "source": [
        "Advantages: \n",
        "1)Presence of third-party modules \n",
        "2)Extensive support libraries(NumPy for numerical calculations, Pandas for data analytics, etc.) \n",
        "3)Open source and large active community base \n",
        "Versatile, Easy to read, learn and write\n",
        "4)User-friendly data structures \n",
        "5)High-level language \n",
        "6)Dynamically typed language(No need to mention data type based on the value assigned, it takes data type) \n",
        "7)Object-Oriented and Procedural  Programming language\n",
        "8)Portable and Interactive"
      ],
      "metadata": {
        "id": "cP1j7R1uvbOZ"
      }
    },
    {
      "cell_type": "markdown",
      "source": [
        "Ques 14"
      ],
      "metadata": {
        "id": "VvxtnJ3_v2pw"
      }
    },
    {
      "cell_type": "markdown",
      "source": [
        "In Python memory allocation and deallocation method is automatic as the Python developers created a garbage collector for Python so that the user does not have to do manual garbage collection."
      ],
      "metadata": {
        "id": "i2G3eDB8wtRY"
      }
    },
    {
      "cell_type": "markdown",
      "source": [
        "Ques 15"
      ],
      "metadata": {
        "id": "-ZVxLUySwvEH"
      }
    },
    {
      "cell_type": "markdown",
      "source": [
        "Install python from this link https://www.python.org/downloads/\n",
        "After this, install it on your PC. Look for the location where PYTHON has been installed on your PC using tge following command on your command prompt: cmd python.\n",
        "Then go to advanced system settings and add new variable and name it as PYTHON_NAME and paste the copied path.\n",
        "Then look for the path variable, select it's value and select edit\n",
        "Add a semicolon towards the end of the value if it's not present and then type %PYTHON_HOME%"
      ],
      "metadata": {
        "id": "sA7RAqmKxEi8"
      }
    },
    {
      "cell_type": "markdown",
      "source": [
        "Ques 16"
      ],
      "metadata": {
        "id": "psYo0PYExFTA"
      }
    },
    {
      "cell_type": "markdown",
      "source": [
        "The indentation in Python is very important. Python uses indentation to indicate a block of code."
      ],
      "metadata": {
        "id": "XGDZ16JQxGki"
      }
    }
  ]
}