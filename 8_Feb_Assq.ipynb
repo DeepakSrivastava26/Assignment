{
  "nbformat": 4,
  "nbformat_minor": 0,
  "metadata": {
    "colab": {
      "provenance": []
    },
    "kernelspec": {
      "name": "python3",
      "display_name": "Python 3"
    },
    "language_info": {
      "name": "python"
    }
  },
  "cells": [
    {
      "cell_type": "markdown",
      "source": [
        "Ques 1"
      ],
      "metadata": {
        "id": "GVKVyqPN-pxo"
      }
    },
    {
      "cell_type": "markdown",
      "source": [
        "Abstraction is the process of hiding the internal details of an application from the outer world. Abstraction is used to describe things in simple terms. It’s used to create a boundary between the application and the client programs.\n",
        "\n",
        "Abstraction is present in almost all the real life machines.\n",
        "\n",
        "Your car is a great example of abstraction. You can start a car by turning the key or pressing the start button. You don’t need to know how the engine is getting started, what all components your car has. The car internal implementation and complex logic is completely hidden from the user.\n",
        "\n",
        "We can heat our food in Microwave. We press some buttons to set the timer and type of food. Finally, we get a hot and delicious meal. The microwave internal details are hidden from us. We have been given access to the functionality in a very simple manner."
      ],
      "metadata": {
        "id": "qPAzWiK2-XKH"
      }
    },
    {
      "cell_type": "markdown",
      "source": [
        "Ques 2"
      ],
      "metadata": {
        "id": "C0CxLR4h_8W_"
      }
    },
    {
      "cell_type": "markdown",
      "source": [
        "i) Abstraction shows only useful data by providing the most necessary details, whereas Encapsulation wraps code and data for necessary information.\n",
        "\n",
        "ii) Abstraction is focused mainly on what should be done, while Encapsulation is focused on how it should be done.\n",
        "\n",
        "iii) Abstraction hides complexity by giving you a more abstract picture, while Encapsulation hides internal work so that you can change it later.\n",
        "\n",
        "iv) Abstraction helps you to partition the program into many independent portions, whereas Encapsulation is easy to change with new requirements.\n",
        "\n",
        "v) Comparing Encapsulation vs Abstraction, Abstraction solves problems at the design level while Encapsulation solves problems at the implementation level.\n",
        "\n",
        "vi) Abstraction hides the irrelevant details found in the code, whereas Encapsulation helps developers to organize the entire code easily.\n"
      ],
      "metadata": {
        "id": "BwzzNqd8_9_I"
      }
    },
    {
      "cell_type": "markdown",
      "source": [
        "Ques 3"
      ],
      "metadata": {
        "id": "xYmRYnOoAUaQ"
      }
    },
    {
      "cell_type": "markdown",
      "source": [
        "An abstract base class is a class that is used as a blueprint for other classes. Abstract base classes are a powerful feature in Python since they help you define a blueprint for other classes that may have something in common.\n",
        "An abstract base class is “Abstract” because it is non-existent – it’s just an ideal way for some other class to exist, but it cannot exist on its own."
      ],
      "metadata": {
        "id": "os0Wq0fCAWiW"
      }
    },
    {
      "cell_type": "markdown",
      "source": [
        "Ques 4"
      ],
      "metadata": {
        "id": "aKAslGn2c9tK"
      }
    },
    {
      "cell_type": "markdown",
      "source": [
        "**#    An abstract method is a method that is declared, but does not contain implementation. An abstract method in a base class identifies the functionality that should be implemented by all its subclasses. However, since the implementation of an abstract method would differ from one subclass to another, often the method body comprises just a pass statement. Every subclass of the base class will ride this method with its implementation. A class containing abstract methods is called abstract class.Python provides the abc module to use the abstraction in the Python program, syntax as:**"
      ],
      "metadata": {
        "id": "DSOlXvScdt47"
      }
    },
    {
      "cell_type": "markdown",
      "source": [
        "To use Python Abstract Base Classes (ABCs), one needs to import ABCMeta and abstractmethod from the abc module. For example,let us examine the class Shape and its subclasses Rectangle and Circle defined in the script shape . Each of the subclasses Rectangle and Circle needs methods for computing area and perimeter. However, the procedure for computing area and perimeter would differ for Rectangle and Circle. Therefore, we define the classes Rectangle and Circle as subclasses of the class Shape. We define methods area and perimeter as abstract methods in the class Shape. The subclasses Rectangle and Circle override the methods area and perimeter by defining their implementation as shown in the program. If the subclasses Rectangle and Circle fail to override any of the methods area or perimeter, Python will yield a TypeError while instantiating them"
      ],
      "metadata": {
        "id": "W6dv7CzqeOQn"
      }
    },
    {
      "cell_type": "markdown",
      "source": [
        "Ques 5"
      ],
      "metadata": {
        "id": "0HOb2LVieQb-"
      }
    },
    {
      "cell_type": "markdown",
      "source": [
        "In object-oriented programming, an abstract class is a class that cannot be instantiated. However, you can create classes that inherit from an abstract class.\n",
        "\n",
        "Typically, you use an abstract class to create a blueprint for other classes.\n",
        "\n",
        "Similarly, an abstract method is an method without an implementation. An abstract class may or may not include abstract methods.\n",
        "\n",
        "Python doesn’t directly support abstract classes. But it does offer a module that allows you to define abstract classes.\n",
        "\n",
        "To define an abstract class, you use the abc (abstract base class) module.\n",
        "\n",
        "The abc module provides you with the infrastructure for defining abstract base classes"
      ],
      "metadata": {
        "id": "WUFoHl6jeR7m"
      }
    }
  ]
}