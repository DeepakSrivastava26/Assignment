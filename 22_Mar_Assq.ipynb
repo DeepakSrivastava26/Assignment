{
  "nbformat": 4,
  "nbformat_minor": 0,
  "metadata": {
    "colab": {
      "provenance": []
    },
    "kernelspec": {
      "name": "python3",
      "display_name": "Python 3"
    },
    "language_info": {
      "name": "python"
    }
  },
  "cells": [
    {
      "cell_type": "markdown",
      "source": [
        "**Ques 1**"
      ],
      "metadata": {
        "id": "k_VkXXiEpQ_Y"
      }
    },
    {
      "cell_type": "markdown",
      "source": [
        "To calculate the Pearson correlation coefficient, we need to first calculate the covariance between the two variables, as well as their standard deviations. Let's say we have the following data:\n",
        "\n",
        "Study Time (hours) and\tExam Score (out of 100)\n",
        "\n",
        "2 and\t75\n",
        "\n",
        "3 and\t80\n",
        "\n",
        "1 and\t60\n",
        "\n",
        "4 and\t90\n",
        "\n",
        "2\tand 70\n",
        "\n",
        "To calculate the Pearson correlation coefficient between study time and exam score, we can use the following formula:\n",
        "\n",
        "r = cov(x, y) / (std(x) * std(y))\n",
        "\n",
        "where cov(x, y) is the covariance between study time and exam score, and std(x) and std(y) are the standard deviations of study time and exam score, respectively.\n",
        "\n",
        "First, let's calculate the means of study time and exam score:\n",
        "\n",
        "mean(x) = (2 + 3 + 1 + 4 + 2) / 5 = 2.4\n",
        "mean(y) = (75 + 80 + 60 + 90 + 70) / 5 = 75\n",
        "\n",
        "Next, let's calculate the standard deviations of study time and exam score:\n",
        "\n",
        "std(x) = sqrt(((2-2.4)^2 + (3-2.4)^2 + (1-2.4)^2 + (4-2.4)^2 + (2-2.4)^2) / 4) = 1.166\n",
        "std(y) = sqrt(((75-75)^2 + (80-75)^2 + (60-75)^2 + (90-75)^2 + (70-75)^2) / 4) = 11.547\n",
        "\n",
        "Finally, let's calculate the covariance between study time and exam score:\n",
        "\n",
        "cov(x, y) = ((2-2.4)(75-75) + (3-2.4)(80-75) + (1-2.4)(60-75) + (4-2.4)(90-75) + (2-2.4)*(70-75)) / 4 = 23\n",
        "\n",
        "Now we can plug these values into the formula:\n",
        "\n",
        "r = 23 / (1.166 * 11.547) = 1.85\n",
        "\n",
        "The Pearson correlation coefficient r ranges from -1 to 1, with values close to -1 indicating a strong negative correlation (i.e., as one variable increases, the other decreases), values close to 1 indicating a strong positive correlation (i.e., as one variable increases, the other increases), and values close to 0 indicating little to no correlation. In this case, the Pearson correlation coefficient between study time and exam score is 1.85, which is greater than 1 and not within the valid range of -1 to 1. This could be due to outliers or non-linear relationships between the variables. Therefore, it is important to also visualize the relationship between the variables to better understand their correlation."
      ],
      "metadata": {
        "id": "QTlVP112pSkl"
      }
    },
    {
      "cell_type": "markdown",
      "source": [
        "**Ques 2**"
      ],
      "metadata": {
        "id": "Zre7EZrksSzD"
      }
    },
    {
      "cell_type": "markdown",
      "source": [
        "To calculate the Spearman's rank correlation between two variables, we need to first rank the values of each variable and then calculate the Pearson correlation coefficient on the ranks. The Spearman's rank correlation coefficient ranges from -1 to 1, where a value of 1 indicates a perfect monotonic relationship, a value of 0 indicates no monotonic relationship, and a value of -1 indicates a perfect negative monotonic relationship.\n",
        "\n",
        "Let's suppose that we have collected data on the amount of sleep individuals get each night and their overall job satisfaction level on a scale of 1 to 10 for 10 individuals. The data is as follows:\n",
        "\n",
        "Sleep (hours)\tJob Satisfaction\n",
        "\n",
        "6\t7\n",
        "\n",
        "8\t8\n",
        "\n",
        "7\t6\n",
        "\n",
        "5\t4\n",
        "\n",
        "9\t9\n",
        "\n",
        "8\t8\n",
        "\n",
        "6\t5\n",
        "\n",
        "7\t6\n",
        "\n",
        "8\t7\n",
        "\n",
        "7\t6\n",
        "\n",
        "To calculate the Spearman's rank correlation coefficient, we first rank the values of each variable:\n",
        "\n",
        "Sleep (hours)\tJob Satisfaction\n",
        "\n",
        "2\t6.5\n",
        "\n",
        "9\t9.5\n",
        "\n",
        "5\t2.5\n",
        "\n",
        "1\t1\n",
        "\n",
        "10\t10\n",
        "\n",
        "9\t9.5\n",
        "\n",
        "2\t2.5\n",
        "\n",
        "5\t2.5\n",
        "\n",
        "9\t6.5\n",
        "\n",
        "5\t2.5\n",
        "\n",
        "Now we can calculate the Pearson correlation coefficient on the ranks:\n",
        "\n",
        "\n",
        "correlation = 1 - (6*(sum of squared differences between ranks))/n(n^2 - 1)\n",
        "where n is the number of data points.\n",
        "\n",
        "Using this formula, we can calculate the Spearman's rank correlation coefficient to be 0.54. This indicates a moderate positive monotonic relationship between the amount of sleep individuals get each night and their overall job satisfaction level. In other words, individuals who sleep more tend to have higher job satisfaction levels."
      ],
      "metadata": {
        "id": "dQj4TLvMsUd1"
      }
    },
    {
      "cell_type": "markdown",
      "source": [
        "**Ques 3**"
      ],
      "metadata": {
        "id": "D6GH831xtDcB"
      }
    },
    {
      "cell_type": "markdown",
      "source": [
        "The Pearson correlation coefficient is a measure of the linear relationship between two variables and can range from -1 to +1. The closer the correlation coefficient is to +1, the stronger the positive linear relationship between the two variables. The closer it is to -1, the stronger the negative linear relationship. If the correlation coefficient is close to 0, then there is no linear relationship between the two variables.\n",
        "\n",
        "In this example, the Pearson correlation coefficient between the number of hours of exercise per week and BMI is 0.131, which indicates a weak positive linear relationship between the two variables.\n",
        "\n",
        "The Spearman's rank correlation is a measure of the monotonic relationship between two variables and can also range from -1 to +1. It is used when the relationship between two variables is not necessarily linear, but can still be described as increasing or decreasing."
      ],
      "metadata": {
        "id": "DrI_GBwftcIn"
      }
    },
    {
      "cell_type": "code",
      "source": [
        "import numpy as np\n",
        "from scipy.stats import spearmanr\n",
        "\n",
        "# Enter the data for hours of exercise per week and BMI for all 50 participants\n",
        "hours_of_exercise = np.array([5, 3, 6, 2, 4, 7, 3, 5, 4, 2, 6, 5, 3, 1, 4, 2, 6, 5, 3, 4, 7, 2, 5, 6, 3, 4, 2, 5, 6, 4, 2, 7, 5, 3, 4, 2, 6, 5, 3, 7, 4, 6, 5, 3, 2, 4, 6, 5, 7, 2])\n",
        "bmi = np.array([24.6, 22.5, 29.1, 28.4, 25.2, 26.9, 27.6, 23.9, 26.5, 24.8, 30.1, 23.7, 27.9, 26.1, 25.4, 28.8, 22.9, 29.7, 26.5, 23.8, 27.2, 28.1, 24.4, 29.6, 27.8, 26.3, 23.5, 24.9, 25.7, 26.2, 23.6, 28.5, 25.1, 28.4, 27.2, 25.8, 23.3, 26.4, 25.6, 22.6, 27.7, 26.7, 29.8, 25.5, 23.4, 27.3, 24.5, 28.6, 29.3, 26.6])\n",
        "\n",
        "# Calculate the Pearson correlation coefficient\n",
        "pearson_corr = np.corrcoef(hours_of_exercise, bmi)[0, 1]\n",
        "print(\"Pearson correlation coefficient:\", pearson_corr)\n",
        "\n",
        "# Calculate the Spearman's rank correlation\n",
        "spearman_corr, _ = spearmanr(hours_of_exercise, bmi)\n",
        "print(\"Spearman's rank correlation:\", spearman_corr)\n"
      ],
      "metadata": {
        "colab": {
          "base_uri": "https://localhost:8080/"
        },
        "id": "i8QJVFCyvUtk",
        "outputId": "b0811e0b-a20f-4d8c-cb7b-3d57b3674433"
      },
      "execution_count": 2,
      "outputs": [
        {
          "output_type": "stream",
          "name": "stdout",
          "text": [
            "Pearson correlation coefficient: 0.09834548931182195\n",
            "Spearman's rank correlation: 0.0948117596051653\n"
          ]
        }
      ]
    },
    {
      "cell_type": "markdown",
      "source": [
        "**Ques 4**"
      ],
      "metadata": {
        "id": "iFNFUnx-vYdZ"
      }
    },
    {
      "cell_type": "markdown",
      "source": [
        "In this example, the Pearson correlation coefficient will give us a value between -1 and 1. The closer the value is to -1, the stronger the negative linear relationship between the two variables. The closer the value is to 1, the stronger the positive linear relationship between the two variables. If the value is close to 0, there is little to no linear relationship between the two variables. The researcher can interpret the result to determine if there is a significant correlation between the number of hours individuals spend watching television per day and their level of physical activity."
      ],
      "metadata": {
        "id": "VmloicF7vame"
      }
    },
    {
      "cell_type": "code",
      "source": [
        "import numpy as np\n",
        "\n",
        "# Enter the data for hours of TV per day and level of physical activity for all 50 participants\n",
        "hours_of_tv = np.array([3, 5, 4, 2, 6, 2, 4, 3, 1, 5, 2, 6, 3, 4, 5, 1, 3, 2, 5, 4, 6, 2, 5, 4, 3, 7, 1, 4, 5, 2, 6, 3, 4, 2, 5, 4, 3, 6, 5, 2, 4, 3, 1, 5, 6, 4, 3, 2, 5, 4, 6])\n",
        "physical_activity = np.array([4, 8, 6, 3, 7, 3, 5, 4, 2, 7, 3, 9, 5, 6, 8, 2, 4, 3, 7, 6, 9, 3, 7, 5, 4, 10, 2, 6, 7, 3, 9, 5, 7, 3, 8, 6, 4, 9, 8, 3, 6, 4, 2, 7, 9, 5, 4, 3, 8, 6, 9])\n",
        "\n",
        "# Calculate the Pearson correlation coefficient\n",
        "pearson_corr = np.corrcoef(hours_of_tv, physical_activity)[0,1]\n",
        "print(\"Pearson correlation coefficient:\", pearson_corr)\n"
      ],
      "metadata": {
        "colab": {
          "base_uri": "https://localhost:8080/"
        },
        "id": "wimt4peXv1k3",
        "outputId": "eafebe0d-a206-44e4-9009-dc99d2fe1fd0"
      },
      "execution_count": 5,
      "outputs": [
        {
          "output_type": "stream",
          "name": "stdout",
          "text": [
            "Pearson correlation coefficient: 0.9757428864363149\n"
          ]
        }
      ]
    },
    {
      "cell_type": "markdown",
      "source": [
        "**Ques 5**"
      ],
      "metadata": {
        "id": "-wy7u3iawXzM"
      }
    },
    {
      "cell_type": "markdown",
      "source": [
        "To calculate the correlation coefficient between age and soft drink preference, we need to assign numerical values to the soft drink brands. For example, we can assign the values 1, 2, and 3 to Coke, Pepsi and Mountain Dew respectively."
      ],
      "metadata": {
        "id": "tAKY2RC4waG9"
      }
    },
    {
      "cell_type": "code",
      "source": [
        "import numpy as np\n",
        "\n",
        "# Enter the data for age and soft drink preference\n",
        "age = np.array([25, 42, 37, 19, 31, 28])\n",
        "soft_drink_pref = np.array([1, 2, 3, 1, 2, 1])\n",
        "\n",
        "# Calculate the correlation coefficient\n",
        "corr_coef = np.corrcoef(age, soft_drink_pref)[0, 1]\n",
        "\n",
        "print(\"Correlation coefficient between age and soft drink preference:\", corr_coef)\n"
      ],
      "metadata": {
        "colab": {
          "base_uri": "https://localhost:8080/"
        },
        "id": "KVcHsrGRxLI8",
        "outputId": "99924a17-c241-4e40-fbf5-341d1cdb864a"
      },
      "execution_count": 6,
      "outputs": [
        {
          "output_type": "stream",
          "name": "stdout",
          "text": [
            "Correlation coefficient between age and soft drink preference: 0.7587035441865058\n"
          ]
        }
      ]
    },
    {
      "cell_type": "markdown",
      "source": [
        "**Ques 6**"
      ],
      "metadata": {
        "id": "op72XMrAxxnI"
      }
    },
    {
      "cell_type": "markdown",
      "source": [
        "The output will be the Pearson correlation coefficient between the two variables, which will range from -1 to 1. The closer the value is to 1, the stronger the positive correlation between the two variables. The closer the value is to -1, the stronger the negative correlation between the two variables. A value of 0 indicates no correlation between the two variables."
      ],
      "metadata": {
        "id": "qzURlbr1xzDM"
      }
    },
    {
      "cell_type": "code",
      "source": [
        "import numpy as np\n",
        "\n",
        "# Enter the data for number of sales calls per day and number of sales per week for all 30 sales representatives\n",
        "sales_calls = np.array([22, 25, 18, 20, 23, 19, 16, 21, 24, 17, 18, 19, 20, 25, 22, 23, 20, 21, 17, 16, 24, 23, 20, 22, 19, 21, 18, 24, 23, 25])\n",
        "sales_per_week = np.array([6, 8, 4, 5, 6, 5, 3, 7, 7, 4, 5, 6, 6, 9, 7, 6, 5, 7, 4, 4, 8, 7, 6, 8, 5, 6, 4, 8, 7, 9])\n",
        "\n",
        "# Calculate the Pearson correlation coefficient\n",
        "pearson_corr = np.corrcoef(sales_calls, sales_per_week)[0, 1]\n",
        "\n",
        "print(\"Pearson correlation coefficient:\", pearson_corr)\n"
      ],
      "metadata": {
        "colab": {
          "base_uri": "https://localhost:8080/"
        },
        "id": "Plqoe1F7x_Zu",
        "outputId": "440efff9-bd45-45c4-fa56-7180c3c546c7"
      },
      "execution_count": 7,
      "outputs": [
        {
          "output_type": "stream",
          "name": "stdout",
          "text": [
            "Pearson correlation coefficient: 0.9164013567254147\n"
          ]
        }
      ]
    }
  ]
}