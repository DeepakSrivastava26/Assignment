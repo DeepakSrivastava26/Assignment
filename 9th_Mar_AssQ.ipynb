{
  "nbformat": 4,
  "nbformat_minor": 0,
  "metadata": {
    "colab": {
      "provenance": []
    },
    "kernelspec": {
      "name": "python3",
      "display_name": "Python 3"
    },
    "language_info": {
      "name": "python"
    }
  },
  "cells": [
    {
      "cell_type": "markdown",
      "source": [
        "**Ques 1**"
      ],
      "metadata": {
        "id": "NW7P5_J1RbmS"
      }
    },
    {
      "cell_type": "markdown",
      "source": [
        "Probability Mass Function — Discrete\n",
        "\n",
        "The Probability Mass Function (PMF) provides the probability distribution for discrete variables. For example, rolling dice. There are 6 distinct possible outcomes that define the entire sample space {1, 2, 3, 4, 5, 6}. Note that we only have whole numbers, i.e. no 1.2 or 3.75. In the PMF, each discrete variable is mapped to its probability. In an ideal situation rolling a die, each of the six variables has a 1/6 probability of being rolled.\n",
        "\n",
        "While the ideal distribution is 1/6 for each possible outcome 1 to 6, this rarely occurs in real-world scenarios. If we simulate an increasing number of trials we see that the distribution doesn’t match the ideal even with 100 dice rolls. As we increase orders of magnitude the simulated distribution approaches the theoretical PMF.\n",
        "\n"
      ],
      "metadata": {
        "id": "9RFwJl2hSBwD"
      }
    },
    {
      "cell_type": "markdown",
      "source": [
        "Probability Density Function — Continuous\n",
        "\n",
        "A key aspect of continuous variables is that there are an infinite number of possible outcomes.\n",
        "\n",
        "The probability density function (PDF) shows where observations are more likely to occur in the probability distribution. \n",
        "\n",
        "Example- Height of a person. It could be 6.00001 or 5.99999. We use a range of values instead, because we can calculate the probability that your height is between 5'11\" and 6'1\". This spread is called the interval."
      ],
      "metadata": {
        "id": "n_Sz_XT5TZTn"
      }
    },
    {
      "cell_type": "markdown",
      "source": [
        "**Ques 2**"
      ],
      "metadata": {
        "id": "01U2sPASUCzz"
      }
    },
    {
      "cell_type": "markdown",
      "source": [
        "The Cumulative Distribution Function (CDF), of a real-valued random variable X, evaluated at x, is the probability function that X will take a value less than or equal to x.\n",
        "\n",
        "Consider a simple example for CDF which is given by rolling a fair six-sided die, where X is the random variable\n",
        "\n",
        "We know that the probability of getting an outcome by rolling a six-sided die is given as:\n",
        "\n",
        "Probability of getting 1 = P(X≤ 1 ) = 1 / 6\n",
        "\n",
        "Probability of getting 2 = P(X≤ 2 ) = 2 / 6\n",
        "\n",
        "Probability of getting 3 = P(X≤ 3 ) = 3 / 6\n",
        "\n",
        "Probability of getting 4 = P(X≤ 4 ) = 4 / 6\n",
        "\n",
        "Probability of getting 5 = P(X≤ 5 ) = 5 / 6\n",
        "\n",
        "Probability of getting 6 = P(X≤ 6 ) = 6 / 6 = 1\n",
        "\n",
        "From this, it is noted that the probability value always lies between 0 and 1 and it is non-decreasing and right continuous in nature.\n",
        "\n",
        "The most important application of cumulative distribution function is used in statistical analysis. In statistical analysis, the concept of CDF is used in two ways.\n",
        "\n",
        "1) Finding the frequency of occurrence of values for the given phenomena using cumulative frequency analysis.\n",
        "\n",
        "2) To derive some simple statistics properties, by using an empirical distribution function, that uses a formal direct estimate of CDFs."
      ],
      "metadata": {
        "id": "_UlH-IIGUG_W"
      }
    },
    {
      "cell_type": "markdown",
      "source": [
        "**Ques 3**"
      ],
      "metadata": {
        "id": "MFwFe64wZSPR"
      }
    },
    {
      "cell_type": "markdown",
      "source": [
        "Some examples of situations where the normal distribution might be used as a model.\n",
        "\n",
        "1. Height\n",
        "\n",
        "The height of people is an example of normal distribution. Most of the people in a specific population are of average height. The number of people taller and shorter than the average height people is almost equal, and a very small number of people are either extremely tall or extremely short. Several genetic and environmental factors influence height. Therefore, it follows the normal distribution.\n",
        "\n",
        "2. Rolling A Dice\n",
        "\n",
        "A fair rolling of dice is also a good example of normal distribution. In an experiment, it has been found that when a dice is rolled 100 times, chances to get ‘1’ are 15-18% and if we roll the dice 1000 times, the chances to get ‘1’ is, again, the same, which averages to 16.7% (1/6). If we roll two dice simultaneously, there are 36 possible combinations. The probability of rolling ‘1’ (with six possible combinations) again averages to around 16.7%, i.e., (6/36). More the number of dice more elaborate will be the normal distribution graph.\n",
        "\n",
        "3. Tossing A Coin\n",
        "4. IQ\n",
        "5. Shoe Size\n",
        "6. Student’s Average Report\n"
      ],
      "metadata": {
        "id": "_I_6l1wfZUty"
      }
    },
    {
      "cell_type": "markdown",
      "source": [
        "The two main parameters of a (normal) distribution are the mean and standard deviation. The parameters determine the shape and probabilities of the distribution. The shape of the distribution changes as the parameter values change.\n",
        "\n",
        "1. The mean, median, and mode are equal\n",
        "The middle point of a normal distribution is the point with the maximum frequency, which means that it possesses the most observations of the variable. The midpoint is also the point where these three measures fall. The measures are usually equal in a perfectly (normal) distribution.\n",
        "\n",
        "2. Empirical rule\n",
        "In normally distributed data, there is a constant proportion of distance lying under the curve between the mean and specific number of standard deviations from the mean. For example, 68.25% of all cases fall within +/- one standard deviation from the mean. 95% of all cases fall within +/- two standard deviations from the mean, while 99% of all cases fall within +/- three standard deviations from the mean."
      ],
      "metadata": {
        "id": "QSbhDFc8atgc"
      }
    },
    {
      "cell_type": "markdown",
      "source": [
        "**Ques 4**"
      ],
      "metadata": {
        "id": "hJ32Y67ybUqp"
      }
    },
    {
      "cell_type": "markdown",
      "source": [
        "Normal distribution\n",
        "\n",
        "The normal distribution is also termed as a gaussian distribution. It represents the data from the mean position. In the graph form normal distribution appears as a bell curve.\n",
        "\n",
        "The normal distribution is widely used in financing industries. To examine the price action of the stocks and to account for the returns in the assent class.\n",
        "\n",
        "The normal distribution is symmetric and has a skewness of zero. The skewness measures the symmetry of a distribution with respect to the normal distribution.\n",
        "\n",
        "The normal distribution is an important probability distribution in math and statistics because many continuous data in nature and psychology display this bell-shaped curve when compiled and graphed.\n",
        "\n",
        "Some real life examples:\n",
        "1. Tossing A Coin\n",
        "2. IQ\n",
        "3. Shoe Size\n",
        "4. Student’s Average Report\n"
      ],
      "metadata": {
        "id": "kJdpk7fkcrE1"
      }
    },
    {
      "cell_type": "markdown",
      "source": [
        "**Ques 5**"
      ],
      "metadata": {
        "id": "FffG6nY6dFxg"
      }
    },
    {
      "cell_type": "markdown",
      "source": [
        "\n",
        "A discrete probability distribution wherein the random variable can only have 2 possible outcomes is known as a Bernoulli Distribution. If in a Bernoulli trial the random variable takes on the value of 1, it means that this is a success. The probability of success is given by p. Similarly, if the value of the random variable is 0, it indicates failure. The probability of failure is q or 1 - p. Bernoulli distribution can be used to derive a binomial distribution, geometric distribution, and negative binomial distribution.\n",
        "\n",
        "This distribution deals with the data which only has 1 trial & only 2 possible outcomes. Anything other than that will not fall under the Bernoulli Distribution category.\n",
        "\n",
        "Example\n",
        "\n",
        "Suppose there is an experiment where you flip a coin that is fair. If the outcome of the flip is heads then you will win. This means that the probability of getting heads is p = 1/2. If X is the random variable following a Bernoulli Distribution, we get P(X = 1) = p = 1/2."
      ],
      "metadata": {
        "id": "L1cMyrs7dIRk"
      }
    },
    {
      "cell_type": "markdown",
      "source": [
        "Binomial VS Bernoulli Keypoints!\n",
        "\n",
        "Bernoulli deals with the outcome of the single trial of the event, whereas Binomial deals with the outcome of the multiple trials of the single event.\n",
        "\n",
        "Bernoulli is used when the outcome of an event is required for only one time, whereas the Binomial is used when the outcome of an event is required multiple times.\n",
        "\n"
      ],
      "metadata": {
        "id": "oDIzp1xQfyab"
      }
    },
    {
      "cell_type": "markdown",
      "source": [
        "**Ques 6**"
      ],
      "metadata": {
        "id": "WH0GxOPshSaF"
      }
    },
    {
      "cell_type": "markdown",
      "source": [
        "A dataset with a mean of 50 and a standard deviation of 10. If we assume that the dataset is normally distributed,then probability that a randomly selected observation will be greater than 60:\n",
        "\n",
        "1st standard deviation covers 68.25%\n",
        "Probability that a randomly selected observation will be greater than 40 and less than 60 is 68.25%\n",
        "\n",
        "Probability that a randomly selected observation will be greater than 60 and less than 40 is 100% - 68.25% = 31.75%\n",
        "\n",
        "Since the normal distribution is symmetric, so \n",
        "Probability that a randomly selected observation will be greater than 60 = 31.75/2= 15.875%\n",
        "\n"
      ],
      "metadata": {
        "id": "_n6z3wu4hVg2"
      }
    },
    {
      "cell_type": "markdown",
      "source": [
        "**Ques 7**"
      ],
      "metadata": {
        "id": "nuaA5Ftgi2tg"
      }
    },
    {
      "cell_type": "markdown",
      "source": [
        "In statistics, uniform distribution refers to a type of probability distribution in which all outcomes are equally likely. A deck of cards has within it uniform distributions because the likelihood of drawing a heart, a club, a diamond, or a spade is equally likely. A coin also has a uniform distribution because the probability of getting either heads or tails in a coin toss is the same.\n",
        "\n",
        "Example of Uniform Distribution\n",
        "There are 52 cards in a traditional deck of cards. In it are four suits: hearts, diamonds, clubs, and spades. Each suit contains an A, 2, 3, 4, 5, 6, 7, 8, 9, 10, J, Q, K, and 2 jokers. However, we'll do away with the jokers and face cards for this example, focusing only on number cards replicated in each suit. As a result, we are left with 40 cards, a set of discrete data.\n",
        "\n",
        "Suppose you want to know the probability of pulling a 2 of hearts from the modified deck. The probability of pulling a 2 of hearts is 1/40 or 2.5%. Each card is unique; therefore, the likelihood that you will pull any one of the cards in the deck is the same.\n",
        "\n",
        "Now, let's consider the likelihood of pulling a heart from the deck. The probability is significantly higher. Why? We are now only concerned with the suits in the deck. Since there are only four suits, pulling a heart yields a probability of 1/4 or 25%."
      ],
      "metadata": {
        "id": "YR2KpH9Gi4kx"
      }
    },
    {
      "cell_type": "markdown",
      "source": [
        "**Ques 8**"
      ],
      "metadata": {
        "id": "FlYZ0nko0NJQ"
      }
    },
    {
      "cell_type": "markdown",
      "source": [
        "Z-score is a statistical measurement that describes a value's relationship to the mean of a group of values. Z-score is measured in terms of standard deviations from the mean. If a Z-score is 0, it indicates that the data point's score is identical to the mean score. A Z-score of 1.0 would indicate a value that is one standard deviation from the mean. Z-scores may be positive or negative, with a positive value indicating the score is above the mean and a negative score indicating it is below the mean.\n",
        "\n",
        "Why Is Z-Score So Important?\n",
        "\n",
        "A z-score is important because it tells where your data lies in the data distribution. For example, if a z-score is 1.5, it is 1.5 standard deviations away from the mean. At its most basic level, investors and traders use quantitative analysis methods such as a z-score to determine how a stock performs compared to other stocks or its own historical performance. In more advanced z-score uses, traders weigh investments based on desirable criteria, develop other indicators, or even try to predict the outcome of a trading strategy."
      ],
      "metadata": {
        "id": "v9kQAgSH0Pam"
      }
    },
    {
      "cell_type": "markdown",
      "source": [
        "**Ques 9**"
      ],
      "metadata": {
        "id": "gIABk4a11E2t"
      }
    },
    {
      "cell_type": "markdown",
      "source": [
        "Central Limit Theorem (CLT)\n",
        "\n",
        "In probability theory, the central limit theorem (CLT) states that the distribution of a sample variable approximates a normal distribution (i.e., a “bell curve”) as the sample size becomes larger, assuming that all samples are identical in size, and regardless of the population's actual distribution shape.\n",
        "\n",
        "Put another way, CLT is a statistical premise that, given a sufficiently large sample size from a population with a finite level of variance, the mean of all sampled variables from the same population will be approximately equal to the mean of the whole population. Furthermore, these samples approximate a normal distribution, with their variances being approximately equal to the variance of the population as the sample size gets larger, according to the law of large numbers.\n",
        "\n",
        "Why Is the Central Limit Theorem Useful?\n",
        "\n",
        "The central limit theorem is useful when analyzing large data sets because it allows one to assume that the sampling distribution of the mean will be normally-distributed in most cases. This allows for easier statistical analysis and inference. For example, investors can use central limit theorem to aggregate individual security performance data and generate distribution of sample means that represent a larger population distribution for security returns over a period of time."
      ],
      "metadata": {
        "id": "CFid7XEg1HOs"
      }
    },
    {
      "cell_type": "markdown",
      "source": [
        "**Ques 10**"
      ],
      "metadata": {
        "id": "JehvR2Q83INZ"
      }
    },
    {
      "cell_type": "markdown",
      "source": [
        "The assumptions behind CLT:\n",
        "\n",
        "The data must adhere to the randomization rule. It needs to be sampled at random.\n",
        "\n",
        "The samples should be unrelated to one another. One sample should not impact the others.\n",
        "\n",
        "When taking samples without replacement, the sample size should not exceed 10% of the population."
      ],
      "metadata": {
        "id": "QqKMUrmk3LXZ"
      }
    }
  ]
}