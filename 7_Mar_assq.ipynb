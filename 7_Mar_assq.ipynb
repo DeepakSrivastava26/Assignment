{
  "nbformat": 4,
  "nbformat_minor": 0,
  "metadata": {
    "colab": {
      "provenance": []
    },
    "kernelspec": {
      "name": "python3",
      "display_name": "Python 3"
    },
    "language_info": {
      "name": "python"
    }
  },
  "cells": [
    {
      "cell_type": "markdown",
      "source": [
        "Ques1"
      ],
      "metadata": {
        "id": "NzqyRBsbbV0Y"
      }
    },
    {
      "cell_type": "markdown",
      "source": [
        "There are three main measures of central tendency:\n",
        "mode\n",
        "median\n",
        "mean"
      ],
      "metadata": {
        "id": "UIljzHKEbXkD"
      }
    },
    {
      "cell_type": "markdown",
      "source": [
        "Ques 2"
      ],
      "metadata": {
        "id": "k9mBmzBYbaY3"
      }
    },
    {
      "cell_type": "markdown",
      "source": [
        "i) Mean\n",
        "\n",
        "The mean represents the average value of the dataset. It can be calculated as the sum of all the values in the dataset divided by the number of values.\n",
        "\n",
        "ii) Median\n",
        "\n",
        "The median is the middle value. It is the value that splits the dataset in half, making it a natural measure of central tendency.\n",
        "\n",
        "To find the median, order your data from smallest to largest, and then find the data point that has an equal number of values above it and below it. The method for locating the median varies slightly depending on whether your dataset has an even or odd number of values\n",
        "\n",
        "iii) Mode\n",
        "\n",
        "The mode is the value that occurs the most frequently in your data set, making it a different type of measure of central tendency than the mean or median.\n",
        "\n",
        "To find the mode, sort the values in your dataset by numeric values or by categories. Then identify the value that occurs most often."
      ],
      "metadata": {
        "id": "64wFdubCbccH"
      }
    },
    {
      "cell_type": "markdown",
      "source": [
        "Ques 3"
      ],
      "metadata": {
        "id": "K91NfhyCytKp"
      }
    },
    {
      "cell_type": "code",
      "source": [
        "from functools import reduce\n",
        "lst=[178,177,176,177,178.2,178,175,179,180,175,178.9,176.2,177,172.5,178,176.5]\n",
        "y = reduce(lambda a,b: a+b ,lst)\n",
        "print(y/len(lst))"
      ],
      "metadata": {
        "colab": {
          "base_uri": "https://localhost:8080/"
        },
        "id": "hYYrTdQ3yvid",
        "outputId": "05350a9d-ab8c-492a-e08b-5f6aedae7be1"
      },
      "execution_count": 5,
      "outputs": [
        {
          "output_type": "stream",
          "name": "stdout",
          "text": [
            "177.01875\n"
          ]
        }
      ]
    },
    {
      "cell_type": "markdown",
      "source": [
        "Ques 4"
      ],
      "metadata": {
        "id": "SisWso44zpeU"
      }
    },
    {
      "cell_type": "code",
      "source": [
        "lst = [178,177,176,177,178.2,178,175,179,180,175,178.9,176.2,177,172.5,178,176.5]\n",
        "mean= sum(lst)/len(lst)\n",
        "var= sum([((x-mean)**2) for x in lst])/len(lst)\n",
        "std_dev= var**0.5\n",
        "print(std_dev)"
      ],
      "metadata": {
        "colab": {
          "base_uri": "https://localhost:8080/"
        },
        "id": "T25YULxez86T",
        "outputId": "99df443b-455e-4221-9fe9-0674b5c8e7f2"
      },
      "execution_count": 6,
      "outputs": [
        {
          "output_type": "stream",
          "name": "stdout",
          "text": [
            "1.7885814036548633\n"
          ]
        }
      ]
    },
    {
      "cell_type": "markdown",
      "source": [
        "Ques 5"
      ],
      "metadata": {
        "id": "rJ3FPJAvx_Lo"
      }
    },
    {
      "cell_type": "markdown",
      "source": [
        "Range\n",
        "The range is the easiest dispersion of data or measure of variability. The range can measure by subtracting the lowest value from the massive Number. The wide range indicates high variability, and the small range specifies low variability in the distribution. To calculate a range, prepare all the values in ascending order, then subtract the lowest value from the highest value.\n",
        "\n",
        " .\n",
        "\n",
        "         Range = Highest_value  – Lowest_value\n",
        "         "
      ],
      "metadata": {
        "id": "Jts4jQT0yAY2"
      }
    },
    {
      "cell_type": "markdown",
      "source": [
        "Variance: Deduct the mean from each data in the set, square each of them and add each square and finally divide them by the total no of values in the data set to get the variance. Variance (σ2) = ∑(X−μ)2/N\n",
        "\n",
        "Standard Deviation: The square root of the variance is known as the standard deviation i.e. S.D. = √σ."
      ],
      "metadata": {
        "id": "gvfWAx1-yXja"
      }
    },
    {
      "cell_type": "markdown",
      "source": [
        "Ques 6"
      ],
      "metadata": {
        "id": "fZARQxRCdUED"
      }
    },
    {
      "cell_type": "markdown",
      "source": [
        "A Venn diagram is an illustration that uses circles to show the relationships among things or finite groups of things. Circles that overlap have a commonality while circles that do not overlap do not share those traits.\n",
        "Venn diagrams are used to depict how items relate to each other against an overall backdrop, universe, data set, or environment. A Venn diagram could be used, for example, to compare two companies within the same industry by illustrating the products both companies offer (where circles overlap) and the products that are exclusive to each company (outer circles). \n",
        "\n",
        "Venn diagrams are, at a basic level, simple pictorial representations of the relationship that exists between two sets of things. However, they can be much more complex. Still, the streamlined purpose of the Venn diagram to illustrate concepts and groups has led to their popularized use in many fields, including statistics, linguistics, logic, education, computer science, and business."
      ],
      "metadata": {
        "id": "jAldqZSadXgN"
      }
    },
    {
      "cell_type": "markdown",
      "source": [
        "Ques 8"
      ],
      "metadata": {
        "id": "eNAVM6rReg7c"
      }
    },
    {
      "cell_type": "markdown",
      "source": [
        "Skewness is a measurement of the distortion of symmetrical distribution or asymmetry in a data set. Skewness is demonstrated on a bell curve when data points are not distributed symmetrically to the left and right sides of the median on a bell curve. If the bell curve is shifted to the left or the right, it is said to be skewed.\n",
        "\n",
        "Skewness can be quantified as a representation of the extent to which a given distribution varies from a normal distribution. A normal distribution has a zero skew, while a lognormal distribution, for example, would exhibit some right skew.\n",
        "\n",
        "There are several different types of distributions and skews. The \"tail\" or string of data points away from the median is impacted for both positive and negative skews. Negative skew refers to a longer or fatter tail on the left side of the distribution, while positive skew refers to a longer or fatter tail on the right. These two skews refer to the direction or weight of the distribution.\n",
        "In addition, a distribution can have a zero skew. Zero skew occurs when a data graph is symmetrical. Regardless of how long or fat the distribution tails are, a zero skew indicates a normal distribution of data. A data set can also have an undefined skewness should the data not provide sufficient information about its distribution.\n",
        "\n",
        "The mean of positively skewed data will be greater than the median. In a negatively skewed distribution, the exact opposite is the case: the mean of negatively skewed data will be less than the median. If the data graphs symmetrically, the distribution has zero skewness, regardless of how long or fat the tails are.\n"
      ],
      "metadata": {
        "id": "qB5KKpR0eiS_"
      }
    },
    {
      "cell_type": "markdown",
      "source": [
        "Ques 9"
      ],
      "metadata": {
        "id": "PHMycmilgHPj"
      }
    },
    {
      "cell_type": "markdown",
      "source": [
        "When the distribution is skewed to the right, the mean is often greater than the median."
      ],
      "metadata": {
        "id": "p8jbumONhmRQ"
      }
    },
    {
      "cell_type": "markdown",
      "source": [
        "Ques 10"
      ],
      "metadata": {
        "id": "9a6gXHIzioYH"
      }
    },
    {
      "cell_type": "markdown",
      "source": [
        "Covariance is a statistical term that refers to a systematic relationship between two random variables in which a change in the other reflects a change in one variable.\n",
        "\n",
        "The covariance value can range from -∞ to +∞, with a negative value indicating a negative relationship and a positive value indicating a positive relationship.\n",
        "\n",
        "The greater this number, the more reliant the relationship. Positive covariance denotes a direct relationship and is represented by a positive number.\n",
        "\n",
        "A negative number, on the other hand, denotes negative covariance, which indicates an inverse relationship between the two variables. Covariance is great for defining the type of relationship, but it's terrible for interpreting the magnitude.\n"
      ],
      "metadata": {
        "id": "H8rM3kyUioxN"
      }
    },
    {
      "cell_type": "markdown",
      "source": [
        "Correlation analysis is a method of statistical evaluation used to study the strength of a relationship between two, numerically measured, continuous variables.\n",
        "\n",
        "It not only shows the kind of relation (in terms of direction) but also how strong the relationship is. Thus, we can say the correlation values have standardized notions, whereas the covariance values are not standardized and cannot be used to compare how strong or weak the relationship is because the magnitude has no direct significance. It can assume values from -1 to +1. \n",
        "\n",
        "To determine whether the covariance of the two variables is large or small, we need to assess it relative to the standard deviations of the two variables. \n",
        "\n",
        "To do so we have to normalize the covariance by dividing it with the product of the standard deviations of the two variables, thus providing a correlation between the two variables.\n",
        "\n",
        "The main result of a correlation is called the correlation coefficient. "
      ],
      "metadata": {
        "id": "s07bl__4mPWV"
      }
    },
    {
      "cell_type": "markdown",
      "source": [
        "Ques 11"
      ],
      "metadata": {
        "id": "-moxTcO8mkxE"
      }
    },
    {
      "cell_type": "markdown",
      "source": [
        "\n",
        "Mean = (Sum of all the observations/Total number of observations)\n",
        "\n",
        "Example:\n",
        "\n",
        "What is the mean of 2, 4, 6, 8 and 10?\n",
        "\n",
        "Solution:\n",
        "\n",
        "First, add all the numbers.\n",
        "\n",
        "2 + 4 + 6 + 8 + 10 = 30\n",
        "\n",
        "Now divide by 5 (total number of observations).\n",
        "\n",
        "Mean = 30/5 = 6"
      ],
      "metadata": {
        "id": "Kn2CHSjpmj6g"
      }
    },
    {
      "cell_type": "markdown",
      "source": [
        "Ques 12"
      ],
      "metadata": {
        "id": "xEebZMnqm0b5"
      }
    },
    {
      "cell_type": "markdown",
      "source": [
        "For normally distributed data, all three measures of central tendency i.e. mean, median and mode will give you the same answer so they can all be used."
      ],
      "metadata": {
        "id": "PG76MLPlm36v"
      }
    },
    {
      "cell_type": "markdown",
      "source": [
        "Ques 13"
      ],
      "metadata": {
        "id": "kru2MlyDnQJv"
      }
    },
    {
      "cell_type": "markdown",
      "source": [
        "Covariance is an indicator of how two random variables change concerning each other. Correlation, on the other hand, measures the strength of this relationship. The correlation value is bound to the upper by +1 and the lower by -1. Thus, it is a definite range. However, the range of covariance is indefinite. It can take any positive or negative value (theoretically, the range is -∞ to +∞). You can rest assured that a correlation of .5 is greater than .3, and the first set of numbers (with a correlation of .5) are more dependent on each other than the second set (with a correlation of .3). Interpreting such a result would be tough from covariance calculations."
      ],
      "metadata": {
        "id": "8-G5k90snS94"
      }
    },
    {
      "cell_type": "markdown",
      "source": [
        "Ques 14"
      ],
      "metadata": {
        "id": "tNCPCy_JnvZl"
      }
    },
    {
      "cell_type": "markdown",
      "source": [
        "When a outlier is present it can effect the shape of the graph, if we have outliers to the right of the graph. These outliers are causing the mean to increase, but if we have outliers to the left of the graph these outliers are dragging down the mean. This causes a conflict because the mean no longer provides a good representation of the data, alternatively we would much rather use the median. The median on the other hand is less likely to be affect by outliers."
      ],
      "metadata": {
        "id": "qWoAkp5EnwiH"
      }
    },
    {
      "cell_type": "markdown",
      "source": [
        "Range is affected most by extreme scores or outliers but standard deviation and variance are also affected by extremes"
      ],
      "metadata": {
        "id": "788xesSUsarK"
      }
    }
  ]
}