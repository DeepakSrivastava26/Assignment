{
  "nbformat": 4,
  "nbformat_minor": 0,
  "metadata": {
    "colab": {
      "provenance": []
    },
    "kernelspec": {
      "name": "python3",
      "display_name": "Python 3"
    },
    "language_info": {
      "name": "python"
    }
  },
  "cells": [
    {
      "cell_type": "markdown",
      "source": [
        "Ques 1"
      ],
      "metadata": {
        "id": "5NLJJC7__igw"
      }
    },
    {
      "cell_type": "markdown",
      "source": [
        "Artificial intelligence is a field, which combines computer science and robust datasets, to enable problem-solving. It also encompasses sub-fields of machine learning and deep learning, which are frequently mentioned in conjunction with artificial intelligence. \n",
        "\n",
        "Self-driving cars and personal assistants"
      ],
      "metadata": {
        "id": "hhXWfqK__kQv"
      }
    },
    {
      "cell_type": "markdown",
      "source": [
        "Machine learning is a branch of artificial intelligence (AI) and computer science which focuses on the use of data and algorithms to imitate the way that humans learn, gradually improving its accuracy.\n",
        "\n",
        "Netflix’s recommendation engine"
      ],
      "metadata": {
        "id": "dbpFjHmkNNvP"
      }
    },
    {
      "cell_type": "markdown",
      "source": [
        "Deep learning is a subset of machine learning, which is essentially a neural network with three or more layers. These neural networks attempt to simulate the behavior of the human brain\n",
        "\n",
        "Digital assistants, voice-enabled TV remotes, and credit card fraud detection"
      ],
      "metadata": {
        "id": "sUWCinFyOeqn"
      }
    },
    {
      "cell_type": "markdown",
      "source": [
        "Ques 2"
      ],
      "metadata": {
        "id": "ppQLxZ9KOz1z"
      }
    },
    {
      "cell_type": "markdown",
      "source": [
        "Supervised learning, also known as supervised machine learning, is a subcategory of machine learning and artificial intelligence. It is defined by its use of labeled datasets to train algorithms that to classify data or predict outcomes accurately. As input data is fed into the model, it adjusts its weights until the model has been fitted appropriately, which occurs as part of the cross validation process.\n",
        "\n",
        " Supervised learning helps organizations solve for a variety of real-world problems at scale, such as classifying spam in a separate folder from your inbox."
      ],
      "metadata": {
        "id": "mRFRDabYO07k"
      }
    },
    {
      "cell_type": "markdown",
      "source": [
        "Supervised learning can be separated into two types of problems when data mining—classification and regression:\n",
        "\n",
        "Classification uses an algorithm to accurately assign test data into specific categories. It recognizes specific entities within the dataset and attempts to draw some conclusions on how those entities should be labeled or defined. Common classification algorithms are linear classifiers, support vector machines (SVM), decision trees, k-nearest neighbor, and random forest.\n",
        "\n",
        "Regression is used to understand the relationship between dependent and independent variables. It is commonly used to make projections, such as for sales revenue for a given business. Linear regression, logistical regression, and polynomial regression are popular regression algorithms."
      ],
      "metadata": {
        "id": "Ni0ThiDGPPaV"
      }
    },
    {
      "cell_type": "markdown",
      "source": [
        "Ques 3"
      ],
      "metadata": {
        "id": "cQNa8IhFPWRI"
      }
    },
    {
      "cell_type": "markdown",
      "source": [
        "Unsupervised learning, also known as unsupervised machine learning, uses machine learning algorithms to analyze and cluster unlabeled datasets. These algorithms discover hidden patterns or data groupings without the need for human intervention. \n",
        "\n",
        "Its ability to discover similarities and differences in information make it the ideal solution for exploratory data analysis, cross-selling strategies, customer segmentation, and image recognition."
      ],
      "metadata": {
        "id": "X1bLipm0PYix"
      }
    },
    {
      "cell_type": "markdown",
      "source": [
        "Real-world applications of unsupervised learning are:\n",
        "\n",
        "News Sections: Google News uses unsupervised learning to categorize articles on the same story from various online news outlets. For example, the results of a presidential election could be categorized under their label for “US” news.\n",
        "\n",
        "Computer vision: Unsupervised learning algorithms are used for visual perception tasks, such as object recognition.  \n",
        "\n",
        "Medical imaging: Unsupervised machine learning provides essential features to medical imaging devices, such as image detection, classification and segmentation, used in radiology and pathology to diagnose patients quickly and accurately.\n",
        "\n",
        "Anomaly detection: Unsupervised learning models can comb through large amounts of data and discover atypical data points within a dataset. These anomalies can raise awareness around faulty equipment, human error, or breaches in security.\n",
        "\n",
        "Customer personas: Defining customer personas makes it easier to understand common traits and business clients' purchasing habits. Unsupervised learning allows businesses to build better buyer persona profiles, enabling organizations to align their product messaging more appropriately."
      ],
      "metadata": {
        "id": "Ckju5mbQSsC3"
      }
    },
    {
      "cell_type": "markdown",
      "source": [
        "Ques 4"
      ],
      "metadata": {
        "id": "DtjQgXacS2na"
      }
    },
    {
      "cell_type": "markdown",
      "source": [
        "🔹Artificial Intelligence (AI) enables machines to think by understanding, learning from the data, and taking decisions based on patterns hidden in the data or make inferences that would otherwise be very difficult for humans to make manually. The end goal of using ML or DL is to create an AI application or machine as smart as humans.\n",
        "\n",
        "🔹Machine Learning (ML) is a subset of AI; it provides us statistical tools/techniques like Supervised, Unsupervised, and Reinforcement learning to explore and analyze the data.\n",
        "\n",
        "🔹Deep Learning (DL) is further a subset of ML, and the main idea behind it is to make machines learn by mimicking the human brain. Here, we create a multi neural network architecture with the help of different techniques like ANN, CNN, and RNN.\n",
        "\n",
        "🔹Data Science (DS) is basically drawing insights from structured and unstructured data either by using ML or DL or without these techniques. We can even use different visualization tools, statistics, and probability to gain these insights."
      ],
      "metadata": {
        "id": "SjufX91mS689"
      }
    },
    {
      "cell_type": "markdown",
      "source": [
        "Ques 5"
      ],
      "metadata": {
        "id": "a5VY3V1wUf4g"
      }
    },
    {
      "cell_type": "markdown",
      "source": [
        "Supervised Machine Learning\n",
        "\n",
        "Supervised learning is the process where you have input variables (X) and an output variable (Y) and you use an algorithm to learn the mapping function from the input to the output.\n",
        "Y = f(X)\n",
        "The goal is to approximate the mapping function so well that when you have new input data (X) that you can predict the output variables (Y ) for that data. It is called supervised learning because the process of an algorithm learning from the training dataset can be thought of as a teacher supervising the learning process. We know the correct answers; the algorithm iteratively makes predictions on the training data and is corrected by the teacher.\n",
        "\n",
        "Supervised learning problems further grouped into regression and classification problems.\n",
        "Classification: A classification problem is when the output variable is a category, such as red or blue or disease and no disease.\n",
        "Regression: A regression problem is the output variable is a real value, such as dollars or weight."
      ],
      "metadata": {
        "id": "M68gGTwkUgzm"
      }
    },
    {
      "cell_type": "markdown",
      "source": [
        "Unsupervised Machine Learning\n",
        "\n",
        "Unsupervised learning is a machine learning technique, where you do not need to supervise the model. Instead, you need to allow the model to work on its own to discover information. It mainly deals with the unlabeled data. Algorithms are left to their own devises to discover and present the interesting structure in the data. Unsupervised learning is very useful in exploratory analysis because it can automatically identify structure in data. For example, if an analyst were trying to segment consumers, unsupervised clustering methods would be a great starting point for their analysis. In situations where it is either impossible or impractical for a human to propose trends in the data, unsupervised learning can provide initial insights that can then be used to test individual hypotheses.\n",
        "\n",
        "Unsupervised learning problems can be further grouped into clustering and association problems.\n",
        "Clustering: Clustering is an important concept when it comes to unsupervised learning. It mainly deals with finding a structure or pattern in a collection of uncategorized data. Clustering algorithms will process your data and find natural clusters(groups) if they exist in the data.\n",
        "Association: An association rule learning problem is where you want to discover rules that describe large portions of your data. This unsupervised technique is about discovering exciting relationships between variables in large databases."
      ],
      "metadata": {
        "id": "O9NG7YAhVAJ0"
      }
    },
    {
      "cell_type": "markdown",
      "source": [
        "To counter these disadvantages, the concept of Semi-Supervised Learning was introduced. In this type of learning, the algorithm is trained upon a combination of labeled and unlabeled data. Typically, this combination will contain a very small amount of labeled data and a very large amount of unlabeled data. This is useful for a few reasons. First, the process of labeling massive amounts of data for supervised learning is often prohibitively time-consuming and expensive. What’s more, too much labeling can impose human biases on the model. That means including lots of unlabeled data during the training process actually tends to improve the accuracy of the final model while reducing the time and cost spent building it. You can use unsupervised learning techniques to discover and learn the structure in the input variables. You can also use supervised learning techniques to make best guess predictions for the unlabeled data, feed that data back into the supervised learning algorithm as training data and use the model to make predictions on new unseen data.\n",
        "\n",
        "Practical applications of Semi-Supervised Learning:-\n",
        "Speech Analysis: Since labeling of audio files is a very intensive task, Semi-Supervised learning is a very natural approach to solve this problem.\n",
        "Internet Content Classification: Labeling each webpage is an impractical and unfeasible process and thus uses Semi-Supervised learning algorithms.\n",
        "Protein Sequence Classification: Since DNA strands are typically very large in size, the rise of Semi-Supervised learning has been imminent in this field."
      ],
      "metadata": {
        "id": "kNJHOPo-VI6q"
      }
    },
    {
      "cell_type": "markdown",
      "source": [
        "Ques 6"
      ],
      "metadata": {
        "id": "HYZDXaDAVwDH"
      }
    },
    {
      "cell_type": "markdown",
      "source": [
        "The Training Set\n",
        "\n",
        "It is the set of data that is used to train and make the model learn the hidden features/patterns in the data.\n",
        "\n",
        "In each epoch, the same training data is fed to the neural network architecture repeatedly, and the model continues to learn the features of the data.\n",
        "\n",
        "The training set should have a diversified set of inputs so that the model is trained in all scenarios and can predict any unseen data sample that may appear in the future."
      ],
      "metadata": {
        "id": "fmmgt3dmVzcZ"
      }
    },
    {
      "cell_type": "markdown",
      "source": [
        "The Validation Set\n",
        "\n",
        "The validation set is a set of data, separate from the training set, that is used to validate our model performance during training.\n",
        "\n",
        "This validation process gives information that helps us tune the model’s hyperparameters and configurations accordingly. It is like a critic telling us whether the training is moving in the right direction or not.\n",
        "\n",
        "The model is trained on the training set, and, simultaneously, the model evaluation is performed on the validation set after every epoch.\n",
        "\n",
        "The main idea of splitting the dataset into a validation set is to prevent our model from overfitting i.e., the model becomes really good at classifying the samples in the training set but cannot generalize and make accurate classifications on the data it has not seen before. "
      ],
      "metadata": {
        "id": "EGPcAIZXW54W"
      }
    },
    {
      "cell_type": "markdown",
      "source": [
        "The Test Set\n",
        "\n",
        "The test set is a separate set of data used to test the model after completing the training.\n",
        "\n",
        "It provides an unbiased final model performance metric in terms of accuracy, precision, etc. To put it simply, it answers the question of \"How well does the model perform?\""
      ],
      "metadata": {
        "id": "gE3LUn01W-Rl"
      }
    },
    {
      "cell_type": "markdown",
      "source": [
        "Ques 7"
      ],
      "metadata": {
        "id": "YLBwWm3MZCLI"
      }
    },
    {
      "cell_type": "markdown",
      "source": [
        "In the world of human diseases, normal activity can be compared with diseases such as malaria, dengue, swine-flu, etc. for which we have a cure. SarS-CoV-2 (CoViD-19), on the other hand, is an anomaly that has crept into our world of diseases, even a supervised learning procedure to detect this as an anomaly would have failed since a supervised learning model just learns patterns from the features and labels in the given dataset whereas by providing normal data of pre-existing diseases to an unsupervised learning algorithm, we could have detected this virus as an anomaly with high probability since it would not have fallen into the category (cluster) of normal diseases."
      ],
      "metadata": {
        "id": "fHfHbs4uZDK6"
      }
    },
    {
      "cell_type": "markdown",
      "source": [
        "Ques 8"
      ],
      "metadata": {
        "id": "P5N8-huHahAO"
      }
    },
    {
      "cell_type": "markdown",
      "source": [
        "Supervised learning algorithms\n",
        "\n",
        "Neural networks\n",
        "\n",
        "Naive Bayes\n",
        "\n",
        "Linear regression\n",
        "\n",
        "Logistic regression\n",
        "\n",
        "Support vector machine (SVM)\n",
        "\n",
        "K-nearest neighbor\n",
        "\n",
        "Random forest"
      ],
      "metadata": {
        "id": "FsgQRs8qajNf"
      }
    },
    {
      "cell_type": "markdown",
      "source": [
        "Unsupervised learning approaches\n",
        "\n",
        "K-means clustering\n",
        "\n",
        "KNN (k-nearest neighbors)\n",
        "\n",
        "Hierarchal clustering\n",
        "\n",
        "Anomaly detection\n",
        "\n",
        "Neural Networks\n",
        "\n",
        "Principle Component Analysis\n",
        "\n",
        "Independent Component Analysis\n",
        "\n",
        "Apriori algorithm\n",
        "\n",
        "Singular value decomposition"
      ],
      "metadata": {
        "id": "qfDNqayxbITw"
      }
    }
  ]
}