{
  "nbformat": 4,
  "nbformat_minor": 0,
  "metadata": {
    "colab": {
      "provenance": []
    },
    "kernelspec": {
      "name": "python3",
      "display_name": "Python 3"
    },
    "language_info": {
      "name": "python"
    }
  },
  "cells": [
    {
      "cell_type": "markdown",
      "source": [
        "**Ques 1**"
      ],
      "metadata": {
        "id": "27D1gGIK2Osn"
      }
    },
    {
      "cell_type": "markdown",
      "source": [
        "The Probability Density Function(PDF) defines the probability function representing the density of a continuous random variable lying between a specific range of values. In other words, the probability density function produces the likelihood of values of the continuous random variable. Sometimes it is also called a probability distribution function or just a probability function. However, this function is stated in many other sources as the function over a broad set of values. Often it is referred to as cumulative distribution function or sometimes as probability mass function(PMF). However, the actual truth is PDF (probability density function ) is defined for continuous random variables, whereas PMF (probability mass function) is defined for discrete random variables."
      ],
      "metadata": {
        "id": "KBaLFPdk2RZR"
      }
    },
    {
      "cell_type": "markdown",
      "source": [
        "**Ques 2** "
      ],
      "metadata": {
        "id": "Cm8tAajt21TV"
      }
    },
    {
      "cell_type": "markdown",
      "source": [
        "There are two types of probability distribution which are used for different purposes and various types of the data generation process.\n",
        "\n",
        "Normal or Cumulative Probability Distribution\n",
        "\n",
        "Binomial or Discrete Probability Distribution\n",
        "\n",
        "Since the normal distribution statistics estimates many natural events so well, it has evolved into a standard of recommendation for many probability queries. Some of the examples are:\n",
        "\n",
        "Height of the Population of the world\n",
        "\n",
        "Rolling a dice (once or multiple times)\n",
        "\n",
        "To judge the Intelligent Quotient Level of children in this competitive world\n",
        "Tossing a coin\n",
        "\n",
        "Income distribution in countries economy among poor and rich\n",
        "\n",
        "The sizes of females shoes\n",
        "\n",
        "Weight of newly born babies range\n",
        "\n",
        "Average report of Students based on their performance"
      ],
      "metadata": {
        "id": "lzifeQsi22u-"
      }
    },
    {
      "cell_type": "markdown",
      "source": [
        "A distribution is called a discrete probability distribution, where the set of outcomes are discrete in nature.\n",
        "\n",
        "For example, if a dice is rolled, then all the possible outcomes are discrete and give a mass of outcomes. It is also known as the probability mass function.\n",
        "\n",
        "So, the outcomes of binomial distribution consist of n repeated trials and the outcome may or may not occur.\n",
        "Binomial distribution gives the possibility of a different set of outcomes. In the real-life, the concept is used for:\n",
        "\n",
        "To find the number of used and unused materials while manufacturing a product.\n",
        "\n",
        "To take a survey of positive and negative feedback from the people for anything.\n",
        "\n",
        "To check if a particular channel is watched by how many viewers by calculating the survey of YES/NO.\n",
        "\n",
        "The number of men and women working in a company.\n",
        "\n",
        "To count the votes for a candidate in an election and many more."
      ],
      "metadata": {
        "id": "5y8mQ-7M4h-M"
      }
    },
    {
      "cell_type": "markdown",
      "source": [
        "**Ques 3**"
      ],
      "metadata": {
        "id": "rd-May2oy8Hq"
      }
    },
    {
      "cell_type": "code",
      "source": [
        "import numpy as np\n",
        "import matplotlib.pyplot as plt\n",
        "x= np.linspace(1,30,300)\n",
        "def normal_dist(x,mean,std):\n",
        "  pdf= ((2*np.pi*std*std)**-2)*(np.exp(-0.5*((x-mean)/std)**2))\n",
        "  return pdf\n",
        "  \n",
        "mean=np.mean(x)\n",
        "std=np.std(x)   \n",
        "a=normal_dist(x,mean,std)  \n",
        "\n",
        "plt.plot(x,a,color='Red')\n"
      ],
      "metadata": {
        "colab": {
          "base_uri": "https://localhost:8080/",
          "height": 293
        },
        "id": "jeClzqadzBe7",
        "outputId": "29c171a5-cfe0-4036-ef13-640e2b74c5b9"
      },
      "execution_count": null,
      "outputs": [
        {
          "output_type": "execute_result",
          "data": {
            "text/plain": [
              "[<matplotlib.lines.Line2D at 0x7f21cf6f7040>]"
            ]
          },
          "metadata": {},
          "execution_count": 11
        },
        {
          "output_type": "display_data",
          "data": {
            "text/plain": [
              "<Figure size 432x288 with 1 Axes>"
            ],
            "image/png": "[encoded data removed]"
          },
          "metadata": {
            "needs_background": "light"
          }
        }
      ]
    },
    {
      "cell_type": "markdown",
      "source": [
        "**Ques 4**"
      ],
      "metadata": {
        "id": "J78yOW1H42JQ"
      }
    },
    {
      "cell_type": "markdown",
      "source": [
        "The properties of the binomial distribution are:\n",
        "\n",
        "i)There are two possible outcomes: true or false, success or failure, yes or no.\n",
        "\n",
        "ii)There is ‘n’ number of independent trials or a fixed number of n times repeated trials.\n",
        "\n",
        "iii)The probability of success or failure remains the same for each trial.\n",
        "\n",
        "iv)Only the number of success is calculated out of n independent trials.\n",
        "\n",
        "v)Every trial is an independent trial, which means the outcome of one trial does not affect the outcome of another trial."
      ],
      "metadata": {
        "id": "swX1Klz2-F0y"
      }
    },
    {
      "cell_type": "markdown",
      "source": [
        "Examples:\n",
        "\n",
        "i)By using the YES/ NO survey, we can check whether the number of persons views the particular channel.\n",
        "\n",
        "ii)To find the number of male and female employees in an organisation."
      ],
      "metadata": {
        "id": "5NphNhkE-uLX"
      }
    },
    {
      "cell_type": "markdown",
      "source": [
        "**Ques 5**"
      ],
      "metadata": {
        "id": "nVyV2mEEIyd4"
      }
    },
    {
      "cell_type": "code",
      "source": [
        "from matplotlib import pyplot as plt\n",
        "import numpy as np\n",
        "a= np.random.binomial(n=10,p=0.4,size=1000)\n",
        "plt.hist(a)\n",
        "plt.show()\n"
      ],
      "metadata": {
        "colab": {
          "base_uri": "https://localhost:8080/",
          "height": 265
        },
        "id": "ZvPi-fwvI2Oi",
        "outputId": "9cd9cd69-da2c-40f8-b236-d494d44cc702"
      },
      "execution_count": null,
      "outputs": [
        {
          "output_type": "display_data",
          "data": {
            "text/plain": [
              "<Figure size 432x288 with 1 Axes>"
            ],
            "image/png": "[encoded data removed]"
          },
          "metadata": {
            "needs_background": "light"
          }
        }
      ]
    },
    {
      "cell_type": "markdown",
      "source": [
        "**Ques 6**"
      ],
      "metadata": {
        "id": "A0PfPpoOGvp0"
      }
    },
    {
      "cell_type": "code",
      "source": [
        "import numpy as np\n",
        "import matplotlib.pyplot as plt \n",
        "from scipy.stats import poisson\n",
        "k= np.arange(0,18)\n",
        "cdf= poisson.cdf(k,mu=4)\n",
        "plt.plot(k,cdf,marker='o')\n",
        "plt.show()\n"
      ],
      "metadata": {
        "colab": {
          "base_uri": "https://localhost:8080/",
          "height": 430
        },
        "id": "x9XaTt9cGv63",
        "outputId": "4aa79ca6-e1b7-46fb-d8db-f8e7a5c7905c"
      },
      "execution_count": 3,
      "outputs": [
        {
          "output_type": "display_data",
          "data": {
            "text/plain": [
              "<Figure size 640x480 with 1 Axes>"
            ],
            "image/png": "[encoded data removed]"
          },
          "metadata": {}
        }
      ]
    },
    {
      "cell_type": "markdown",
      "source": [
        "**Ques 7**"
      ],
      "metadata": {
        "id": "7CbS66NV7H_f"
      }
    },
    {
      "cell_type": "markdown",
      "source": [
        "\n",
        "The differences between binomial and poisson distribution can be drawn clearly on the following grounds:\n",
        "\n",
        "The binomial distribution is one in which the probability of repeated number of trials is studied. A probability distribution that gives the count of a number of independent events occur randomly within a given period, is called probability distribution.\n",
        "\n",
        "Binomial Distribution is biparametric, i.e. it is featured by two parameters n and p whereas Poisson distribution is uniparametric, i.e. characterised by a single parameter m.\n",
        "\n",
        "There are a fixed number of attempts in the binomial distribution. On the other hand, an unlimited number of trials are there in a poisson distribution.\n",
        "\n",
        "The success probability is constant in binomial distribution but in poisson distribution, there are an extremely small number of success chances.\n",
        "\n",
        "In a binomial distribution, there are only two possible outcomes, i.e. success or failure. Conversely, there are an unlimited number of possible outcomes in the case of poisson distribution.\n",
        "\n",
        "In binomial distribution Mean > Variance while in poisson distribution mean = variance."
      ],
      "metadata": {
        "id": "4cJEOsei7MY4"
      }
    },
    {
      "cell_type": "markdown",
      "source": [
        "**Ques 8**"
      ],
      "metadata": {
        "id": "kcD9eP8aFBob"
      }
    },
    {
      "cell_type": "code",
      "source": [
        "import numpy as np\n",
        "a=np.random.poisson(5,1000)\n",
        "x= sum(a)/len(a)\n",
        "print(\"The mean and variance of poisson distribution is: \", x)"
      ],
      "metadata": {
        "colab": {
          "base_uri": "https://localhost:8080/"
        },
        "id": "Ni73_ZQLFFvg",
        "outputId": "8a343d1f-e52c-4465-ed3f-d365b14628e5"
      },
      "execution_count": 10,
      "outputs": [
        {
          "output_type": "stream",
          "name": "stdout",
          "text": [
            "The mean and variance of poisson distribution is:  4.997\n"
          ]
        }
      ]
    },
    {
      "cell_type": "markdown",
      "source": [
        "**Ques 9**"
      ],
      "metadata": {
        "id": "-efw2IiZ6lgB"
      }
    },
    {
      "cell_type": "markdown",
      "source": [
        "The mean and the variance of the Poisson distribution are the same, which is equal to the average number of successes that occur in the given interval of time.\n",
        "\n",
        "The mean of the binomial distribution is np, and the variance of the binomial distribution is np (1 − p)."
      ],
      "metadata": {
        "id": "RyACZ9486q_X"
      }
    },
    {
      "cell_type": "markdown",
      "source": [
        "**Ques 10**"
      ],
      "metadata": {
        "id": "v6rLwIr0yexf"
      }
    },
    {
      "cell_type": "markdown",
      "source": [
        "In normal distribution with respect to mean position, the least frequent data appear farther away from the mean around the tails of both ends."
      ],
      "metadata": {
        "id": "PMJnhr7fyo6x"
      }
    }
  ]
}