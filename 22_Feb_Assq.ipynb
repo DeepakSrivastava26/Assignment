{
  "nbformat": 4,
  "nbformat_minor": 0,
  "metadata": {
    "colab": {
      "provenance": []
    },
    "kernelspec": {
      "name": "python3",
      "display_name": "Python 3"
    },
    "language_info": {
      "name": "python"
    }
  },
  "cells": [
    {
      "cell_type": "markdown",
      "source": [
        "**Ques 1**"
      ],
      "metadata": {
        "id": "t0OFVmvhA0aR"
      }
    },
    {
      "cell_type": "code",
      "execution_count": null,
      "metadata": {
        "colab": {
          "base_uri": "https://localhost:8080/"
        },
        "id": "tpImDeH082WG",
        "outputId": "1cf1ba9b-bf25-4b46-eb52-a8b40a1f3fda"
      },
      "outputs": [
        {
          "output_type": "stream",
          "name": "stdout",
          "text": [
            "0     4\n",
            "1     8\n",
            "2    15\n",
            "3    16\n",
            "4    23\n",
            "5    42\n",
            "dtype: int64\n"
          ]
        }
      ],
      "source": [
        "import pandas as pd\n",
        "lst= [4,8,15,16,23,42]\n",
        "print(pd.Series(lst))"
      ]
    },
    {
      "cell_type": "markdown",
      "source": [
        "**Ques 2**"
      ],
      "metadata": {
        "id": "Mu3UfzhHBzOl"
      }
    },
    {
      "cell_type": "code",
      "source": [
        "import pandas as pd\n",
        "lst= [\"pandas\",8,\"pwskills\",16,\"assessment\",42,2,43,\"22Feb\", 56]\n",
        "print(pd.Series(lst))\n"
      ],
      "metadata": {
        "colab": {
          "base_uri": "https://localhost:8080/"
        },
        "id": "7rd1m044CChL",
        "outputId": "dbe6519d-3637-4daf-d9e1-f28831f9d7d7"
      },
      "execution_count": null,
      "outputs": [
        {
          "output_type": "stream",
          "name": "stdout",
          "text": [
            "0        pandas\n",
            "1             8\n",
            "2      pwskills\n",
            "3            16\n",
            "4    assessment\n",
            "5            42\n",
            "6             2\n",
            "7            43\n",
            "8         22Feb\n",
            "9            56\n",
            "dtype: object\n"
          ]
        }
      ]
    },
    {
      "cell_type": "markdown",
      "source": [
        "**Ques 3**"
      ],
      "metadata": {
        "id": "p8fzpRvvPGGB"
      }
    },
    {
      "cell_type": "code",
      "source": [
        "import pandas as pd\n",
        "data = { 'Name': ['Alice','Bob','Claire'] , 'Age' : [25,30,27] , 'Gender' : ['Female','Male','Female'] }\n",
        "df = pd.DataFrame(data)\n",
        "df"
      ],
      "metadata": {
        "colab": {
          "base_uri": "https://localhost:8080/",
          "height": 143
        },
        "id": "IEQhXBQfPKOL",
        "outputId": "ae3f0b5b-ed88-4078-fba6-0c4a96fcce39"
      },
      "execution_count": 9,
      "outputs": [
        {
          "output_type": "execute_result",
          "data": {
            "text/plain": [
              "     Name  Age  Gender\n",
              "0   Alice   25  Female\n",
              "1     Bob   30    Male\n",
              "2  Claire   27  Female"
            ],
            "text/html": [
              "\n",
              "  <div id=\"df-31291e10-a8ca-43eb-b479-1dd2b261746f\">\n",
              "    <div class=\"colab-df-container\">\n",
              "      <div>\n",
              "<style scoped>\n",
              "    .dataframe tbody tr th:only-of-type {\n",
              "        vertical-align: middle;\n",
              "    }\n",
              "\n",
              "    .dataframe tbody tr th {\n",
              "        vertical-align: top;\n",
              "    }\n",
              "\n",
              "    .dataframe thead th {\n",
              "        text-align: right;\n",
              "    }\n",
              "</style>\n",
              "<table border=\"1\" class=\"dataframe\">\n",
              "  <thead>\n",
              "    <tr style=\"text-align: right;\">\n",
              "      <th></th>\n",
              "      <th>Name</th>\n",
              "      <th>Age</th>\n",
              "      <th>Gender</th>\n",
              "    </tr>\n",
              "  </thead>\n",
              "  <tbody>\n",
              "    <tr>\n",
              "      <th>0</th>\n",
              "      <td>Alice</td>\n",
              "      <td>25</td>\n",
              "      <td>Female</td>\n",
              "    </tr>\n",
              "    <tr>\n",
              "      <th>1</th>\n",
              "      <td>Bob</td>\n",
              "      <td>30</td>\n",
              "      <td>Male</td>\n",
              "    </tr>\n",
              "    <tr>\n",
              "      <th>2</th>\n",
              "      <td>Claire</td>\n",
              "      <td>27</td>\n",
              "      <td>Female</td>\n",
              "    </tr>\n",
              "  </tbody>\n",
              "</table>\n",
              "</div>\n",
              "      <button class=\"colab-df-convert\" onclick=\"convertToInteractive('df-31291e10-a8ca-43eb-b479-1dd2b261746f')\"\n",
              "              title=\"Convert this dataframe to an interactive table.\"\n",
              "              style=\"display:none;\">\n",
              "        \n",
              "  <svg xmlns=\"http://www.w3.org/2000/svg\" height=\"24px\"viewBox=\"0 0 24 24\"\n",
              "       width=\"24px\">\n",
              "    <path d=\"M0 0h24v24H0V0z\" fill=\"none\"/>\n",
              "    <path d=\"M18.56 5.44l.94 2.06.94-2.06 2.06-.94-2.06-.94-.94-2.06-.94 2.06-2.06.94zm-11 1L8.5 8.5l.94-2.06 2.06-.94-2.06-.94L8.5 2.5l-.94 2.06-2.06.94zm10 10l.94 2.06.94-2.06 2.06-.94-2.06-.94-.94-2.06-.94 2.06-2.06.94z\"/><path d=\"M17.41 7.96l-1.37-1.37c-.4-.4-.92-.59-1.43-.59-.52 0-1.04.2-1.43.59L10.3 9.45l-7.72 7.72c-.78.78-.78 2.05 0 2.83L4 21.41c.39.39.9.59 1.41.59.51 0 1.02-.2 1.41-.59l7.78-7.78 2.81-2.81c.8-.78.8-2.07 0-2.86zM5.41 20L4 18.59l7.72-7.72 1.47 1.35L5.41 20z\"/>\n",
              "  </svg>\n",
              "      </button>\n",
              "      \n",
              "  <style>\n",
              "    .colab-df-container {\n",
              "      display:flex;\n",
              "      flex-wrap:wrap;\n",
              "      gap: 12px;\n",
              "    }\n",
              "\n",
              "    .colab-df-convert {\n",
              "      background-color: #E8F0FE;\n",
              "      border: none;\n",
              "      border-radius: 50%;\n",
              "      cursor: pointer;\n",
              "      display: none;\n",
              "      fill: #1967D2;\n",
              "      height: 32px;\n",
              "      padding: 0 0 0 0;\n",
              "      width: 32px;\n",
              "    }\n",
              "\n",
              "    .colab-df-convert:hover {\n",
              "      background-color: #E2EBFA;\n",
              "      box-shadow: 0px 1px 2px rgba(60, 64, 67, 0.3), 0px 1px 3px 1px rgba(60, 64, 67, 0.15);\n",
              "      fill: #174EA6;\n",
              "    }\n",
              "\n",
              "    [theme=dark] .colab-df-convert {\n",
              "      background-color: #3B4455;\n",
              "      fill: #D2E3FC;\n",
              "    }\n",
              "\n",
              "    [theme=dark] .colab-df-convert:hover {\n",
              "      background-color: #434B5C;\n",
              "      box-shadow: 0px 1px 3px 1px rgba(0, 0, 0, 0.15);\n",
              "      filter: drop-shadow(0px 1px 2px rgba(0, 0, 0, 0.3));\n",
              "      fill: #FFFFFF;\n",
              "    }\n",
              "  </style>\n",
              "\n",
              "      <script>\n",
              "        const buttonEl =\n",
              "          document.querySelector('#df-31291e10-a8ca-43eb-b479-1dd2b261746f button.colab-df-convert');\n",
              "        buttonEl.style.display =\n",
              "          google.colab.kernel.accessAllowed ? 'block' : 'none';\n",
              "\n",
              "        async function convertToInteractive(key) {\n",
              "          const element = document.querySelector('#df-31291e10-a8ca-43eb-b479-1dd2b261746f');\n",
              "          const dataTable =\n",
              "            await google.colab.kernel.invokeFunction('convertToInteractive',\n",
              "                                                     [key], {});\n",
              "          if (!dataTable) return;\n",
              "\n",
              "          const docLinkHtml = 'Like what you see? Visit the ' +\n",
              "            '<a target=\"_blank\" href=https://colab.research.google.com/notebooks/data_table.ipynb>data table notebook</a>'\n",
              "            + ' to learn more about interactive tables.';\n",
              "          element.innerHTML = '';\n",
              "          dataTable['output_type'] = 'display_data';\n",
              "          await google.colab.output.renderOutput(dataTable, element);\n",
              "          const docLink = document.createElement('div');\n",
              "          docLink.innerHTML = docLinkHtml;\n",
              "          element.appendChild(docLink);\n",
              "        }\n",
              "      </script>\n",
              "    </div>\n",
              "  </div>\n",
              "  "
            ]
          },
          "metadata": {},
          "execution_count": 9
        }
      ]
    },
    {
      "cell_type": "markdown",
      "source": [
        "**Ques 4**"
      ],
      "metadata": {
        "id": "qq6uprgwC995"
      }
    },
    {
      "cell_type": "markdown",
      "source": [
        "\n",
        "Data Structures in Pandas\n",
        "\n",
        "Data Structure refers to the specialized way of organizing, processing, and storing data to apply specific types of functionalities to them. \n",
        "\n",
        "Pandas has two main types of Data Structures based on their dependability –\n",
        "\n",
        "Series: 1D labeled array\n",
        "\n",
        "DataFrame: 2D labeled tabular structure"
      ],
      "metadata": {
        "id": "vfTL24CXIEuD"
      }
    },
    {
      "cell_type": "markdown",
      "source": [
        "A pandas DataFrame is a two-dimensional data structure that can be thought of as a spreadsheet. It can also be thought of as a collection of two or more series with common indices.\n"
      ],
      "metadata": {
        "id": "D0zTWGctKtMH"
      }
    },
    {
      "cell_type": "code",
      "source": [
        "import pandas as pd\n",
        "\n",
        "##### INITIALIZATION #####\n",
        "\n",
        "fruits_jack = [\"apples\", \"oranges\", \"bananas\"]\n",
        "fruits_john = [\"guavas\", \"kiwis\", \"strawberries\"]\n",
        "index = [\"a\", \"b\", \"c\"]\n",
        "all_fruits = {\"Jack's\": fruits_jack, \"John's\": fruits_john}\n",
        "\n",
        "fruits = pd.DataFrame(all_fruits, index = index)\n",
        "print(fruits, \"\\n\")\n"
      ],
      "metadata": {
        "colab": {
          "base_uri": "https://localhost:8080/"
        },
        "id": "wR7sHwZIK6pi",
        "outputId": "afabe418-3b18-4eb5-f6e2-0c11ed28eb67"
      },
      "execution_count": null,
      "outputs": [
        {
          "output_type": "stream",
          "name": "stdout",
          "text": [
            "    Jack's        John's\n",
            "a   apples        guavas\n",
            "b  oranges         kiwis\n",
            "c  bananas  strawberries \n",
            "\n"
          ]
        }
      ]
    },
    {
      "cell_type": "markdown",
      "source": [
        "Series\n",
        "\n",
        "A pandas series is a one-dimensional data structure that comprises of key-value pair, where keys/labels are the indices and values are the values stored on that index. It is similar to a python dictionary, except it provides more freedom to manipulate and edit the data."
      ],
      "metadata": {
        "id": "X-ULMtJyLP1m"
      }
    },
    {
      "cell_type": "code",
      "source": [
        "import pandas as pd\n",
        "fruits = pd.Series([\"apples\", \"oranges\", \"bananas\"])\n",
        "\n",
        "print(\"Fruit series:\")\n",
        "print(fruits)"
      ],
      "metadata": {
        "colab": {
          "base_uri": "https://localhost:8080/"
        },
        "id": "kAhwJzRALd-R",
        "outputId": "2d8aec06-8d72-4d9c-8ab0-8e4a6a0a9612"
      },
      "execution_count": null,
      "outputs": [
        {
          "output_type": "stream",
          "name": "stdout",
          "text": [
            "Fruit series:\n",
            "0     apples\n",
            "1    oranges\n",
            "2    bananas\n",
            "dtype: object\n"
          ]
        }
      ]
    },
    {
      "cell_type": "markdown",
      "source": [
        "**Ques 5**"
      ],
      "metadata": {
        "id": "GYmYMhLiTCw5"
      }
    },
    {
      "cell_type": "markdown",
      "source": [
        "Some common functions that can be used to manipulate data in a Pandas DataFrame\n",
        "\n",
        "1)Dropping the missing values in DataFrame, it can be done using the dropna() method, it removes all the NaN values in the dataframe.\n",
        "\n",
        "df.dropna()\n",
        "\n",
        "2)Merging DataFrames using merge(), arguments passed are the dataframes to be merged along with the column name.\n",
        "\n",
        "df1 = pd.read_csv(\"country_code.csv\")\n",
        "\n",
        "merged_col = pd.merge(df, df1, on='Name')\n",
        "\n",
        "merged_col\n",
        "\n",
        "3) Renaming the columns of dataframe using rename(), arguments passed are the columns to be renamed & inplace.\n",
        "\n",
        "4)Sorting the DataFrame using sort_values() method.\n",
        "\n",
        "5)Apply Functions, this function is used to apply a function along an axis of dataframe whether it can be row (axis=0) or column (axis=1).\n"
      ],
      "metadata": {
        "id": "pGZXajLfTGme"
      }
    },
    {
      "cell_type": "markdown",
      "source": [
        "**Ques 6**"
      ],
      "metadata": {
        "id": "fhQCehSORP4p"
      }
    },
    {
      "cell_type": "markdown",
      "source": [
        "Key Features of a Series:\n",
        "\n",
        "1)Homogeneous data\n",
        "2)Size Immutable –size cannot be changed\n",
        "3)Values of Data Mutable\n",
        "\n",
        "Key Features of a DataFrame:\n",
        "\n",
        "1)Heterogeneous data \n",
        "2)Size Mutable\n",
        "3)Data Mutable\n",
        " \n",
        "\n",
        "Panel in pandas:\n",
        "\n",
        "Panel is a three-dimensional data structure with heterogeneous data.\n",
        "\n",
        "\n",
        "Key Features of a Panel:\n",
        "\n",
        "1)Heterogeneous data\n",
        "2)Size Mutable\n",
        "3)Data Mutable"
      ],
      "metadata": {
        "id": "98PgELJXOelY"
      }
    },
    {
      "cell_type": "markdown",
      "source": [
        "**Ques 7**"
      ],
      "metadata": {
        "id": "683M23RaTQbm"
      }
    },
    {
      "cell_type": "markdown",
      "source": [
        "Create DataFrame From Multiple Series\n",
        "\n",
        "We have created two lists ‘author’ and article’ which have been passed to pd.Series() functions to create two Series. After creating the Series, we created a dictionary and passed Series objects as values of the dictionary, and the keys of the dictionary will be served as Columns of the Dataframe."
      ],
      "metadata": {
        "id": "rJbSTfA3TSFS"
      }
    },
    {
      "cell_type": "code",
      "source": [
        "# Importing Pandas library\n",
        "import pandas as pd\n",
        "\n",
        "# Creating two lists\n",
        "author = ['Jitender', 'Purnima',\n",
        "\t\t'Arpit', 'Jyoti']\n",
        "article = [210, 211, 114, 178]\n",
        "\n",
        "# Creating two Series by passing lists\n",
        "auth_series = pd.Series(author)\n",
        "article_series = pd.Series(article)\n",
        "\n",
        "# Creating a dictionary by passing Series objects as values\n",
        "frame = {'Author': auth_series,\n",
        "\t\t'Article': article_series}\n",
        "\n",
        "# Creating DataFrame by passing Dictionary\n",
        "result = pd.DataFrame(frame)\n",
        "\n",
        "# Printing elements of Dataframe\n",
        "print(result)\n"
      ],
      "metadata": {
        "colab": {
          "base_uri": "https://localhost:8080/"
        },
        "id": "vaFGO_uQTSoi",
        "outputId": "fa5e86e1-93b7-418a-af12-52812ee6a558"
      },
      "execution_count": null,
      "outputs": [
        {
          "output_type": "stream",
          "name": "stdout",
          "text": [
            "     Author  Article\n",
            "0  Jitender      210\n",
            "1   Purnima      211\n",
            "2     Arpit      114\n",
            "3     Jyoti      178\n"
          ]
        }
      ]
    }
  ]
}