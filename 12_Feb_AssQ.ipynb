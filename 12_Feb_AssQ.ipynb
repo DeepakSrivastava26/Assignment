{
  "nbformat": 4,
  "nbformat_minor": 0,
  "metadata": {
    "colab": {
      "provenance": []
    },
    "kernelspec": {
      "name": "python3",
      "display_name": "Python 3"
    },
    "language_info": {
      "name": "python"
    }
  },
  "cells": [
    {
      "cell_type": "markdown",
      "source": [
        "Ques1"
      ],
      "metadata": {
        "id": "vHxBFWvsQMvK"
      }
    },
    {
      "cell_type": "markdown",
      "source": [
        "Exceptions\n",
        "\n",
        "Even if a statement or expression is syntactically correct, it may cause an error when an attempt is made to execute it.\n",
        "\n",
        "Errors detected during code execution are called exceptions and are not unconditionally fatal.\n",
        "\n",
        "An exception is an event, which occurs during the execution of a program that disrupts the normal flow of the program's instructions. In general, when a Python script encounters a situation that it cannot cope with, it raises an exception. An exception is a Python object that represents an error.\n",
        "\n",
        "When a Python script raises an exception, it must either handle the exception immediately otherwise it terminates and quits."
      ],
      "metadata": {
        "id": "f1CZvGyJQM1I"
      }
    },
    {
      "cell_type": "markdown",
      "source": [
        "Difference: Exception and Error\n",
        "\n",
        "Exceptions are those which can be handled at the run time whereas errors cannot be handled"
      ],
      "metadata": {
        "id": "GDCxg_CaRHkJ"
      }
    },
    {
      "cell_type": "markdown",
      "source": [
        "Ques2"
      ],
      "metadata": {
        "id": "sD83nBXiRlkO"
      }
    },
    {
      "cell_type": "markdown",
      "source": [
        "In python, an exception is a class that represents error. If these exceptions are not handled, our application or programs go into a crash state. And the code beyond the exception error will not be executed."
      ],
      "metadata": {
        "id": "ngPgxkIkRmn-"
      }
    },
    {
      "cell_type": "code",
      "source": [
        "a = 10\n",
        "b = 0\n",
        "c = a/b\n",
        "print(c)\n"
      ],
      "metadata": {
        "colab": {
          "base_uri": "https://localhost:8080/",
          "height": 217
        },
        "id": "INT6apUzXyto",
        "outputId": "5c499bd9-f89d-4379-df41-b08c00a8fe16"
      },
      "execution_count": 5,
      "outputs": [
        {
          "output_type": "error",
          "ename": "ZeroDivisionError",
          "evalue": "ignored",
          "traceback": [
            "\u001b[0;31m---------------------------------------------------------------------------\u001b[0m",
            "\u001b[0;31mZeroDivisionError\u001b[0m                         Traceback (most recent call last)",
            "\u001b[0;32m<ipython-input-5-16fdd7ba8379>\u001b[0m in \u001b[0;36m<module>\u001b[0;34m\u001b[0m\n\u001b[1;32m      1\u001b[0m \u001b[0ma\u001b[0m \u001b[0;34m=\u001b[0m \u001b[0;36m10\u001b[0m\u001b[0;34m\u001b[0m\u001b[0;34m\u001b[0m\u001b[0m\n\u001b[1;32m      2\u001b[0m \u001b[0mb\u001b[0m \u001b[0;34m=\u001b[0m \u001b[0;36m0\u001b[0m\u001b[0;34m\u001b[0m\u001b[0;34m\u001b[0m\u001b[0m\n\u001b[0;32m----> 3\u001b[0;31m \u001b[0mc\u001b[0m \u001b[0;34m=\u001b[0m \u001b[0ma\u001b[0m\u001b[0;34m/\u001b[0m\u001b[0mb\u001b[0m\u001b[0;34m\u001b[0m\u001b[0;34m\u001b[0m\u001b[0m\n\u001b[0m\u001b[1;32m      4\u001b[0m \u001b[0mprint\u001b[0m\u001b[0;34m(\u001b[0m\u001b[0mc\u001b[0m\u001b[0;34m)\u001b[0m\u001b[0;34m\u001b[0m\u001b[0;34m\u001b[0m\u001b[0m\n",
            "\u001b[0;31mZeroDivisionError\u001b[0m: division by zero"
          ]
        }
      ]
    },
    {
      "cell_type": "markdown",
      "source": [
        "Ques 3"
      ],
      "metadata": {
        "id": "wGAa_KRYWuJg"
      }
    },
    {
      "cell_type": "markdown",
      "source": [
        "Try and except statements are used to catch and handle exceptions in Python. Statements that can raise exceptions are kept inside the try clause and the statements that handle the exception are written inside except clause."
      ],
      "metadata": {
        "id": "UjgG9QqPWv_3"
      }
    },
    {
      "cell_type": "code",
      "source": [
        "# Python program to handle simple runtime error\n",
        "#Python 3\n",
        "\n",
        "a = [1, 2, 3]\n",
        "try:\n",
        "\tprint (\"Second element = %d\" %(a[1]))\n",
        "\n",
        "\t# Throws error since there are only 3 elements in array\n",
        "\tprint (\"Fourth element = %d\" %(a[3]))\n",
        "\n",
        "except:\n",
        "\tprint (\"An error occurred\")\n"
      ],
      "metadata": {
        "colab": {
          "base_uri": "https://localhost:8080/"
        },
        "id": "DM2nKe-MXZTC",
        "outputId": "6d837b7d-74ba-4e38-f83b-a474929a0771"
      },
      "execution_count": 2,
      "outputs": [
        {
          "output_type": "stream",
          "name": "stdout",
          "text": [
            "Second element = 2\n",
            "An error occurred\n"
          ]
        }
      ]
    },
    {
      "cell_type": "markdown",
      "source": [
        "Ques 4"
      ],
      "metadata": {
        "id": "LJMo9GoSYRVv"
      }
    },
    {
      "cell_type": "markdown",
      "source": [
        "a)  Try: This block will test the excepted error to occur\n",
        "\n",
        "Except:  Here you can handle the error\n",
        "\n",
        "Else: If there is no exception then this block will be executed"
      ],
      "metadata": {
        "id": "xQQgOFFPYSuR"
      }
    },
    {
      "cell_type": "code",
      "source": [
        "try:\n",
        "  print(\"Hello\")\n",
        "except:\n",
        "  print(\"Something went wrong\")\n",
        "else:\n",
        "  print(\"Nothing went wrong\")"
      ],
      "metadata": {
        "id": "v7LsS2OKYiDy"
      },
      "execution_count": null,
      "outputs": []
    },
    {
      "cell_type": "markdown",
      "source": [
        "b) The finally block will always be executed, no matter if the try block raises an error or not:"
      ],
      "metadata": {
        "id": "hsMjWI7bY2kP"
      }
    },
    {
      "cell_type": "code",
      "source": [
        "try:\n",
        "  x > 3\n",
        "except:\n",
        "  print(\"Something went wrong\")\n",
        "else:\n",
        "  print(\"Nothing went wrong\")\n",
        "finally:\n",
        "  print(\"The try...except block is finished\")"
      ],
      "metadata": {
        "id": "CsY77Im8ZHCs"
      },
      "execution_count": null,
      "outputs": []
    },
    {
      "cell_type": "markdown",
      "source": [
        "c) Python raise Keyword is used to raise exceptions or errors. The raise keyword raises an error and stops the control flow of the program. It is used to bring up the current exception in an exception handler so that it can be handled further up the call stack"
      ],
      "metadata": {
        "id": "cI1LGhC6ZOxO"
      }
    },
    {
      "cell_type": "code",
      "source": [
        "a = 5\n",
        "\n",
        "if a % 2 != 0:\n",
        "\traise Exception(\"The number shouldn't be an odd integer\")\n"
      ],
      "metadata": {
        "id": "aixQ353XcwBU"
      },
      "execution_count": null,
      "outputs": []
    },
    {
      "cell_type": "markdown",
      "source": [
        "Ques 5"
      ],
      "metadata": {
        "id": "3y-2EOFJiDD5"
      }
    },
    {
      "cell_type": "markdown",
      "source": [
        "Custom exceptions are the exception which can be created as per the specific need of the program. It is needed since many a times we  need input in a certain range like voters should be plus 18."
      ],
      "metadata": {
        "id": "sYVwIX6UiLF8"
      }
    },
    {
      "cell_type": "code",
      "source": [
        "class SalaryNotInRangeError(Exception):\n",
        "    \"\"\"Exception raised for errors in the input salary.\n",
        "\n",
        "    Attributes:\n",
        "        salary -- input salary which caused the error\n",
        "        message -- explanation of the error\n",
        "    \"\"\"\n",
        "\n",
        "    def __init__(self, salary, message=\"Salary is not in (5000, 15000) range\"):\n",
        "        self.salary = salary\n",
        "        self.message = message\n",
        "        super().__init__(self.message)\n",
        "\n",
        "\n",
        "salary = int(input(\"Enter salary amount: \"))\n",
        "if not 5000 < salary < 15000:\n",
        "    raise SalaryNotInRangeError(salary)"
      ],
      "metadata": {
        "id": "5wB3aTE3s4Ba"
      },
      "execution_count": null,
      "outputs": []
    },
    {
      "cell_type": "markdown",
      "source": [
        "Ques 6"
      ],
      "metadata": {
        "id": "HPcogSvJc12s"
      }
    },
    {
      "cell_type": "code",
      "source": [
        "# define Python user-defined exceptions\n",
        "class InvalidAgeException(Exception):\n",
        "    \"Raised when the input value is less than 18\"\n",
        "    pass\n",
        "\n",
        "# you need to guess this number\n",
        "number = 18\n",
        "\n",
        "try:\n",
        "    input_num = int(input(\"Enter a number: \"))\n",
        "    if input_num < number:\n",
        "        raise InvalidAgeException\n",
        "    else:\n",
        "        print(\"Eligible to Vote\")\n",
        "        \n",
        "except InvalidAgeException:\n",
        "    print(\"Exception occurred: Invalid Age\")"
      ],
      "metadata": {
        "colab": {
          "base_uri": "https://localhost:8080/"
        },
        "id": "LWghywIghq3g",
        "outputId": "e0d4d130-5ed1-4f12-b095-e4bf39125b65"
      },
      "execution_count": 6,
      "outputs": [
        {
          "output_type": "stream",
          "name": "stdout",
          "text": [
            "Enter a number: 12\n",
            "Exception occurred: Invalid Age\n"
          ]
        }
      ]
    }
  ]
}