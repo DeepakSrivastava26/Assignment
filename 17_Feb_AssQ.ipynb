{
  "nbformat": 4,
  "nbformat_minor": 0,
  "metadata": {
    "colab": {
      "provenance": []
    },
    "kernelspec": {
      "name": "python3",
      "display_name": "Python 3"
    },
    "language_info": {
      "name": "python"
    }
  },
  "cells": [
    {
      "cell_type": "markdown",
      "source": [
        "**Ques 1**"
      ],
      "metadata": {
        "id": "kxIGcup6z-r_"
      }
    },
    {
      "cell_type": "markdown",
      "source": [
        "MongoDB is a popular open-source document-oriented NoSQL database. It stores data in flexible and JSON-like documents that can have different structures, making it suitable for handling unstructured and semi-structured data.\n",
        "\n",
        "Non-relational databases, also known as NoSQL databases, do not rely on a fixed schema or table structure like SQL databases. They are designed to be more flexible and scalable, and can handle large amounts of unstructured or semi-structured data. Non-relational databases typically use key-value, document, column-family, or graph data models, depending on the specific use case.\n",
        "\n",
        "MongoDB is preferred over SQL databases in scenarios where:\n",
        "\n",
        "Scalability: MongoDB is designed to scale horizontally across multiple servers, making it suitable for handling large amounts of data and traffic.\n",
        "\n",
        "Flexibility: MongoDB's flexible document-oriented data model allows it to handle unstructured and semi-structured data more efficiently than SQL databases.\n",
        "\n",
        "Real-time data processing: MongoDB's ability to handle large volumes of data in real-time, with low latency, makes it ideal for use cases like real-time analytics, IoT data processing, and social media applications.\n",
        "\n",
        "Cloud-based deployment: MongoDB is well-suited for cloud-based deployment, as it can be easily deployed on popular cloud platforms like AWS, Azure, and Google Cloud.\n",
        "\n",
        "In summary, MongoDB is preferred over SQL databases in scenarios where flexibility, scalability, and real-time data processing are crucial requirements."
      ],
      "metadata": {
        "id": "1T8LpUHG0CCg"
      }
    },
    {
      "cell_type": "markdown",
      "source": [
        "**Ques 2**"
      ],
      "metadata": {
        "id": "OgstjRbS22Iu"
      }
    },
    {
      "cell_type": "markdown",
      "source": [
        "MongoDB is a popular NoSQL database with several features that make it a suitable choice for handling unstructured and semi-structured data. Some of the key features of MongoDB are:\n",
        "\n",
        "Document-oriented: MongoDB stores data in JSON-like documents that are flexible and schema-free, making it easy to handle unstructured and semi-structured data.\n",
        "\n",
        "Scalability: MongoDB is designed to scale horizontally across multiple servers, making it suitable for handling large amounts of data and traffic.\n",
        "\n",
        "High availability: MongoDB supports replica sets, which provide automatic failover and data redundancy, ensuring that data is always available and accessible.\n",
        "\n",
        "Indexing: MongoDB supports multiple types of indexes, including single-field, compound, geospatial, and text indexes, making it easy to perform complex queries on large datasets.\n",
        "\n",
        "Aggregation framework: MongoDB's powerful aggregation framework provides a flexible way to perform complex data processing and analysis operations on large datasets.\n",
        "\n",
        "Sharding: MongoDB supports sharding, which is the process of distributing data across multiple servers, enabling horizontal scaling and improved performance.\n",
        "\n",
        "Ad hoc queries: MongoDB supports ad hoc queries, which allow users to query and analyze data without having to define a schema or structure beforehand.\n",
        "\n",
        "Dynamic schema: MongoDB's dynamic schema allows for easy modification of the database schema, without requiring downtime or complex migrations.\n",
        "\n",
        "In summary, MongoDB's document-oriented design, scalability, high availability, indexing, aggregation framework, sharding, ad hoc queries, and dynamic schema make it a suitable choice for handling unstructured and semi-structured data in a variety of use cases."
      ],
      "metadata": {
        "id": "Q2-R8D86234J"
      }
    },
    {
      "cell_type": "markdown",
      "source": [
        "**Ques 3**"
      ],
      "metadata": {
        "id": "yRAzd6Wo3Hfq"
      }
    },
    {
      "cell_type": "markdown",
      "source": [
        "In this code, we first import the pymongo library, which is the official Python driver for MongoDB. Then, we establish a connection to the MongoDB server running on the local machine at the default port 27017.\n",
        "\n",
        "Next, we create a new database called \"mydatabase\" using the client object. If the database already exists, this line of code will not create a new one, but rather return the existing one.\n",
        "\n",
        "Finally, we create a new collection called \"customers\" in the \"mydatabase\" database using the mydb object. If the collection already exists, this line of code will not create a new one, but rather return the existing one.\n",
        "\n",
        "Note that in MongoDB, collections are created automatically when you insert data into them. So if you don't explicitly create a collection using the create_collection() method, MongoDB will create one for you when you insert data into it."
      ],
      "metadata": {
        "id": "TfkyzBFh3JFf"
      }
    },
    {
      "cell_type": "code",
      "source": [
        "\"\"\"# import pymongo library\n",
        "import pymongo\n",
        "\n",
        "# establish a connection to MongoDB\n",
        "client = pymongo.MongoClient(\"mongodb://localhost:27017/\")\n",
        "\n",
        "# create a new database\n",
        "mydb = client[\"mydatabase\"]\n",
        "\n",
        "# create a new collection\n",
        "mycol = mydb[\"customers\"]\"\"\"\n"
      ],
      "metadata": {
        "colab": {
          "base_uri": "https://localhost:8080/",
          "height": 53
        },
        "id": "vP-ZB-0b3UbU",
        "outputId": "dae87c8b-2369-4dc7-9202-413ce5821db1"
      },
      "execution_count": 4,
      "outputs": [
        {
          "output_type": "execute_result",
          "data": {
            "text/plain": [
              "'# import pymongo library\\nimport pymongo\\n\\n# establish a connection to MongoDB\\nclient = pymongo.MongoClient(\"mongodb://localhost:27017/\")\\n\\n# create a new database\\nmydb = client[\"mydatabase\"]\\n\\n# create a new collection\\nmycol = mydb[\"customers\"]'"
            ],
            "application/vnd.google.colaboratory.intrinsic+json": {
              "type": "string"
            }
          },
          "metadata": {},
          "execution_count": 4
        }
      ]
    },
    {
      "cell_type": "markdown",
      "source": [
        "**Ques 4**"
      ],
      "metadata": {
        "id": "6R0oU9we3eS3"
      }
    },
    {
      "cell_type": "code",
      "source": [
        "\"\"\"import pymongo\n",
        "\n",
        "# establish a connection with MongoDB\n",
        "client = pymongo.MongoClient(\"mongodb://localhost:27017/\")\n",
        "\n",
        "# create a database\n",
        "mydb = client[\"mydatabase\"]\n",
        "\n",
        "# create a collection\n",
        "mycol = mydb[\"mycollection\"]\n",
        "\n",
        "# insert one record\n",
        "record1 = { \"name\": \"John\", \"address\": \"Highway 37\" }\n",
        "mycol.insert_one(record1)\n",
        "\n",
        "# insert many records\n",
        "record2 = { \"name\": \"Bob\", \"address\": \"Oak Street 21\" }\n",
        "record3 = { \"name\": \"Alice\", \"address\": \"Cedar Avenue 15\" }\n",
        "records = [record2, record3]\n",
        "mycol.insert_many(records)\n",
        "\n",
        "# print the inserted record using find_one()\n",
        "print(mycol.find_one())\n",
        "\n",
        "# print all the inserted records using find()\n",
        "for record in mycol.find():\n",
        "    print(record)\"\"\"\n"
      ],
      "metadata": {
        "colab": {
          "base_uri": "https://localhost:8080/",
          "height": 88
        },
        "id": "Ju1T4B7X3ufH",
        "outputId": "fd7422f7-1810-420f-a5c3-c706cabbe572"
      },
      "execution_count": 3,
      "outputs": [
        {
          "output_type": "execute_result",
          "data": {
            "text/plain": [
              "'import pymongo\\n\\n# establish a connection with MongoDB\\nclient = pymongo.MongoClient(\"mongodb://localhost:27017/\")\\n\\n# create a database\\nmydb = client[\"mydatabase\"]\\n\\n# create a collection\\nmycol = mydb[\"mycollection\"]\\n\\n# insert one record\\nrecord1 = { \"name\": \"John\", \"address\": \"Highway 37\" }\\nmycol.insert_one(record1)\\n\\n# insert many records\\nrecord2 = { \"name\": \"Bob\", \"address\": \"Oak Street 21\" }\\nrecord3 = { \"name\": \"Alice\", \"address\": \"Cedar Avenue 15\" }\\nrecords = [record2, record3]\\nmycol.insert_many(records)\\n\\n# print the inserted record using find_one()\\nprint(mycol.find_one())\\n\\n# print all the inserted records using find()\\nfor record in mycol.find():\\n    print(record)'"
            ],
            "application/vnd.google.colaboratory.intrinsic+json": {
              "type": "string"
            }
          },
          "metadata": {},
          "execution_count": 3
        }
      ]
    },
    {
      "cell_type": "markdown",
      "source": [
        "**Ques 5**"
      ],
      "metadata": {
        "id": "lwZszyY34qX6"
      }
    },
    {
      "cell_type": "markdown",
      "source": [
        "The find() method in MongoDB is used to query the database and retrieve the documents that match the specified criteria. It returns a cursor object that can be used to iterate over the resulting documents.\n",
        "\n",
        "To use the find() method in Python, we first need to establish a connection to the MongoDB database and select a collection. Then, we can call the find() method on the collection object and pass a dictionary of query criteria as the argument. For example, the following code retrieves all the documents in a collection named users:\n"
      ],
      "metadata": {
        "id": "vIX9hUzu5Knm"
      }
    },
    {
      "cell_type": "code",
      "source": [
        "\"\"\"import pymongo\n",
        "\n",
        "# establish a connection to the MongoDB database\n",
        "client = pymongo.MongoClient(\"mongodb://localhost:27017/\")\n",
        "\n",
        "# select a database\n",
        "db = client[\"mydatabase\"]\n",
        "\n",
        "# select a collection\n",
        "users = db[\"users\"]\n",
        "\n",
        "# retrieve all the documents in the collection\n",
        "results = users.find()\n",
        "\n",
        "# iterate over the results and print each document\n",
        "for result in results:\n",
        "    print(result)\n",
        "\"\"\""
      ],
      "metadata": {
        "id": "IRv0y1Sd5K2P"
      },
      "execution_count": null,
      "outputs": []
    },
    {
      "cell_type": "markdown",
      "source": [
        "**Ques 6**"
      ],
      "metadata": {
        "id": "ThILTGhg5U2J"
      }
    },
    {
      "cell_type": "markdown",
      "source": [
        "The sort() method in MongoDB is used to sort the documents in a collection based on a specified field or fields. It takes a dictionary as an argument, where the key specifies the field to sort by, and the value specifies the sorting order (1 for ascending order, -1 for descending order).\n",
        "\n",
        "Here is an example of how to use the sort() method in MongoDB:"
      ],
      "metadata": {
        "id": "9lAgVaMv5WlU"
      }
    },
    {
      "cell_type": "code",
      "source": [
        "\"\"\"import pymongo\n",
        "\n",
        "# establish a connection to the MongoDB server\n",
        "client = pymongo.MongoClient(\"mongodb://localhost:27017/\")\n",
        "\n",
        "# select the database and collection\n",
        "db = client[\"mydatabase\"]\n",
        "col = db[\"students\"]\n",
        "\n",
        "# sort the documents by the \"grade\" field in descending order\n",
        "result = col.find().sort(\"grade\", -1)\n",
        "\n",
        "# print the sorted documents\n",
        "for doc in result:\n",
        "    print(doc)\n",
        "\"\"\""
      ],
      "metadata": {
        "id": "CHITV9O95vHI"
      },
      "execution_count": null,
      "outputs": []
    },
    {
      "cell_type": "markdown",
      "source": [
        "**Ques 7**"
      ],
      "metadata": {
        "id": "2XlKBa8P58NT"
      }
    },
    {
      "cell_type": "markdown",
      "source": [
        "\n",
        "In MongoDB, the following methods are used to delete documents and collections:\n",
        "\n",
        "delete_one(): This method is used to delete a single document that matches the specified filter. If multiple documents match the filter, only the first matching document is deleted.\n",
        "\n",
        "delete_many(): This method is used to delete all documents that match the specified filter.\n",
        "\n",
        "drop(): This method is used to drop an entire collection, including all of its documents.\n",
        "\n",
        "These methods are used to delete data from the MongoDB database.\n",
        "\n",
        "The delete_one() and delete_many() methods are useful when you want to selectively delete certain documents based on a filter. For example, you may want to delete all documents with a certain value in a particular field.\n",
        "\n",
        "The drop() method is used to completely remove a collection and all of its documents from the database. This method is useful when you want to completely remove all data associated with a particular collection, such as when you no longer need the data or when you need to recreate the collection with a different schema.\n",
        "\n",
        "It is important to note that these methods should be used with caution, as they permanently delete data from the database. Always double-check your filter before running a delete operation to ensure that you are only deleting the data you intended to delete."
      ],
      "metadata": {
        "id": "YxQao9_85-pN"
      }
    }
  ]
}