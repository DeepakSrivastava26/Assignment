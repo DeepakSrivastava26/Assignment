{
  "nbformat": 4,
  "nbformat_minor": 0,
  "metadata": {
    "colab": {
      "provenance": []
    },
    "kernelspec": {
      "name": "python3",
      "display_name": "Python 3"
    },
    "language_info": {
      "name": "python"
    }
  },
  "cells": [
    {
      "cell_type": "markdown",
      "source": [
        "Ques 1"
      ],
      "metadata": {
        "id": "H52LOE3IuuXa"
      }
    },
    {
      "cell_type": "markdown",
      "source": [
        "In Python, we use the open() method to open files.\n",
        "\n",
        "There are 6 access modes in python."
      ],
      "metadata": {
        "id": "AGo1_HLuvPyj"
      }
    },
    {
      "cell_type": "markdown",
      "source": [
        "Read Only (‘r’) : Open text file for reading. The handle is positioned at the beginning of the file. If the file does not exists, raises the I/O error. This is also the default mode in which a file is opened.\n",
        "\n",
        "Read and Write (‘r+’): Open the file for reading and writing. The handle is positioned at the beginning of the file. Raises I/O error if the file does not exist.\n",
        "\n",
        "Write Only (‘w’) : Open the file for writing. For the existing files, the data is truncated and over-written. The handle is positioned at the beginning of the file. Creates the file if the file does not exist.\n",
        "\n",
        "Write and Read (‘w+’) : Open the file for reading and writing. For an existing file, data is truncated and over-written. The handle is positioned at the beginning of the file.\n",
        "\n",
        "Append Only (‘a’): Open the file for writing. The file is created if it does not exist. The handle is positioned at the end of the file. The data being written will be inserted at the end, after the existing data.\n",
        "\n",
        "Append and Read (‘a+’) : Open the file for reading and writing. The file is created if it does not exist. The handle is positioned at the end of the file. The data being written will be inserted at the end, after the existing data."
      ],
      "metadata": {
        "id": "m6CpfM45vU2o"
      }
    },
    {
      "cell_type": "markdown",
      "source": [
        "Ques 2"
      ],
      "metadata": {
        "id": "kNvuE_sRviJc"
      }
    },
    {
      "cell_type": "markdown",
      "source": [
        "The close() method closes an open file.\n",
        "\n",
        "You should always close your files, in some cases, due to buffering, changes made to a file may not show until you close the file."
      ],
      "metadata": {
        "id": "TKxExEygvkAQ"
      }
    },
    {
      "cell_type": "code",
      "source": [
        "# Open a file\n",
        "#fo = open(\"foo.txt\", \"wb\")\n",
        "#print \"Name of the file: \", fo.name\n",
        "\n",
        "# Close opend file\n",
        "#fo.close()"
      ],
      "metadata": {
        "id": "O_gbKiyAN0rx"
      },
      "execution_count": 8,
      "outputs": []
    },
    {
      "cell_type": "markdown",
      "source": [
        "Ques 3"
      ],
      "metadata": {
        "id": "tWn6JOdcwTWx"
      }
    },
    {
      "cell_type": "code",
      "source": [
        "f = open(\"myfile.txt\", \"w\") \n",
        "f.write(\"I want to become a Data Scientist\\n\")\n",
        "f.close()\n",
        "f = open(\"myfile.txt\", \"r\")\n",
        "f.read()"
      ],
      "metadata": {
        "colab": {
          "base_uri": "https://localhost:8080/",
          "height": 36
        },
        "id": "xTwiGc0UwV2h",
        "outputId": "e77bb71d-423b-4c77-bfd5-5c3eeb789b7f"
      },
      "execution_count": null,
      "outputs": [
        {
          "output_type": "execute_result",
          "data": {
            "text/plain": [
              "'I want to become a Data Scientist\\n'"
            ],
            "application/vnd.google.colaboratory.intrinsic+json": {
              "type": "string"
            }
          },
          "metadata": {},
          "execution_count": 8
        }
      ]
    },
    {
      "cell_type": "markdown",
      "source": [
        "Ques 4"
      ],
      "metadata": {
        "id": "ivvx-hpB3B-M"
      }
    },
    {
      "cell_type": "markdown",
      "source": [
        "Python read()\n",
        "The read method reads the entire contents of a file and returns it as a string."
      ],
      "metadata": {
        "id": "c4Y2CJYZ3GNn"
      }
    },
    {
      "cell_type": "code",
      "source": [
        " \n",
        "#with open(\"file.txt\", \"r\") as file:\n",
        "#    content = file.read()\n",
        "#    print(content)\n"
      ],
      "metadata": {
        "id": "R9R-n0iEO2gU"
      },
      "execution_count": null,
      "outputs": []
    },
    {
      "cell_type": "markdown",
      "source": [
        "Python readline()\n",
        "The readline method reads a single line from a file and returns it as a string. This means that if you use readline, you can read the contents of a file line by line, which can be useful for processing large files that do not fit in memory."
      ],
      "metadata": {
        "id": "k0A2uzTwO586"
      }
    },
    {
      "cell_type": "code",
      "source": [
        "\n",
        "#with open(\"file.txt\", \"r\") as file:\n",
        "#    line = file.readline()\n",
        " #   while line:\n",
        "#        print(line.strip())   \n",
        "#        line = file.readline()"
      ],
      "metadata": {
        "id": "veYRaE56Pl48"
      },
      "execution_count": 7,
      "outputs": []
    },
    {
      "cell_type": "markdown",
      "source": [
        "Python readlines()\n",
        "The readline method reads a single line from a file and returns it as a string, while the readlines method reads the entire contents of a file and returns it as a list of strings, where each element of the list is a single line of the file."
      ],
      "metadata": {
        "id": "mA6BF_nlPqX9"
      }
    },
    {
      "cell_type": "code",
      "source": [
        "\n",
        "#with open(\"file.txt\") as f:\n",
        "  #line = f.readline()\n",
        "  #print(line)# Prints the first line of the file\n",
        "  #lines = f.readlines()\n",
        "  #print(lines) # Prints a list of all the lines in the file after the first line\n",
        "\n"
      ],
      "metadata": {
        "id": "Gy20lOsCQB26"
      },
      "execution_count": 5,
      "outputs": []
    },
    {
      "cell_type": "markdown",
      "source": [
        "Ques 5"
      ],
      "metadata": {
        "id": "hKrj8xTRyMXI"
      }
    },
    {
      "cell_type": "markdown",
      "source": [
        "Unlike open() where you have to close the file with the close() method, the with statement closes the file for you without you telling it to.\n",
        "\n",
        "This is because the with statement calls 2 built-in methods behind the scene – __enter()__ and __exit()__.\n",
        "\n",
        "The __exit()__ method closes the file when the operation you specify is done."
      ],
      "metadata": {
        "id": "eVv6-PQA2tsT"
      }
    },
    {
      "cell_type": "code",
      "source": [
        "with open(\"hello.txt\", \"w\") as my_file:\n",
        "    my_file.write(\"Hello world \\n\")\n",
        "    my_file.write(\"I hope you're doing well today \\n\")\n",
        "    my_file.write(\"This is a text file \\n\")\n",
        "    my_file.write(\"Have a nice time \\n\")\n",
        "\n",
        "with open(\"hello.txt\") as my_file:\n",
        "    print(my_file.read())\n"
      ],
      "metadata": {
        "colab": {
          "base_uri": "https://localhost:8080/"
        },
        "id": "eyfqGWhg22YA",
        "outputId": "084dfa59-643b-4fcd-f57a-48de8fb9da3f"
      },
      "execution_count": null,
      "outputs": [
        {
          "output_type": "stream",
          "name": "stdout",
          "text": [
            "Hello world \n",
            "I hope you're doing well today \n",
            "This is a text file \n",
            "Have a nice time \n",
            "\n"
          ]
        }
      ]
    },
    {
      "cell_type": "markdown",
      "source": [
        "Ques 6"
      ],
      "metadata": {
        "id": "Pk_B7RZa08sa"
      }
    },
    {
      "cell_type": "markdown",
      "source": [
        "The only difference between the write() and writelines() is that write() is used to write a string to an already opened file while writelines() method is used to write a list of strings in an opened file."
      ],
      "metadata": {
        "id": "oOXThK540-Ul"
      }
    },
    {
      "cell_type": "code",
      "source": [
        "file = open(\"Employees.txt\", \"w\")\n",
        "\n",
        "for i in range(3):\n",
        "name = input(\"Enter the name of the employee: \")\n",
        "file.write(name)\n",
        "file.write(\"\\n\")\n",
        "\t\n",
        "file.close()\n",
        "\n",
        "print(\"Data is written into the file.\")\n"
      ],
      "metadata": {
        "id": "IPAE4a8I2Fbp"
      },
      "execution_count": null,
      "outputs": []
    },
    {
      "cell_type": "code",
      "source": [
        "file1 = open(\"Employees.txt\", \"w\")\n",
        "lst = []\n",
        "for i in range(3):\n",
        "\tname = input(\"Enter the name of the employee: \")\n",
        "\tlst.append(name + '\\n')\n",
        "\t\n",
        "file1.writelines(lst)\n",
        "file1.close()\n",
        "print(\"Data is written into the file.\")\n"
      ],
      "metadata": {
        "id": "O09_z6fc2GCa"
      },
      "execution_count": null,
      "outputs": []
    }
  ]
}